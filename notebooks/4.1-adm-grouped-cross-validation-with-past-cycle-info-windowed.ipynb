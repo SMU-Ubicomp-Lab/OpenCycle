{
 "cells": [
  {
   "cell_type": "code",
   "execution_count": 1,
   "metadata": {
    "collapsed": false
   },
   "outputs": [
    {
     "name": "stdout",
     "output_type": "stream",
     "text": [
      "Populating the interactive namespace from numpy and matplotlib\n"
     ]
    }
   ],
   "source": [
    "%pylab --no-import-all inline"
   ]
  },
  {
   "cell_type": "markdown",
   "metadata": {
    "deletable": true,
    "editable": true
   },
   "source": [
    "# Most general form of cross-validation, with history\n",
    "---\n",
    "\n",
    "This provides little personalization, and still avoids the issue of using a subject's future data for prediction."
   ]
  },
  {
   "cell_type": "code",
   "execution_count": 2,
   "metadata": {
    "collapsed": false,
    "deletable": true,
    "editable": true
   },
   "outputs": [],
   "source": [
    "from os import path\n",
    "import sys\n",
    "\n",
    "import pandas as pd\n",
    "import seaborn as sns\n",
    "\n",
    "from sklearn.metrics import mean_squared_error, mean_absolute_error\n",
    "\n",
    "# Load the \"autoreload\" extension\n",
    "%load_ext autoreload\n",
    "\n",
    "# always reload modules marked with \"%aimport\"\n",
    "%autoreload 1\n",
    "\n",
    "# add the 'src' directory as one where we can import modules\n",
    "src_dir = path.join(\"..\", 'src')\n",
    "sys.path.append(src_dir)\n",
    "\n",
    "# import my method from the source code\n",
    "%aimport features.build_features\n",
    "%aimport models.fit_predict\n",
    "%aimport visualization.visualize\n",
    "from features.build_features import previous_value\n",
    "from models.fit_predict import cv_predict\n",
    "from visualization.visualize import modified_bland_altman_plot"
   ]
  },
  {
   "cell_type": "code",
   "execution_count": 3,
   "metadata": {
    "collapsed": true,
    "deletable": true,
    "editable": true
   },
   "outputs": [],
   "source": [
    "file = path.join(\"..\", \"data\", \"interim\", \"df.csv\")\n",
    "df = pd.read_csv(file, index_col=0)"
   ]
  },
  {
   "cell_type": "markdown",
   "metadata": {},
   "source": [
    "## Compute features"
   ]
  },
  {
   "cell_type": "code",
   "execution_count": 4,
   "metadata": {
    "collapsed": true
   },
   "outputs": [],
   "source": [
    "features = []"
   ]
  },
  {
   "cell_type": "markdown",
   "metadata": {},
   "source": [
    "### Previous `L_PREOVULATION` and `L_CYCLE`"
   ]
  },
  {
   "cell_type": "code",
   "execution_count": 5,
   "metadata": {
    "collapsed": false
   },
   "outputs": [],
   "source": [
    "df['past_L_PREOVULATION'] = previous_value('L_PREOVULATION', df)\n",
    "df['past_L_CYCLE'] = previous_value('L_CYCLE', df)\n",
    "\n",
    "df.dropna(subset=[\n",
    "    'past_L_PREOVULATION', \n",
    "    'past_L_CYCLE'\n",
    "], inplace=True)\n",
    "\n",
    "features += ['past_L_PREOVULATION', 'past_L_CYCLE']"
   ]
  },
  {
   "cell_type": "markdown",
   "metadata": {},
   "source": [
    "### $n$ days of temperature measurements.\n",
    "\n",
    "The use case requires deleting those whose ovulation occurs before these $n$ days."
   ]
  },
  {
   "cell_type": "code",
   "execution_count": 6,
   "metadata": {
    "collapsed": true
   },
   "outputs": [],
   "source": [
    "NUMBER_OF_DAYS = 10\n",
    "df = df[df.L_PREOVULATION > NUMBER_OF_DAYS]  # No use predicting backward in time.\n",
    "temp_measurements = [\"TEMP\" + str(i + 1) for i in range(NUMBER_OF_DAYS)]\n",
    "features += temp_measurements"
   ]
  },
  {
   "cell_type": "code",
   "execution_count": 7,
   "metadata": {
    "collapsed": false
   },
   "outputs": [
    {
     "data": {
      "text/plain": [
       "['past_L_PREOVULATION',\n",
       " 'past_L_CYCLE',\n",
       " 'TEMP1',\n",
       " 'TEMP2',\n",
       " 'TEMP3',\n",
       " 'TEMP4',\n",
       " 'TEMP5',\n",
       " 'TEMP6',\n",
       " 'TEMP7',\n",
       " 'TEMP8',\n",
       " 'TEMP9',\n",
       " 'TEMP10']"
      ]
     },
     "execution_count": 7,
     "metadata": {},
     "output_type": "execute_result"
    }
   ],
   "source": [
    "features"
   ]
  },
  {
   "cell_type": "code",
   "execution_count": 8,
   "metadata": {
    "collapsed": false
   },
   "outputs": [],
   "source": [
    "WINDOW_SIZE = 10\n",
    "\n",
    "TEMP_COLUMNS = [\"TEMP\" + chr(i + ord(\"A\")) for i in range(WINDOW_SIZE)]\n",
    "DISTANCE_COLUMN = [\"DISTANCE\"]\n",
    "OTHER_COLUMNS = [\"COUNTDOWN\", \"past_L_PREOVULATION\", \"past_L_CYCLE\", \"ID\"]\n",
    "STARTING_COLUMNS = TEMP_COLUMNS + DISTANCE_COLUMN + OTHER_COLUMNS\n",
    "df2 = pd.DataFrame(columns=STARTING_COLUMNS)\n",
    "\n",
    "for i in range(99 - WINDOW_SIZE):\n",
    "    df['COUNTDOWN'] = df.L_PREOVULATION - (i + WINDOW_SIZE + 1)\n",
    "    df['DISTANCE'] = i\n",
    "    columns = [\"TEMP\" + str(i + j + 1) for j in range(WINDOW_SIZE)]\n",
    "    df2.columns = columns + DISTANCE_COLUMN + OTHER_COLUMNS\n",
    "    df2 = df2.append(df[df.COUNTDOWN > 0][columns + DISTANCE_COLUMN + OTHER_COLUMNS], ignore_index=True)\n",
    "df2.columns = STARTING_COLUMNS\n",
    "df2.dropna(subset=TEMP_COLUMNS, thresh=WINDOW_SIZE - 1, inplace=True)"
   ]
  },
  {
   "cell_type": "code",
   "execution_count": 9,
   "metadata": {
    "collapsed": true,
    "deletable": true,
    "editable": true
   },
   "outputs": [],
   "source": [
    "X = df2.drop(labels=['COUNTDOWN', 'ID'], axis=1)\n",
    "y = df2.COUNTDOWN\n",
    "grouping = df2.ID"
   ]
  },
  {
   "cell_type": "code",
   "execution_count": 10,
   "metadata": {
    "collapsed": false
   },
   "outputs": [
    {
     "data": {
      "text/plain": [
       "Index(['TEMPA', 'TEMPB', 'TEMPC', 'TEMPD', 'TEMPE', 'TEMPF', 'TEMPG', 'TEMPH',\n",
       "       'TEMPI', 'TEMPJ', 'DISTANCE', 'past_L_PREOVULATION', 'past_L_CYCLE'],\n",
       "      dtype='object')"
      ]
     },
     "execution_count": 10,
     "metadata": {},
     "output_type": "execute_result"
    }
   ],
   "source": [
    "X.columns"
   ]
  },
  {
   "cell_type": "markdown",
   "metadata": {},
   "source": [
    "## Perform regression"
   ]
  },
  {
   "cell_type": "code",
   "execution_count": null,
   "metadata": {
    "collapsed": true
   },
   "outputs": [],
   "source": [
    "from sklearn.model_selection import cross_val_predict, GroupKFold\n",
    "from sklearn.neural_network import MLPRegressor\n",
    "from sklearn.pipeline import Pipeline\n",
    "from sklearn.preprocessing import Imputer, StandardScaler\n",
    "from sklearn.ensemble import RandomForestRegressor"
   ]
  },
  {
   "cell_type": "code",
   "execution_count": null,
   "metadata": {
    "collapsed": false,
    "deletable": true,
    "editable": true
   },
   "outputs": [
    {
     "name": "stderr",
     "output_type": "stream",
     "text": [
      "[Parallel(n_jobs=-1)]: Done   7 out of  10 | elapsed:  3.0min remaining:  1.3min\n"
     ]
    }
   ],
   "source": [
    "mlpr = MLPRegressor(random_state=1337, hidden_layer_sizes=(50, 20))\n",
    "imp = Imputer(strategy='mean')\n",
    "scl = StandardScaler()\n",
    "pipeline = Pipeline([('imp', imp), ('scl', scl), ('mlp', mlpr)])\n",
    "\n",
    "cv = GroupKFold(n_splits=10)\n",
    "\n",
    "y_pred = cross_val_predict(pipeline, X, y,\n",
    "                           cv=cv, groups=grouping,\n",
    "                           verbose=3, n_jobs=-1)"
   ]
  },
  {
   "cell_type": "code",
   "execution_count": null,
   "metadata": {
    "collapsed": false,
    "deletable": true,
    "editable": true
   },
   "outputs": [],
   "source": [
    "mean_squared_error(y_pred=y_pred, y_true=y)"
   ]
  },
  {
   "cell_type": "code",
   "execution_count": null,
   "metadata": {
    "collapsed": false
   },
   "outputs": [],
   "source": [
    "mean_absolute_error(y_pred=y_pred, y_true=y)"
   ]
  },
  {
   "cell_type": "code",
   "execution_count": null,
   "metadata": {
    "collapsed": false,
    "deletable": true,
    "editable": true
   },
   "outputs": [],
   "source": [
    "modified_bland_altman_plot(y_pred, y);"
   ]
  },
  {
   "cell_type": "code",
   "execution_count": null,
   "metadata": {
    "collapsed": false
   },
   "outputs": [],
   "source": []
  },
  {
   "cell_type": "markdown",
   "metadata": {
    "deletable": true,
    "editable": true
   },
   "source": [
    "## Discussion\n",
    "---\n",
    "\n",
    "Our features are only the first ten temperatures of the cycle and the participant's last cycle length and follicular phase length. With it, we achieve a MSE of about 12, which beats the Bortot paper's 15. In terms of use case, this is about equal to the Bortot result."
   ]
  },
  {
   "cell_type": "code",
   "execution_count": null,
   "metadata": {
    "collapsed": false,
    "deletable": true,
    "editable": true
   },
   "outputs": [],
   "source": [
    "df.L_PERIOD.median()"
   ]
  },
  {
   "cell_type": "markdown",
   "metadata": {
    "deletable": true,
    "editable": true
   },
   "source": [
    "Now, the median period length is 5, which means that we are really using measurements of BBT during the period to determine the day of ovulation."
   ]
  },
  {
   "cell_type": "markdown",
   "metadata": {
    "deletable": true,
    "editable": true
   },
   "source": [
    "Since this model has only slight personalization, it's exciting to see how well a personalized model will do."
   ]
  },
  {
   "cell_type": "code",
   "execution_count": null,
   "metadata": {
    "collapsed": true,
    "deletable": true,
    "editable": true
   },
   "outputs": [],
   "source": []
  }
 ],
 "metadata": {
  "anaconda-cloud": {},
  "kernelspec": {
   "display_name": "Python 3",
   "language": "python",
   "name": "python3"
  },
  "language_info": {
   "codemirror_mode": {
    "name": "ipython",
    "version": 3
   },
   "file_extension": ".py",
   "mimetype": "text/x-python",
   "name": "python",
   "nbconvert_exporter": "python",
   "pygments_lexer": "ipython3",
   "version": "3.6.1"
  }
 },
 "nbformat": 4,
 "nbformat_minor": 2
}
