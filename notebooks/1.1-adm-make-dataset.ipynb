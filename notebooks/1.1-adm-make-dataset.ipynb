{
 "cells": [
  {
   "cell_type": "code",
   "execution_count": 1,
   "metadata": {},
   "outputs": [],
   "source": [
    "from pathlib import Path\n",
    "\n",
    "import numpy as np\n",
    "import matplotlib.pyplot as plt\n",
    "import pandas as pd\n",
    "\n",
    "\n",
    "# Load the \"autoreload\" extension\n",
    "%load_ext autoreload\n",
    "\n",
    "# always reload modules marked with \"%aimport\"\n",
    "%autoreload 1\n",
    "\n",
    "# add the 'src' directory as one where we can import modules\n",
    "from os import path\n",
    "import sys\n",
    "src_dir = path.join(\"..\", 'src')\n",
    "sys.path.append(src_dir)\n",
    "\n",
    "# import my method from the source code\n",
    "%aimport features.build_features\n",
    "%aimport models.fit_predict\n",
    "%aimport visualization.visualize\n",
    "from features.build_features import previous_value"
   ]
  },
  {
   "cell_type": "code",
   "execution_count": 2,
   "metadata": {},
   "outputs": [],
   "source": [
    "file = Path(\"..\") / \"data\" / \"interim\" / \"df.csv\"\n",
    "df = pd.read_csv(file, index_col=0)"
   ]
  },
  {
   "cell_type": "code",
   "execution_count": 3,
   "metadata": {},
   "outputs": [
    {
     "data": {
      "text/plain": [
       "['ID',\n",
       " 'SEGMENT_ID',\n",
       " 'CYCLE_ID',\n",
       " 'BIRTH_YR',\n",
       " 'BEGIN_DATE',\n",
       " 'N_SEGMENTS',\n",
       " 'N_CYCLES',\n",
       " 'L_CYCLE',\n",
       " 'L_PREOVULATION',\n",
       " 'L_PERIOD',\n",
       " 'CHILDREN',\n",
       " 'AGE']"
      ]
     },
     "execution_count": 3,
     "metadata": {},
     "output_type": "execute_result"
    }
   ],
   "source": [
    "# List the non-temperature features.\n",
    "[col for col in df.columns if not col.startswith(\"TEMP\")]"
   ]
  },
  {
   "cell_type": "code",
   "execution_count": 4,
   "metadata": {},
   "outputs": [],
   "source": [
    "features = [\"AGE\", \"L_PERIOD\"]"
   ]
  },
  {
   "cell_type": "code",
   "execution_count": 5,
   "metadata": {},
   "outputs": [],
   "source": [
    "df['past_L_PREOVULATION'] = previous_value('L_PREOVULATION', df)\n",
    "df['past_L_CYCLE'] = previous_value('L_CYCLE', df)\n",
    "\n",
    "df.dropna(subset=[\n",
    "    'past_L_PREOVULATION', \n",
    "    'past_L_CYCLE'\n",
    "], inplace=True)\n",
    "\n",
    "features += ['past_L_PREOVULATION', 'past_L_CYCLE']"
   ]
  },
  {
   "cell_type": "code",
   "execution_count": 6,
   "metadata": {},
   "outputs": [],
   "source": [
    "# Hide temperatures after ovulation.\n",
    "\n",
    "def censor_row(row: pd.Series) -> pd.Series:\n",
    "    l_preov = int(row.L_PREOVULATION)\n",
    "    columns_to_censor = [\"TEMP\" + str(i) for i in range(l_preov + 1, 99 + 1)]\n",
    "    row[columns_to_censor] = np.nan\n",
    "    return row\n",
    "\n",
    "df = df.apply(censor_row, axis='columns')"
   ]
  },
  {
   "cell_type": "code",
   "execution_count": 7,
   "metadata": {},
   "outputs": [],
   "source": [
    "# Delete columns (days) without any temperature for anyone\n",
    "df.dropna(how='all', axis='columns', inplace=True)"
   ]
  },
  {
   "cell_type": "code",
   "execution_count": 8,
   "metadata": {},
   "outputs": [],
   "source": [
    "temperature_columns = [col for col in df.columns if col.startswith(\"TEMP\")]\n",
    "features += temperature_columns"
   ]
  },
  {
   "cell_type": "code",
   "execution_count": 9,
   "metadata": {},
   "outputs": [],
   "source": [
    "X = df[features]\n",
    "y = df.L_PREOVULATION\n",
    "grouping = df.ID"
   ]
  },
  {
   "cell_type": "code",
   "execution_count": 10,
   "metadata": {},
   "outputs": [],
   "source": [
    "destination = [\"..\", \"data\", \"processed\"]\n",
    "X.to_csv(path.join(*destination, \"X.csv\"))\n",
    "y.to_csv(path.join(*destination, \"y.csv\"))\n",
    "grouping.to_csv(path.join(*destination, \"grouping.csv\"))"
   ]
  },
  {
   "cell_type": "code",
   "execution_count": null,
   "metadata": {},
   "outputs": [],
   "source": []
  }
 ],
 "metadata": {
  "kernelspec": {
   "display_name": "Python 3",
   "language": "python",
   "name": "python3"
  },
  "language_info": {
   "codemirror_mode": {
    "name": "ipython",
    "version": 3
   },
   "file_extension": ".py",
   "mimetype": "text/x-python",
   "name": "python",
   "nbconvert_exporter": "python",
   "pygments_lexer": "ipython3",
   "version": "3.6.5"
  }
 },
 "nbformat": 4,
 "nbformat_minor": 2
}
