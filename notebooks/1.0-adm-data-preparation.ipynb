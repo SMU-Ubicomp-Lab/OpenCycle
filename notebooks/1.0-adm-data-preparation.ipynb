{
 "cells": [
  {
   "cell_type": "code",
   "execution_count": 1,
   "metadata": {
    "collapsed": false,
    "deletable": true,
    "editable": true,
    "scrolled": true
   },
   "outputs": [
    {
     "name": "stdout",
     "output_type": "stream",
     "text": [
      "Using matplotlib backend: Qt5Agg\n",
      "Populating the interactive namespace from numpy and matplotlib\n"
     ]
    }
   ],
   "source": [
    "%pylab --no-import-all\n",
    "from os import path\n",
    "import pandas as pd"
   ]
  },
  {
   "cell_type": "code",
   "execution_count": 2,
   "metadata": {
    "collapsed": true,
    "deletable": true,
    "editable": true
   },
   "outputs": [],
   "source": [
    "try:\n",
    "    file = path.join(\"..\", \"data\", \"interim\", \"london.csv\")\n",
    "except OSError:\n",
    "    print(\"This repository does not host the data. \"\n",
    "          \"Put the csv in ../data/interim/\")\n",
    "    raise\n",
    "df = pd.read_csv(file, na_values=0)"
   ]
  },
  {
   "cell_type": "markdown",
   "metadata": {
    "deletable": true,
    "editable": true
   },
   "source": [
    "Rename Italian columns to English."
   ]
  },
  {
   "cell_type": "code",
   "execution_count": 3,
   "metadata": {
    "collapsed": true,
    "deletable": true,
    "editable": true
   },
   "outputs": [],
   "source": [
    "df.rename(columns={'DONNA': 'ID',\n",
    "                   'P_SPEZZ': 'GROUP_ID',\n",
    "                   'P_CICLO': 'CYCLE_ID',\n",
    "                   'ANNO_NAS': 'BIRTH_YR',\n",
    "                   'DATA': 'BEGIN_DATE',\n",
    "                   'T_SPEZZ': 'N_GROUPS',\n",
    "                   'T_CICLI': 'N_CYCLES',\n",
    "                   'QUALIFI': 'DESC',\n",
    "                   'TIPOTEMP': 'TEMP_SCALE',\n",
    "                   'L_CICLO': 'L_CYCLE',\n",
    "                   'L_PREOV': 'L_PREOVULATION',\n",
    "                   'L_PERIOD': 'L_PERIOD',\n",
    "                   'FIGLI': 'CHILDREN'\n",
    "                  },\n",
    "         inplace=True)"
   ]
  },
  {
   "cell_type": "markdown",
   "metadata": {
    "deletable": true,
    "editable": true
   },
   "source": [
    "We delete the cycles (rows) where the `L_PREOV` is missing (NA), because this data is unusable - we don't have the variable we seek to predict. **Ex:** If row 100 is deleted, the index would be $..., 98, 99, 101, 102, ...$\n",
    "\n",
    "After these rows are dropped, there are holes created in the index of the data frame. We would like the index numbers to be consecutive, so we use the `reset_index` function."
   ]
  },
  {
   "cell_type": "code",
   "execution_count": 4,
   "metadata": {
    "collapsed": false,
    "deletable": true,
    "editable": true
   },
   "outputs": [],
   "source": [
    "df.dropna(subset=['L_PREOVULATION'], inplace=True)"
   ]
  },
  {
   "cell_type": "markdown",
   "metadata": {
    "deletable": true,
    "editable": true
   },
   "source": [
    "Delete those where DESC != 1 because those are flawed entries."
   ]
  },
  {
   "cell_type": "code",
   "execution_count": 5,
   "metadata": {
    "collapsed": false,
    "deletable": true,
    "editable": true
   },
   "outputs": [],
   "source": [
    "df = df[df.DESC == 1]\n",
    "df.drop('DESC', 1, inplace=True)\n"
   ]
  },
  {
   "cell_type": "markdown",
   "metadata": {
    "deletable": true,
    "editable": true
   },
   "source": [
    "# Process Temperature Readings\n",
    "\n",
    "Decode temperatures to obtain *real* BBT values. Then, convert all celsius values to fahrenheit.\n",
    "\n",
    "Documentation: \n",
    "<doc src=\"../references/BBTProcessing.txt\"/>\n",
    "[\"../references/BBTProcessing.txt\"]"
   ]
  },
  {
   "cell_type": "code",
   "execution_count": 6,
   "metadata": {
    "collapsed": false,
    "deletable": true,
    "editable": true,
    "scrolled": true
   },
   "outputs": [],
   "source": [
    "FAHR = 1\n",
    "CELS = 2\n",
    "for i in range (1,100):\n",
    "    df.ix[df.TEMP_SCALE == FAHR, 'TEMP' + str(i)] =  90 + df.ix[df.TEMP_SCALE == FAHR, 'TEMP' + str(i)]/10\n",
    "    df.ix[df.TEMP_SCALE == CELS, 'TEMP' + str(i)] =  36 + df.ix[df.TEMP_SCALE == CELS , 'TEMP' + str(i)]/10\n",
    "    #Convert celsius temps to fahrenheit\n",
    "    df.ix[df.TEMP_SCALE == CELS, 'TEMP' + str(i)] =  32 + ((9/5) *  df.ix[df.TEMP_SCALE == CELS , 'TEMP' + str(i)])\n",
    "\n",
    "#Display medians one at a time    \n",
    "#df[df.TEMP_SCALE==FAHR].median()\n",
    "#df[df.TEMP_SCALE==CELS].median()"
   ]
  },
  {
   "cell_type": "markdown",
   "metadata": {
    "collapsed": true,
    "deletable": true,
    "editable": true
   },
   "source": [
    "Create an age measurement for each cycle, computed from the birth year and measurement date."
   ]
  },
  {
   "cell_type": "code",
   "execution_count": 7,
   "metadata": {
    "collapsed": false
   },
   "outputs": [],
   "source": [
    "df['AGE'] = (df.BEGIN_DATE.apply(lambda s: int(s.split('-')[-1]) if isinstance(s, str) else s) - df.BIRTH_YR)"
   ]
  },
  {
   "cell_type": "code",
   "execution_count": 8,
   "metadata": {
    "collapsed": false
   },
   "outputs": [],
   "source": [
    "import errno\n",
    "import os\n",
    "\n",
    "destination = [\"..\", \"data\", \"processed\"]\n",
    "try:\n",
    "    os.makedirs(path.join(*destination))\n",
    "except OSError as e:\n",
    "    if e.errno != errno.EEXIST:\n",
    "        raise\n",
    "df.to_csv(path.join(*destination, \"df.csv\"))"
   ]
  }
 ],
 "metadata": {
  "anaconda-cloud": {},
  "kernelspec": {
   "display_name": "Python [default]",
   "language": "python",
   "name": "python3"
  },
  "language_info": {
   "codemirror_mode": {
    "name": "ipython",
    "version": 3
   },
   "file_extension": ".py",
   "mimetype": "text/x-python",
   "name": "python",
   "nbconvert_exporter": "python",
   "pygments_lexer": "ipython3",
   "version": "3.5.2"
  }
 },
 "nbformat": 4,
 "nbformat_minor": 2
}
