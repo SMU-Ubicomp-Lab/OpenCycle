{
 "cells": [
  {
   "cell_type": "code",
   "execution_count": 9,
   "metadata": {
    "collapsed": false,
    "deletable": true,
    "editable": true,
    "scrolled": true
   },
   "outputs": [
    {
     "name": "stdout",
     "output_type": "stream",
     "text": [
      "Using matplotlib backend: Qt5Agg\n",
      "Populating the interactive namespace from numpy and matplotlib\n"
     ]
    }
   ],
   "source": [
    "%pylab --no-import-all\n",
    "from os import path\n",
    "import pandas as pd"
   ]
  },
  {
   "cell_type": "code",
   "execution_count": 10,
   "metadata": {
    "collapsed": true,
    "deletable": true,
    "editable": true
   },
   "outputs": [],
   "source": [
    "try:\n",
    "    file = path.join(\"..\", \"data\", \"interim\", \"london.csv\")\n",
    "except OSError:\n",
    "    print(\"This repository does not host the data. \"\n",
    "          \"Put the csv in ../data/interim/\")\n",
    "    raise\n",
    "df = pd.read_csv(file, na_values=0)"
   ]
  },
  {
   "cell_type": "markdown",
   "metadata": {
    "deletable": true,
    "editable": true
   },
   "source": [
    "Rename Italian columns to English."
   ]
  },
  {
   "cell_type": "code",
   "execution_count": 11,
   "metadata": {
    "collapsed": true,
    "deletable": true,
    "editable": true
   },
   "outputs": [],
   "source": [
    "df.rename(columns={'DONNA': 'ID',\n",
    "                   'P_SPEZZ': 'GROUP_ID',\n",
    "                   'P_CICLO': 'CYCLE_ID',\n",
    "                   'ANNO_NAS': 'BIRTH_YR',\n",
    "                   'DATA': 'BEGIN_DATE',\n",
    "                   'T_SPEZZ': 'N_GROUPS',\n",
    "                   'T_CICLI': 'N_CYCLES',\n",
    "                   'QUALIFI': 'DESC',\n",
    "                   'TIPOTEMP': 'TEMP_SCALE',\n",
    "                   'L_CICLO': 'L_CYCLE',\n",
    "                   'L_PREOV': 'L_PREOVULATION',\n",
    "                   'L_PERIOD': 'L_PERIOD',\n",
    "                   'FIGLI': 'CHILDREN'\n",
    "                  },\n",
    "         inplace=True)"
   ]
  },
  {
   "cell_type": "markdown",
   "metadata": {
    "deletable": true,
    "editable": true
   },
   "source": [
    "We delete the cycles (rows) where the `L_PREOV` is missing (NA), because this data is unusable - we don't have the variable we seek to predict. **Ex:** If row 100 is deleted, the index would be $..., 98, 99, 101, 102, ...$\n",
    "\n",
    "After these rows are dropped, there are holes created in the index of the data frame. We would like the index numbers to be consecutive, so we use the `reset_index` function."
   ]
  },
  {
   "cell_type": "code",
   "execution_count": 12,
   "metadata": {
    "collapsed": false,
    "deletable": true,
    "editable": true
   },
   "outputs": [],
   "source": [
    "df.dropna(subset=['L_PREOVULATION'], inplace=True)"
   ]
  },
  {
   "cell_type": "markdown",
   "metadata": {
    "deletable": true,
    "editable": true
   },
   "source": [
    "Delete those where DESC != 1 because those are flawed entries."
   ]
  },
  {
   "cell_type": "code",
   "execution_count": 13,
   "metadata": {
    "collapsed": false,
    "deletable": true,
    "editable": true
   },
   "outputs": [],
   "source": [
    "df = df[df.DESC == 1]\n",
    "df.drop('DESC', 1, inplace=True)\n"
   ]
  },
  {
   "cell_type": "markdown",
   "metadata": {
    "deletable": true,
    "editable": true
   },
   "source": [
    "Decode temperatures to obtain *real* BBT values. Then, convert all celsius values to fahrenheit."
   ]
  },
  {
   "cell_type": "code",
   "execution_count": 30,
   "metadata": {
    "collapsed": false,
    "deletable": true,
    "editable": true,
    "scrolled": true
   },
   "outputs": [
    {
     "data": {
      "text/plain": [
       "ID                7861.0\n",
       "GROUP_ID             1.0\n",
       "CYCLE_ID            10.0\n",
       "BIRTH_YR            46.0\n",
       "N_GROUPS             1.0\n",
       "N_CYCLES            21.0\n",
       "TEMP_SCALE           2.0\n",
       "L_CYCLE             27.0\n",
       "L_PREOVULATION      15.0\n",
       "L_PERIOD             5.0\n",
       "TEMP1               40.0\n",
       "TEMP2               40.0\n",
       "TEMP3               40.0\n",
       "TEMP4               40.0\n",
       "TEMP5               40.0\n",
       "TEMP6               40.0\n",
       "TEMP7               40.0\n",
       "TEMP8               40.0\n",
       "TEMP9               40.0\n",
       "TEMP10              40.0\n",
       "TEMP11              40.0\n",
       "TEMP12              40.0\n",
       "TEMP13              40.0\n",
       "TEMP14              40.0\n",
       "TEMP15              40.0\n",
       "TEMP16              40.0\n",
       "TEMP17              40.0\n",
       "TEMP18              40.0\n",
       "TEMP19              40.0\n",
       "TEMP20              40.0\n",
       "                   ...  \n",
       "TEMP72              40.0\n",
       "TEMP73              40.0\n",
       "TEMP74              40.0\n",
       "TEMP75              40.0\n",
       "TEMP76              40.0\n",
       "TEMP77              40.0\n",
       "TEMP78              40.0\n",
       "TEMP79              40.0\n",
       "TEMP80               NaN\n",
       "TEMP81              40.0\n",
       "TEMP82              40.0\n",
       "TEMP83              40.0\n",
       "TEMP84              40.0\n",
       "TEMP85              40.0\n",
       "TEMP86              40.0\n",
       "TEMP87              40.0\n",
       "TEMP88              40.0\n",
       "TEMP89              40.0\n",
       "TEMP90              40.0\n",
       "TEMP91              40.0\n",
       "TEMP92               NaN\n",
       "TEMP93               NaN\n",
       "TEMP94               NaN\n",
       "TEMP95               NaN\n",
       "TEMP96               NaN\n",
       "TEMP97               NaN\n",
       "TEMP98               NaN\n",
       "TEMP99               NaN\n",
       "CHILDREN             NaN\n",
       "AGE                 36.0\n",
       "dtype: float64"
      ]
     },
     "execution_count": 30,
     "metadata": {},
     "output_type": "execute_result"
    }
   ],
   "source": [
    "FAHR = 1\n",
    "CELS = 2\n",
    "for i in range (1,100):\n",
    "    df.ix[df.TEMP_SCALE == FAHR, 'TEMP' + str(i)] =  90 + df.ix[df.TEMP_SCALE == FAHR, 'TEMP' + str(i)]/10\n",
    "    df.ix[df.TEMP_SCALE == CELS, 'TEMP' + str(i)] =  36 + df.ix[df.TEMP_SCALE == CELS , 'TEMP' + str(i)]/10\n",
    "    #Convert celsius temps to fahrenheit\n",
    "    #df.ix[df.TEMP_SCALE == CELS, 'TEMP' + str(i)] =  32 + ((9/5) *  df.ix[df.TEMP_SCALE == CELS , 'TEMP' + str(i)])\n",
    "\n",
    "#Display medians one at a time    \n",
    "#df[df.TEMP_SCALE==FAHR].median()\n",
    "df[df.TEMP_SCALE==CELS].median()"
   ]
  },
  {
   "cell_type": "code",
   "execution_count": null,
   "metadata": {
    "collapsed": true
   },
   "outputs": [],
   "source": []
  },
  {
   "cell_type": "markdown",
   "metadata": {
    "collapsed": true,
    "deletable": true,
    "editable": true
   },
   "source": [
    "Create an age measurement for each cycle, computed from the birth year and measurement date."
   ]
  },
  {
   "cell_type": "code",
   "execution_count": 29,
   "metadata": {
    "collapsed": false
   },
   "outputs": [],
   "source": [
    "df['AGE'] = (df.BEGIN_DATE.apply(lambda s: int(s.split('-')[-1]) if isinstance(s, str) else s) - df.BIRTH_YR)"
   ]
  },
  {
   "cell_type": "code",
   "execution_count": 16,
   "metadata": {
    "collapsed": false
   },
   "outputs": [],
   "source": [
    "import errno\n",
    "import os\n",
    "\n",
    "destination = [\"..\", \"data\", \"processed\"]\n",
    "try:\n",
    "    os.makedirs(path.join(*destination))\n",
    "except OSError as e:\n",
    "    if e.errno != errno.EEXIST:\n",
    "        raise\n",
    "df.to_csv(path.join(*destination, \"df.csv\"))"
   ]
  },
  {
   "cell_type": "code",
   "execution_count": null,
   "metadata": {
    "collapsed": true
   },
   "outputs": [],
   "source": []
  },
  {
   "cell_type": "code",
   "execution_count": null,
   "metadata": {
    "collapsed": true
   },
   "outputs": [],
   "source": []
  }
 ],
 "metadata": {
  "anaconda-cloud": {},
  "kernelspec": {
   "display_name": "Python [default]",
   "language": "python",
   "name": "python3"
  },
  "language_info": {
   "codemirror_mode": {
    "name": "ipython",
    "version": 3
   },
   "file_extension": ".py",
   "mimetype": "text/x-python",
   "name": "python",
   "nbconvert_exporter": "python",
   "pygments_lexer": "ipython3",
   "version": "3.5.2"
  }
 },
 "nbformat": 4,
 "nbformat_minor": 2
}
