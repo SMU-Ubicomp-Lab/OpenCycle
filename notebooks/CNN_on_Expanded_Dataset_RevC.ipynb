{
 "cells": [
  {
   "cell_type": "code",
   "execution_count": 1,
   "metadata": {
    "collapsed": true
   },
   "outputs": [],
   "source": [
    "import tensorflow as tf"
   ]
  },
  {
   "cell_type": "code",
   "execution_count": 2,
   "metadata": {
    "collapsed": true
   },
   "outputs": [],
   "source": [
    "%matplotlib inline\n",
    "import pandas as pd\n",
    "import numpy as np\n",
    "import matplotlib as mpl\n",
    "import matplotlib.pyplot as plt\n",
    "import os\n",
    "np.set_printoptions(precision=4)"
   ]
  },
  {
   "cell_type": "code",
   "execution_count": 3,
   "metadata": {},
   "outputs": [
    {
     "name": "stderr",
     "output_type": "stream",
     "text": [
      "Using TensorFlow backend.\n"
     ]
    }
   ],
   "source": [
    "from sklearn.preprocessing import StandardScaler\n",
    "from keras.utils.np_utils import to_categorical\n",
    "\n",
    "from keras.models import Sequential\n",
    "from keras.layers import Dense\n",
    "from keras.optimizers import Adam\n",
    "from keras.optimizers import SGD"
   ]
  },
  {
   "cell_type": "code",
   "execution_count": 4,
   "metadata": {},
   "outputs": [
    {
     "name": "stdout",
     "output_type": "stream",
     "text": [
      "C:/Users/emrijai/Documents/IPython Notebooks/MSDS 6120 - Capstone B\n"
     ]
    }
   ],
   "source": [
    "path = 'C:/Users/emrijai/Documents/IPython Notebooks/MSDS 6120 - Capstone B'\n",
    "os.chdir(path)\n",
    "\n",
    "print (path)"
   ]
  },
  {
   "cell_type": "code",
   "execution_count": 5,
   "metadata": {},
   "outputs": [],
   "source": [
    "df_fe = pd.read_csv('Datasets/Final_Prepared_datafiles/Chunks/Normalized_Train80_Chunk1.csv')\n",
    "df_test = pd.read_csv('Datasets/Final_Prepared_datafiles/Chunks/Normalized_Test20_Chunk1.csv')"
   ]
  },
  {
   "cell_type": "code",
   "execution_count": 6,
   "metadata": {},
   "outputs": [
    {
     "data": {
      "text/html": [
       "<div>\n",
       "<style>\n",
       "    .dataframe thead tr:only-child th {\n",
       "        text-align: right;\n",
       "    }\n",
       "\n",
       "    .dataframe thead th {\n",
       "        text-align: left;\n",
       "    }\n",
       "\n",
       "    .dataframe tbody tr th {\n",
       "        vertical-align: top;\n",
       "    }\n",
       "</style>\n",
       "<table border=\"1\" class=\"dataframe\">\n",
       "  <thead>\n",
       "    <tr style=\"text-align: right;\">\n",
       "      <th></th>\n",
       "      <th>ID</th>\n",
       "      <th>SEGMENT_ID</th>\n",
       "      <th>CYCLE_ID</th>\n",
       "      <th>L_CYCLE</th>\n",
       "      <th>L_PREOVULATION</th>\n",
       "      <th>L_PERIOD</th>\n",
       "      <th>Pre_PreOvL1</th>\n",
       "      <th>Pre_PreOvL2</th>\n",
       "      <th>Pre_L_CYCLE1</th>\n",
       "      <th>Pre_L_Period1</th>\n",
       "      <th>...</th>\n",
       "      <th>Med3-Med6</th>\n",
       "      <th>Med3-Mean6</th>\n",
       "      <th>Med3-Min6</th>\n",
       "      <th>Mean3-Med6</th>\n",
       "      <th>Mean3-Mean6</th>\n",
       "      <th>Mean3-Min6</th>\n",
       "      <th>Max3-Median6</th>\n",
       "      <th>Max3-Mean6</th>\n",
       "      <th>Max3-Min6</th>\n",
       "      <th>Sum_Of_All</th>\n",
       "    </tr>\n",
       "  </thead>\n",
       "  <tbody>\n",
       "    <tr>\n",
       "      <th>0</th>\n",
       "      <td>9.0</td>\n",
       "      <td>1.0</td>\n",
       "      <td>1.0</td>\n",
       "      <td>29.0</td>\n",
       "      <td>13.0</td>\n",
       "      <td>6.0</td>\n",
       "      <td>13.0</td>\n",
       "      <td>13.0</td>\n",
       "      <td>29.0</td>\n",
       "      <td>6.0</td>\n",
       "      <td>...</td>\n",
       "      <td>-0.610512</td>\n",
       "      <td>-0.610512</td>\n",
       "      <td>-0.610512</td>\n",
       "      <td>-0.402721</td>\n",
       "      <td>-0.402721</td>\n",
       "      <td>-0.402721</td>\n",
       "      <td>0.102897</td>\n",
       "      <td>0.102897</td>\n",
       "      <td>0.102897</td>\n",
       "      <td>-2.731009</td>\n",
       "    </tr>\n",
       "    <tr>\n",
       "      <th>1</th>\n",
       "      <td>9.0</td>\n",
       "      <td>1.0</td>\n",
       "      <td>1.0</td>\n",
       "      <td>29.0</td>\n",
       "      <td>13.0</td>\n",
       "      <td>6.0</td>\n",
       "      <td>13.0</td>\n",
       "      <td>13.0</td>\n",
       "      <td>29.0</td>\n",
       "      <td>6.0</td>\n",
       "      <td>...</td>\n",
       "      <td>-0.610512</td>\n",
       "      <td>-0.627662</td>\n",
       "      <td>-0.610512</td>\n",
       "      <td>-0.623524</td>\n",
       "      <td>-0.640674</td>\n",
       "      <td>-0.623524</td>\n",
       "      <td>-0.559513</td>\n",
       "      <td>-0.576662</td>\n",
       "      <td>-0.559513</td>\n",
       "      <td>-5.432096</td>\n",
       "    </tr>\n",
       "    <tr>\n",
       "      <th>2</th>\n",
       "      <td>9.0</td>\n",
       "      <td>1.0</td>\n",
       "      <td>1.0</td>\n",
       "      <td>29.0</td>\n",
       "      <td>13.0</td>\n",
       "      <td>6.0</td>\n",
       "      <td>13.0</td>\n",
       "      <td>13.0</td>\n",
       "      <td>29.0</td>\n",
       "      <td>6.0</td>\n",
       "      <td>...</td>\n",
       "      <td>-0.559513</td>\n",
       "      <td>-0.459904</td>\n",
       "      <td>0.141035</td>\n",
       "      <td>-0.374240</td>\n",
       "      <td>-0.274631</td>\n",
       "      <td>0.326308</td>\n",
       "      <td>0.047306</td>\n",
       "      <td>0.146915</td>\n",
       "      <td>0.747854</td>\n",
       "      <td>-0.258870</td>\n",
       "    </tr>\n",
       "    <tr>\n",
       "      <th>3</th>\n",
       "      <td>9.0</td>\n",
       "      <td>1.0</td>\n",
       "      <td>1.0</td>\n",
       "      <td>29.0</td>\n",
       "      <td>13.0</td>\n",
       "      <td>6.0</td>\n",
       "      <td>13.0</td>\n",
       "      <td>13.0</td>\n",
       "      <td>29.0</td>\n",
       "      <td>6.0</td>\n",
       "      <td>...</td>\n",
       "      <td>-0.450396</td>\n",
       "      <td>-0.249036</td>\n",
       "      <td>0.250151</td>\n",
       "      <td>-0.320868</td>\n",
       "      <td>-0.119507</td>\n",
       "      <td>0.379680</td>\n",
       "      <td>0.047306</td>\n",
       "      <td>0.248667</td>\n",
       "      <td>0.747854</td>\n",
       "      <td>0.533852</td>\n",
       "    </tr>\n",
       "    <tr>\n",
       "      <th>4</th>\n",
       "      <td>9.0</td>\n",
       "      <td>1.0</td>\n",
       "      <td>1.0</td>\n",
       "      <td>29.0</td>\n",
       "      <td>13.0</td>\n",
       "      <td>6.0</td>\n",
       "      <td>13.0</td>\n",
       "      <td>13.0</td>\n",
       "      <td>29.0</td>\n",
       "      <td>6.0</td>\n",
       "      <td>...</td>\n",
       "      <td>-0.116826</td>\n",
       "      <td>-0.101970</td>\n",
       "      <td>0.303965</td>\n",
       "      <td>0.013199</td>\n",
       "      <td>0.028055</td>\n",
       "      <td>0.433990</td>\n",
       "      <td>0.327063</td>\n",
       "      <td>0.341919</td>\n",
       "      <td>0.747854</td>\n",
       "      <td>1.977248</td>\n",
       "    </tr>\n",
       "  </tbody>\n",
       "</table>\n",
       "<p>5 rows × 39 columns</p>\n",
       "</div>"
      ],
      "text/plain": [
       "    ID  SEGMENT_ID  CYCLE_ID  L_CYCLE  L_PREOVULATION  L_PERIOD  Pre_PreOvL1  \\\n",
       "0  9.0         1.0       1.0     29.0            13.0       6.0         13.0   \n",
       "1  9.0         1.0       1.0     29.0            13.0       6.0         13.0   \n",
       "2  9.0         1.0       1.0     29.0            13.0       6.0         13.0   \n",
       "3  9.0         1.0       1.0     29.0            13.0       6.0         13.0   \n",
       "4  9.0         1.0       1.0     29.0            13.0       6.0         13.0   \n",
       "\n",
       "   Pre_PreOvL2  Pre_L_CYCLE1  Pre_L_Period1     ...      Med3-Med6  \\\n",
       "0         13.0          29.0            6.0     ...      -0.610512   \n",
       "1         13.0          29.0            6.0     ...      -0.610512   \n",
       "2         13.0          29.0            6.0     ...      -0.559513   \n",
       "3         13.0          29.0            6.0     ...      -0.450396   \n",
       "4         13.0          29.0            6.0     ...      -0.116826   \n",
       "\n",
       "   Med3-Mean6  Med3-Min6  Mean3-Med6  Mean3-Mean6  Mean3-Min6  Max3-Median6  \\\n",
       "0   -0.610512  -0.610512   -0.402721    -0.402721   -0.402721      0.102897   \n",
       "1   -0.627662  -0.610512   -0.623524    -0.640674   -0.623524     -0.559513   \n",
       "2   -0.459904   0.141035   -0.374240    -0.274631    0.326308      0.047306   \n",
       "3   -0.249036   0.250151   -0.320868    -0.119507    0.379680      0.047306   \n",
       "4   -0.101970   0.303965    0.013199     0.028055    0.433990      0.327063   \n",
       "\n",
       "   Max3-Mean6  Max3-Min6  Sum_Of_All  \n",
       "0    0.102897   0.102897   -2.731009  \n",
       "1   -0.576662  -0.559513   -5.432096  \n",
       "2    0.146915   0.747854   -0.258870  \n",
       "3    0.248667   0.747854    0.533852  \n",
       "4    0.341919   0.747854    1.977248  \n",
       "\n",
       "[5 rows x 39 columns]"
      ]
     },
     "execution_count": 6,
     "metadata": {},
     "output_type": "execute_result"
    }
   ],
   "source": [
    "df_fe.head()"
   ]
  },
  {
   "cell_type": "code",
   "execution_count": 7,
   "metadata": {},
   "outputs": [
    {
     "data": {
      "text/html": [
       "<div>\n",
       "<style>\n",
       "    .dataframe thead tr:only-child th {\n",
       "        text-align: right;\n",
       "    }\n",
       "\n",
       "    .dataframe thead th {\n",
       "        text-align: left;\n",
       "    }\n",
       "\n",
       "    .dataframe tbody tr th {\n",
       "        vertical-align: top;\n",
       "    }\n",
       "</style>\n",
       "<table border=\"1\" class=\"dataframe\">\n",
       "  <thead>\n",
       "    <tr style=\"text-align: right;\">\n",
       "      <th></th>\n",
       "      <th>ID</th>\n",
       "      <th>SEGMENT_ID</th>\n",
       "      <th>CYCLE_ID</th>\n",
       "      <th>L_CYCLE</th>\n",
       "      <th>L_PREOVULATION</th>\n",
       "      <th>L_PERIOD</th>\n",
       "      <th>Pre_PreOvL1</th>\n",
       "      <th>Pre_PreOvL2</th>\n",
       "      <th>Pre_L_CYCLE1</th>\n",
       "      <th>Pre_L_Period1</th>\n",
       "      <th>...</th>\n",
       "      <th>Med3-Med6</th>\n",
       "      <th>Med3-Mean6</th>\n",
       "      <th>Med3-Min6</th>\n",
       "      <th>Mean3-Med6</th>\n",
       "      <th>Mean3-Mean6</th>\n",
       "      <th>Mean3-Min6</th>\n",
       "      <th>Max3-Median6</th>\n",
       "      <th>Max3-Mean6</th>\n",
       "      <th>Max3-Min6</th>\n",
       "      <th>Sum_Of_All</th>\n",
       "    </tr>\n",
       "  </thead>\n",
       "  <tbody>\n",
       "    <tr>\n",
       "      <th>1</th>\n",
       "      <td>9.0</td>\n",
       "      <td>1.0</td>\n",
       "      <td>1.0</td>\n",
       "      <td>29.0</td>\n",
       "      <td>13.0</td>\n",
       "      <td>6.0</td>\n",
       "      <td>13.0</td>\n",
       "      <td>13.0</td>\n",
       "      <td>29.0</td>\n",
       "      <td>6.0</td>\n",
       "      <td>...</td>\n",
       "      <td>-0.610512</td>\n",
       "      <td>-0.627662</td>\n",
       "      <td>-0.610512</td>\n",
       "      <td>-0.623524</td>\n",
       "      <td>-0.640674</td>\n",
       "      <td>-0.623524</td>\n",
       "      <td>-0.559513</td>\n",
       "      <td>-0.576662</td>\n",
       "      <td>-0.559513</td>\n",
       "      <td>-5.432096</td>\n",
       "    </tr>\n",
       "    <tr>\n",
       "      <th>2</th>\n",
       "      <td>9.0</td>\n",
       "      <td>1.0</td>\n",
       "      <td>1.0</td>\n",
       "      <td>29.0</td>\n",
       "      <td>13.0</td>\n",
       "      <td>6.0</td>\n",
       "      <td>13.0</td>\n",
       "      <td>13.0</td>\n",
       "      <td>29.0</td>\n",
       "      <td>6.0</td>\n",
       "      <td>...</td>\n",
       "      <td>-0.559513</td>\n",
       "      <td>-0.459904</td>\n",
       "      <td>0.141035</td>\n",
       "      <td>-0.374240</td>\n",
       "      <td>-0.274631</td>\n",
       "      <td>0.326308</td>\n",
       "      <td>0.047306</td>\n",
       "      <td>0.146915</td>\n",
       "      <td>0.747854</td>\n",
       "      <td>-0.258870</td>\n",
       "    </tr>\n",
       "  </tbody>\n",
       "</table>\n",
       "<p>2 rows × 39 columns</p>\n",
       "</div>"
      ],
      "text/plain": [
       "    ID  SEGMENT_ID  CYCLE_ID  L_CYCLE  L_PREOVULATION  L_PERIOD  Pre_PreOvL1  \\\n",
       "1  9.0         1.0       1.0     29.0            13.0       6.0         13.0   \n",
       "2  9.0         1.0       1.0     29.0            13.0       6.0         13.0   \n",
       "\n",
       "   Pre_PreOvL2  Pre_L_CYCLE1  Pre_L_Period1     ...      Med3-Med6  \\\n",
       "1         13.0          29.0            6.0     ...      -0.610512   \n",
       "2         13.0          29.0            6.0     ...      -0.559513   \n",
       "\n",
       "   Med3-Mean6  Med3-Min6  Mean3-Med6  Mean3-Mean6  Mean3-Min6  Max3-Median6  \\\n",
       "1   -0.627662  -0.610512   -0.623524    -0.640674   -0.623524     -0.559513   \n",
       "2   -0.459904   0.141035   -0.374240    -0.274631    0.326308      0.047306   \n",
       "\n",
       "   Max3-Mean6  Max3-Min6  Sum_Of_All  \n",
       "1   -0.576662  -0.559513   -5.432096  \n",
       "2    0.146915   0.747854   -0.258870  \n",
       "\n",
       "[2 rows x 39 columns]"
      ]
     },
     "execution_count": 7,
     "metadata": {},
     "output_type": "execute_result"
    }
   ],
   "source": [
    "df_fe.iloc[1:3,0:]"
   ]
  },
  {
   "cell_type": "code",
   "execution_count": 8,
   "metadata": {
    "collapsed": true
   },
   "outputs": [],
   "source": [
    "df_fe = df_fe.dropna()\n",
    "df_test = df_test.dropna()"
   ]
  },
  {
   "cell_type": "code",
   "execution_count": 9,
   "metadata": {},
   "outputs": [
    {
     "name": "stderr",
     "output_type": "stream",
     "text": [
      "C:\\Anaconda3\\lib\\site-packages\\ipykernel_launcher.py:1: DeprecationWarning: \n",
      ".ix is deprecated. Please use\n",
      ".loc for label based indexing or\n",
      ".iloc for positional indexing\n",
      "\n",
      "See the documentation here:\n",
      "http://pandas.pydata.org/pandas-docs/stable/indexing.html#deprecate_ix\n",
      "  \"\"\"Entry point for launching an IPython kernel.\n"
     ]
    }
   ],
   "source": [
    "X_train = np.array(df_fe.ix[:,['Pre_L_Period1','Pre_L_Period2','01_TEMP','02_TEMP','03_TEMP','04_TEMP','05_TEMP','06_TEMP','07_TEMP','08_TEMP','09_TEMP',\n",
    "                                   'Pre_PreOvL1','Pre_PreOvL2','Pre_L_CYCLE1','Pre_L_CYCLE2','LastMonth_rolling_PREOVULATION',\n",
    "                                   'Med3-Med6','Med3-Mean6','Med3-Min6','Mean3-Med6','Mean3-Mean6','Mean3-Min6','Max3-Median6',\n",
    "                               'Max3-Mean6','Max3-Min6','Sum_Of_All']], dtype='float64')"
   ]
  },
  {
   "cell_type": "code",
   "execution_count": 10,
   "metadata": {},
   "outputs": [
    {
     "name": "stderr",
     "output_type": "stream",
     "text": [
      "C:\\Anaconda3\\lib\\site-packages\\ipykernel_launcher.py:1: DeprecationWarning: \n",
      ".ix is deprecated. Please use\n",
      ".loc for label based indexing or\n",
      ".iloc for positional indexing\n",
      "\n",
      "See the documentation here:\n",
      "http://pandas.pydata.org/pandas-docs/stable/indexing.html#deprecate_ix\n",
      "  \"\"\"Entry point for launching an IPython kernel.\n"
     ]
    }
   ],
   "source": [
    "X_test = np.array(df_test.ix[:,['Pre_L_Period1','Pre_L_Period2','01_TEMP','02_TEMP','03_TEMP','04_TEMP','05_TEMP','06_TEMP','07_TEMP','08_TEMP','09_TEMP',\n",
    "                                   'Pre_PreOvL1','Pre_PreOvL2','Pre_L_CYCLE1','Pre_L_CYCLE2','LastMonth_rolling_PREOVULATION',\n",
    "                                   'Med3-Med6','Med3-Mean6','Med3-Min6','Mean3-Med6','Mean3-Mean6','Mean3-Min6','Max3-Median6',\n",
    "                               'Max3-Mean6','Max3-Min6','Sum_Of_All']], dtype='float64')"
   ]
  },
  {
   "cell_type": "code",
   "execution_count": 11,
   "metadata": {
    "collapsed": true
   },
   "outputs": [],
   "source": [
    "sc = StandardScaler()"
   ]
  },
  {
   "cell_type": "code",
   "execution_count": 12,
   "metadata": {},
   "outputs": [],
   "source": [
    "X_train = sc.fit_transform(X_train)\n",
    "X_test = sc.fit_transform(X_test)"
   ]
  },
  {
   "cell_type": "code",
   "execution_count": 13,
   "metadata": {},
   "outputs": [
    {
     "data": {
      "text/plain": [
       "(50694, 26)"
      ]
     },
     "execution_count": 13,
     "metadata": {},
     "output_type": "execute_result"
    }
   ],
   "source": [
    "X_train.shape"
   ]
  },
  {
   "cell_type": "code",
   "execution_count": 14,
   "metadata": {},
   "outputs": [
    {
     "data": {
      "text/plain": [
       "(13613, 26)"
      ]
     },
     "execution_count": 14,
     "metadata": {},
     "output_type": "execute_result"
    }
   ],
   "source": [
    "X_test.shape"
   ]
  },
  {
   "cell_type": "code",
   "execution_count": 15,
   "metadata": {
    "collapsed": true
   },
   "outputs": [],
   "source": [
    "y_train = np.array(df_fe.ix[:,['Target_Pre_OV']], dtype='float64')"
   ]
  },
  {
   "cell_type": "code",
   "execution_count": 16,
   "metadata": {},
   "outputs": [
    {
     "data": {
      "text/plain": [
       "array([[ 13.],\n",
       "       [ 12.],\n",
       "       [ 11.],\n",
       "       [ 10.],\n",
       "       [  9.],\n",
       "       [  8.],\n",
       "       [  7.],\n",
       "       [  6.],\n",
       "       [  5.],\n",
       "       [  4.]])"
      ]
     },
     "execution_count": 16,
     "metadata": {},
     "output_type": "execute_result"
    }
   ],
   "source": [
    "y_train[0:10]"
   ]
  },
  {
   "cell_type": "code",
   "execution_count": 17,
   "metadata": {
    "collapsed": true
   },
   "outputs": [],
   "source": [
    "y_test = np.array(df_test.ix[:,['Target_Pre_OV']], dtype='float64')"
   ]
  },
  {
   "cell_type": "code",
   "execution_count": 18,
   "metadata": {},
   "outputs": [
    {
     "data": {
      "text/plain": [
       "array([[  1.],\n",
       "       [  0.],\n",
       "       [ 11.],\n",
       "       [ 10.],\n",
       "       [  9.],\n",
       "       [  8.],\n",
       "       [  7.],\n",
       "       [  6.],\n",
       "       [  5.],\n",
       "       [  4.]])"
      ]
     },
     "execution_count": 18,
     "metadata": {},
     "output_type": "execute_result"
    }
   ],
   "source": [
    "y_test[0:10]"
   ]
  },
  {
   "cell_type": "code",
   "execution_count": 19,
   "metadata": {},
   "outputs": [
    {
     "data": {
      "text/plain": [
       "(50694, 1)"
      ]
     },
     "execution_count": 19,
     "metadata": {},
     "output_type": "execute_result"
    }
   ],
   "source": [
    "y_train.shape"
   ]
  },
  {
   "cell_type": "code",
   "execution_count": 20,
   "metadata": {},
   "outputs": [
    {
     "data": {
      "text/plain": [
       "30.0"
      ]
     },
     "execution_count": 20,
     "metadata": {},
     "output_type": "execute_result"
    }
   ],
   "source": [
    "y_test.max()"
   ]
  },
  {
   "cell_type": "code",
   "execution_count": 21,
   "metadata": {
    "collapsed": true
   },
   "outputs": [],
   "source": [
    "output_vector_length = y_train.max()"
   ]
  },
  {
   "cell_type": "code",
   "execution_count": 22,
   "metadata": {},
   "outputs": [
    {
     "data": {
      "text/plain": [
       "30.0"
      ]
     },
     "execution_count": 22,
     "metadata": {},
     "output_type": "execute_result"
    }
   ],
   "source": [
    "output_vector_length"
   ]
  },
  {
   "cell_type": "code",
   "execution_count": 23,
   "metadata": {},
   "outputs": [],
   "source": [
    "from keras.utils.np_utils import to_categorical"
   ]
  },
  {
   "cell_type": "code",
   "execution_count": 24,
   "metadata": {
    "collapsed": true
   },
   "outputs": [],
   "source": [
    "y_train_cat = to_categorical(y_train)\n",
    "y_test_cat = to_categorical(y_test)"
   ]
  },
  {
   "cell_type": "code",
   "execution_count": 25,
   "metadata": {},
   "outputs": [
    {
     "data": {
      "text/plain": [
       "array([[ 0.,  0.,  0.,  0.,  0.,  0.,  0.,  0.,  0.,  0.,  0.,  0.,  0.,\n",
       "         1.,  0.,  0.,  0.,  0.,  0.,  0.,  0.,  0.,  0.,  0.,  0.,  0.,\n",
       "         0.,  0.,  0.,  0.,  0.],\n",
       "       [ 0.,  0.,  0.,  0.,  0.,  0.,  0.,  0.,  0.,  0.,  0.,  0.,  1.,\n",
       "         0.,  0.,  0.,  0.,  0.,  0.,  0.,  0.,  0.,  0.,  0.,  0.,  0.,\n",
       "         0.,  0.,  0.,  0.,  0.],\n",
       "       [ 0.,  0.,  0.,  0.,  0.,  0.,  0.,  0.,  0.,  0.,  0.,  1.,  0.,\n",
       "         0.,  0.,  0.,  0.,  0.,  0.,  0.,  0.,  0.,  0.,  0.,  0.,  0.,\n",
       "         0.,  0.,  0.,  0.,  0.],\n",
       "       [ 0.,  0.,  0.,  0.,  0.,  0.,  0.,  0.,  0.,  0.,  1.,  0.,  0.,\n",
       "         0.,  0.,  0.,  0.,  0.,  0.,  0.,  0.,  0.,  0.,  0.,  0.,  0.,\n",
       "         0.,  0.,  0.,  0.,  0.],\n",
       "       [ 0.,  0.,  0.,  0.,  0.,  0.,  0.,  0.,  0.,  1.,  0.,  0.,  0.,\n",
       "         0.,  0.,  0.,  0.,  0.,  0.,  0.,  0.,  0.,  0.,  0.,  0.,  0.,\n",
       "         0.,  0.,  0.,  0.,  0.]])"
      ]
     },
     "execution_count": 25,
     "metadata": {},
     "output_type": "execute_result"
    }
   ],
   "source": [
    "y_train_cat[0:5]"
   ]
  },
  {
   "cell_type": "code",
   "execution_count": 26,
   "metadata": {},
   "outputs": [
    {
     "data": {
      "text/plain": [
       "array([[ 0.,  1.,  0.,  0.,  0.,  0.,  0.,  0.,  0.,  0.,  0.,  0.,  0.,\n",
       "         0.,  0.,  0.,  0.,  0.,  0.,  0.,  0.,  0.,  0.,  0.,  0.,  0.,\n",
       "         0.,  0.,  0.,  0.,  0.],\n",
       "       [ 1.,  0.,  0.,  0.,  0.,  0.,  0.,  0.,  0.,  0.,  0.,  0.,  0.,\n",
       "         0.,  0.,  0.,  0.,  0.,  0.,  0.,  0.,  0.,  0.,  0.,  0.,  0.,\n",
       "         0.,  0.,  0.,  0.,  0.],\n",
       "       [ 0.,  0.,  0.,  0.,  0.,  0.,  0.,  0.,  0.,  0.,  0.,  1.,  0.,\n",
       "         0.,  0.,  0.,  0.,  0.,  0.,  0.,  0.,  0.,  0.,  0.,  0.,  0.,\n",
       "         0.,  0.,  0.,  0.,  0.],\n",
       "       [ 0.,  0.,  0.,  0.,  0.,  0.,  0.,  0.,  0.,  0.,  1.,  0.,  0.,\n",
       "         0.,  0.,  0.,  0.,  0.,  0.,  0.,  0.,  0.,  0.,  0.,  0.,  0.,\n",
       "         0.,  0.,  0.,  0.,  0.],\n",
       "       [ 0.,  0.,  0.,  0.,  0.,  0.,  0.,  0.,  0.,  1.,  0.,  0.,  0.,\n",
       "         0.,  0.,  0.,  0.,  0.,  0.,  0.,  0.,  0.,  0.,  0.,  0.,  0.,\n",
       "         0.,  0.,  0.,  0.,  0.]])"
      ]
     },
     "execution_count": 26,
     "metadata": {},
     "output_type": "execute_result"
    }
   ],
   "source": [
    "y_test_cat[0:5]"
   ]
  },
  {
   "cell_type": "code",
   "execution_count": 27,
   "metadata": {},
   "outputs": [
    {
     "name": "stdout",
     "output_type": "stream",
     "text": [
      "(50694, 26)\n",
      "(13613, 26)\n",
      "(50694, 1)\n",
      "(13613, 1)\n",
      "(50694, 31)\n",
      "(13613, 31)\n"
     ]
    }
   ],
   "source": [
    "print (X_train.shape)\n",
    "# print (y_train_cat.shape)\n",
    "print (X_test.shape)\n",
    "print (y_train.shape)\n",
    "print (y_test.shape)\n",
    "# print (y_test_cat.shape)\n",
    "print (y_train_cat.shape)\n",
    "print (y_test_cat.shape)"
   ]
  },
  {
   "cell_type": "markdown",
   "metadata": {},
   "source": [
    "### Building a 1D CNN Model with standardized variables"
   ]
  },
  {
   "cell_type": "code",
   "execution_count": 28,
   "metadata": {
    "collapsed": true
   },
   "outputs": [],
   "source": [
    "X_train = X_train.reshape(-1,1,int(X_train.shape[1]),1)"
   ]
  },
  {
   "cell_type": "code",
   "execution_count": 29,
   "metadata": {
    "collapsed": true
   },
   "outputs": [],
   "source": [
    "X_test = X_test.reshape(-1,1,int(X_test.shape[1]),1)"
   ]
  },
  {
   "cell_type": "code",
   "execution_count": 30,
   "metadata": {},
   "outputs": [
    {
     "name": "stdout",
     "output_type": "stream",
     "text": [
      "(50694, 1, 26, 1)\n",
      "(13613, 1, 26, 1)\n"
     ]
    }
   ],
   "source": [
    "print (X_train.shape)\n",
    "print (X_test.shape)"
   ]
  },
  {
   "cell_type": "code",
   "execution_count": 31,
   "metadata": {
    "collapsed": true
   },
   "outputs": [],
   "source": [
    "from keras import backend as K\n",
    "from keras.layers import Flatten, Activation\n",
    "from keras.layers import MaxPool2D, AvgPool2D\n",
    "from keras import metrics\n",
    "\n",
    "from keras.layers import Conv1D\n",
    "from keras.layers import Conv2D\n",
    "from keras.models import Sequential\n",
    "from keras.layers import Dense"
   ]
  },
  {
   "cell_type": "code",
   "execution_count": 32,
   "metadata": {
    "collapsed": true
   },
   "outputs": [],
   "source": [
    "K.clear_session()\n",
    "\n",
    "model = Sequential()\n",
    "model.add(Conv2D(32,(1,3), strides=(1,1), input_shape=(1,int(X_train.shape[2]),1), padding='same'))\n",
    "model.add(MaxPool2D(pool_size=(1,1)))\n",
    "model.add(Activation('tanh'))\n",
    "\n",
    "model.add(Flatten())\n",
    "model.add(Dense(64, activation='tanh'))\n",
    "model.add(Dense(1, activation='linear'))\n",
    "\n",
    "\n",
    "model.compile(loss='mean_squared_error',\n",
    "              optimizer='sgd',\n",
    "              metrics=['mae', 'acc'])\n"
   ]
  },
  {
   "cell_type": "code",
   "execution_count": 33,
   "metadata": {},
   "outputs": [
    {
     "name": "stdout",
     "output_type": "stream",
     "text": [
      "_________________________________________________________________\n",
      "Layer (type)                 Output Shape              Param #   \n",
      "=================================================================\n",
      "conv2d_1 (Conv2D)            (None, 1, 26, 32)         128       \n",
      "_________________________________________________________________\n",
      "max_pooling2d_1 (MaxPooling2 (None, 1, 26, 32)         0         \n",
      "_________________________________________________________________\n",
      "activation_1 (Activation)    (None, 1, 26, 32)         0         \n",
      "_________________________________________________________________\n",
      "flatten_1 (Flatten)          (None, 832)               0         \n",
      "_________________________________________________________________\n",
      "dense_1 (Dense)              (None, 64)                53312     \n",
      "_________________________________________________________________\n",
      "dense_2 (Dense)              (None, 1)                 65        \n",
      "=================================================================\n",
      "Total params: 53,505\n",
      "Trainable params: 53,505\n",
      "Non-trainable params: 0\n",
      "_________________________________________________________________\n",
      "None\n",
      "Model Optput Shape :(None, 1)\n",
      "Model y_train Shape :(50694, 1)\n",
      "Model X_train Shape :(50694, 1, 26, 1)\n"
     ]
    }
   ],
   "source": [
    "print (model.summary())\n",
    "print ('Model Optput Shape :' + str(model.output_shape))\n",
    "print ('Model y_train Shape :' + str(y_train.shape))\n",
    "print ('Model X_train Shape :' + str(X_train.shape))"
   ]
  },
  {
   "cell_type": "code",
   "execution_count": 34,
   "metadata": {
    "scrolled": true
   },
   "outputs": [
    {
     "name": "stdout",
     "output_type": "stream",
     "text": [
      "Train on 40555 samples, validate on 10139 samples\n",
      "Epoch 1/50\n",
      "40555/40555 [==============================] - 3s - loss: 8.5927 - mean_absolute_error: 2.1154 - acc: 0.1723 - val_loss: 6.8085 - val_mean_absolute_error: 1.9239 - val_acc: 0.1883\n",
      "Epoch 2/50\n",
      "40555/40555 [==============================] - 3s - loss: 7.1687 - mean_absolute_error: 1.9217 - acc: 0.1931 - val_loss: 6.6184 - val_mean_absolute_error: 1.9006 - val_acc: 0.1878\n",
      "Epoch 3/50\n",
      "40555/40555 [==============================] - 3s - loss: 6.9590 - mean_absolute_error: 1.8873 - acc: 0.1995 - val_loss: 6.6890 - val_mean_absolute_error: 1.8946 - val_acc: 0.1966\n",
      "Epoch 4/50\n",
      "40555/40555 [==============================] - 3s - loss: 6.8698 - mean_absolute_error: 1.8749 - acc: 0.2009 - val_loss: 6.9877 - val_mean_absolute_error: 1.9353 - val_acc: 0.1961\n",
      "Epoch 5/50\n",
      "40555/40555 [==============================] - 3s - loss: 6.7651 - mean_absolute_error: 1.8601 - acc: 0.2062 - val_loss: 6.6330 - val_mean_absolute_error: 1.8653 - val_acc: 0.2115\n",
      "Epoch 6/50\n",
      "40555/40555 [==============================] - 3s - loss: 6.6965 - mean_absolute_error: 1.8501 - acc: 0.2069 - val_loss: 6.7776 - val_mean_absolute_error: 1.8845 - val_acc: 0.2100\n",
      "Epoch 7/50\n",
      "40555/40555 [==============================] - 3s - loss: 6.6289 - mean_absolute_error: 1.8418 - acc: 0.2091 - val_loss: 7.3332 - val_mean_absolute_error: 2.0583 - val_acc: 0.1697\n",
      "Epoch 8/50\n",
      "40555/40555 [==============================] - 3s - loss: 6.5724 - mean_absolute_error: 1.8350 - acc: 0.2116 - val_loss: 6.9025 - val_mean_absolute_error: 1.9627 - val_acc: 0.1918\n",
      "Epoch 9/50\n",
      "40555/40555 [==============================] - 3s - loss: 6.4881 - mean_absolute_error: 1.8254 - acc: 0.2108 - val_loss: 6.6960 - val_mean_absolute_error: 1.9131 - val_acc: 0.1941\n",
      "Epoch 10/50\n",
      "40555/40555 [==============================] - 3s - loss: 6.4208 - mean_absolute_error: 1.8138 - acc: 0.2106 - val_loss: 6.7647 - val_mean_absolute_error: 1.9245 - val_acc: 0.1954\n",
      "Epoch 11/50\n",
      "40555/40555 [==============================] - 2s - loss: 6.3705 - mean_absolute_error: 1.8094 - acc: 0.2095 - val_loss: 7.8056 - val_mean_absolute_error: 2.1566 - val_acc: 0.1511\n",
      "Epoch 12/50\n",
      "40555/40555 [==============================] - 3s - loss: 6.3331 - mean_absolute_error: 1.8045 - acc: 0.2147 - val_loss: 6.7978 - val_mean_absolute_error: 1.9166 - val_acc: 0.2007\n",
      "Epoch 13/50\n",
      "40555/40555 [==============================] - 3s - loss: 6.2361 - mean_absolute_error: 1.7926 - acc: 0.2133 - val_loss: 6.9603 - val_mean_absolute_error: 1.9249 - val_acc: 0.1931\n",
      "Epoch 14/50\n",
      "40555/40555 [==============================] - 3s - loss: 6.1863 - mean_absolute_error: 1.7844 - acc: 0.2140 - val_loss: 6.8791 - val_mean_absolute_error: 1.9252 - val_acc: 0.1974\n",
      "Epoch 15/50\n",
      "40555/40555 [==============================] - 3s - loss: 6.1396 - mean_absolute_error: 1.7814 - acc: 0.2142 - val_loss: 7.0379 - val_mean_absolute_error: 1.9873 - val_acc: 0.1719\n",
      "Epoch 16/50\n",
      "40555/40555 [==============================] - 3s - loss: 6.0730 - mean_absolute_error: 1.7718 - acc: 0.2139 - val_loss: 7.0714 - val_mean_absolute_error: 1.9236 - val_acc: 0.2063\n",
      "Epoch 17/50\n",
      "40555/40555 [==============================] - 3s - loss: 6.0179 - mean_absolute_error: 1.7672 - acc: 0.2127 - val_loss: 7.3601 - val_mean_absolute_error: 2.0415 - val_acc: 0.1683\n",
      "Epoch 18/50\n",
      "40555/40555 [==============================] - 3s - loss: 5.9639 - mean_absolute_error: 1.7593 - acc: 0.2144 - val_loss: 7.1927 - val_mean_absolute_error: 1.9398 - val_acc: 0.2042\n",
      "Epoch 19/50\n",
      "40555/40555 [==============================] - 3s - loss: 5.8943 - mean_absolute_error: 1.7488 - acc: 0.2146 - val_loss: 7.2216 - val_mean_absolute_error: 1.9987 - val_acc: 0.1743\n",
      "Epoch 20/50\n",
      "40555/40555 [==============================] - 3s - loss: 5.8283 - mean_absolute_error: 1.7395 - acc: 0.2172 - val_loss: 7.1840 - val_mean_absolute_error: 1.9329 - val_acc: 0.2066\n",
      "Epoch 21/50\n",
      "40555/40555 [==============================] - 3s - loss: 5.7805 - mean_absolute_error: 1.7356 - acc: 0.2194 - val_loss: 7.2515 - val_mean_absolute_error: 1.9888 - val_acc: 0.1880\n",
      "Epoch 22/50\n",
      "40555/40555 [==============================] - 3s - loss: 5.7160 - mean_absolute_error: 1.7287 - acc: 0.2171 - val_loss: 7.0946 - val_mean_absolute_error: 1.9290 - val_acc: 0.2044\n",
      "Epoch 23/50\n",
      "40555/40555 [==============================] - 3s - loss: 5.6515 - mean_absolute_error: 1.7203 - acc: 0.2197 - val_loss: 7.1957 - val_mean_absolute_error: 1.9520 - val_acc: 0.1960\n",
      "Epoch 24/50\n",
      "40555/40555 [==============================] - 3s - loss: 5.6091 - mean_absolute_error: 1.7129 - acc: 0.2201 - val_loss: 7.5181 - val_mean_absolute_error: 1.9892 - val_acc: 0.1945\n",
      "Epoch 25/50\n",
      "40555/40555 [==============================] - 2s - loss: 5.5375 - mean_absolute_error: 1.7034 - acc: 0.2202 - val_loss: 7.5997 - val_mean_absolute_error: 2.0447 - val_acc: 0.1795\n",
      "Epoch 26/50\n",
      "40555/40555 [==============================] - 3s - loss: 5.4835 - mean_absolute_error: 1.7009 - acc: 0.2180 - val_loss: 7.4043 - val_mean_absolute_error: 1.9759 - val_acc: 0.1923\n",
      "Epoch 27/50\n",
      "40555/40555 [==============================] - 3s - loss: 5.4248 - mean_absolute_error: 1.6907 - acc: 0.2203 - val_loss: 7.3134 - val_mean_absolute_error: 1.9514 - val_acc: 0.1978\n",
      "Epoch 28/50\n",
      "40555/40555 [==============================] - 3s - loss: 5.3627 - mean_absolute_error: 1.6854 - acc: 0.2211 - val_loss: 7.6590 - val_mean_absolute_error: 2.0296 - val_acc: 0.1846\n",
      "Epoch 29/50\n",
      "40555/40555 [==============================] - 3s - loss: 5.3015 - mean_absolute_error: 1.6762 - acc: 0.2214 - val_loss: 7.7838 - val_mean_absolute_error: 2.0666 - val_acc: 0.1838\n",
      "Epoch 30/50\n",
      "40555/40555 [==============================] - 3s - loss: 5.2456 - mean_absolute_error: 1.6662 - acc: 0.2216 - val_loss: 7.7234 - val_mean_absolute_error: 2.0615 - val_acc: 0.1709\n",
      "Epoch 31/50\n",
      "40555/40555 [==============================] - 3s - loss: 5.1703 - mean_absolute_error: 1.6556 - acc: 0.2232 - val_loss: 7.8733 - val_mean_absolute_error: 2.0329 - val_acc: 0.1834\n",
      "Epoch 32/50\n",
      "40555/40555 [==============================] - 3s - loss: 5.1070 - mean_absolute_error: 1.6495 - acc: 0.2212 - val_loss: 7.7090 - val_mean_absolute_error: 2.0325 - val_acc: 0.1829\n",
      "Epoch 33/50\n",
      "40555/40555 [==============================] - 3s - loss: 5.0463 - mean_absolute_error: 1.6405 - acc: 0.2196 - val_loss: 8.3926 - val_mean_absolute_error: 2.1962 - val_acc: 0.1532\n",
      "Epoch 34/50\n",
      "40555/40555 [==============================] - 3s - loss: 4.9865 - mean_absolute_error: 1.6331 - acc: 0.2222 - val_loss: 7.8149 - val_mean_absolute_error: 2.0470 - val_acc: 0.1817\n",
      "Epoch 35/50\n",
      "40555/40555 [==============================] - 3s - loss: 4.9218 - mean_absolute_error: 1.6255 - acc: 0.2247 - val_loss: 7.7944 - val_mean_absolute_error: 2.0345 - val_acc: 0.1912\n",
      "Epoch 36/50\n",
      "40555/40555 [==============================] - 3s - loss: 4.8786 - mean_absolute_error: 1.6201 - acc: 0.2221 - val_loss: 8.1883 - val_mean_absolute_error: 2.1488 - val_acc: 0.1662\n",
      "Epoch 37/50\n",
      "40555/40555 [==============================] - 3s - loss: 4.8114 - mean_absolute_error: 1.6104 - acc: 0.2230 - val_loss: 7.7991 - val_mean_absolute_error: 2.0430 - val_acc: 0.1825\n",
      "Epoch 38/50\n",
      "40555/40555 [==============================] - 3s - loss: 4.7333 - mean_absolute_error: 1.5989 - acc: 0.2248 - val_loss: 7.9763 - val_mean_absolute_error: 2.0670 - val_acc: 0.1870\n",
      "Epoch 39/50\n",
      "40555/40555 [==============================] - 3s - loss: 4.6698 - mean_absolute_error: 1.5926 - acc: 0.2219 - val_loss: 8.1941 - val_mean_absolute_error: 2.1229 - val_acc: 0.1709\n",
      "Epoch 40/50\n",
      "40555/40555 [==============================] - 3s - loss: 4.6069 - mean_absolute_error: 1.5808 - acc: 0.2264 - val_loss: 8.1352 - val_mean_absolute_error: 2.0984 - val_acc: 0.1809\n",
      "Epoch 41/50\n",
      "40555/40555 [==============================] - 3s - loss: 4.5631 - mean_absolute_error: 1.5746 - acc: 0.2264 - val_loss: 8.1055 - val_mean_absolute_error: 2.1020 - val_acc: 0.1763\n",
      "Epoch 42/50\n",
      "40555/40555 [==============================] - 3s - loss: 4.5164 - mean_absolute_error: 1.5680 - acc: 0.2269 - val_loss: 8.2623 - val_mean_absolute_error: 2.1205 - val_acc: 0.1775\n",
      "Epoch 43/50\n"
     ]
    },
    {
     "name": "stdout",
     "output_type": "stream",
     "text": [
      "40555/40555 [==============================] - 3s - loss: 4.4343 - mean_absolute_error: 1.5520 - acc: 0.2296 - val_loss: 8.1061 - val_mean_absolute_error: 2.1137 - val_acc: 0.1730\n",
      "Epoch 44/50\n",
      "40555/40555 [==============================] - 3s - loss: 4.3868 - mean_absolute_error: 1.5467 - acc: 0.2279 - val_loss: 8.5079 - val_mean_absolute_error: 2.1560 - val_acc: 0.1689\n",
      "Epoch 45/50\n",
      "40555/40555 [==============================] - 3s - loss: 4.3230 - mean_absolute_error: 1.5355 - acc: 0.2307 - val_loss: 8.4922 - val_mean_absolute_error: 2.1424 - val_acc: 0.1733\n",
      "Epoch 46/50\n",
      "40555/40555 [==============================] - 3s - loss: 4.2485 - mean_absolute_error: 1.5254 - acc: 0.2289 - val_loss: 8.6976 - val_mean_absolute_error: 2.1633 - val_acc: 0.1732\n",
      "Epoch 47/50\n",
      "40555/40555 [==============================] - 3s - loss: 4.2143 - mean_absolute_error: 1.5217 - acc: 0.2294 - val_loss: 8.4611 - val_mean_absolute_error: 2.1570 - val_acc: 0.1733\n",
      "Epoch 48/50\n",
      "40555/40555 [==============================] - 3s - loss: 4.1367 - mean_absolute_error: 1.5066 - acc: 0.2315 - val_loss: 8.5343 - val_mean_absolute_error: 2.1363 - val_acc: 0.1786\n",
      "Epoch 49/50\n",
      "40555/40555 [==============================] - 3s - loss: 4.0843 - mean_absolute_error: 1.5001 - acc: 0.2325 - val_loss: 8.7403 - val_mean_absolute_error: 2.1477 - val_acc: 0.1798\n",
      "Epoch 50/50\n",
      "40555/40555 [==============================] - 3s - loss: 4.0683 - mean_absolute_error: 1.4974 - acc: 0.2352 - val_loss: 8.7509 - val_mean_absolute_error: 2.1625 - val_acc: 0.1735\n"
     ]
    },
    {
     "data": {
      "text/plain": [
       "<keras.callbacks.History at 0x12c0ef98>"
      ]
     },
     "execution_count": 34,
     "metadata": {},
     "output_type": "execute_result"
    }
   ],
   "source": [
    "model.fit(X_train, y_train, batch_size=64,\n",
    "          epochs=50, verbose=1, validation_split=0.2)"
   ]
  },
  {
   "cell_type": "markdown",
   "metadata": {},
   "source": [
    "### Building a 1D CNN Regression Model of standardized variables with Dropout regularization"
   ]
  },
  {
   "cell_type": "code",
   "execution_count": 35,
   "metadata": {
    "collapsed": true
   },
   "outputs": [],
   "source": [
    "from keras.layers import Dropout\n",
    "\n",
    "K.clear_session()\n",
    "\n",
    "model = Sequential()\n",
    "model.add(Conv2D(32,(1,1), strides=(1,1), input_shape=(1,int(X_train.shape[2]),1), padding='same'))\n",
    "model.add(MaxPool2D(pool_size=(1,1)))\n",
    "model.add(Activation('tanh'))\n",
    "\n",
    "model.add(Conv2D(64,(1,1)))\n",
    "model.add(MaxPool2D(pool_size=(1,1), strides=(1,1)))\n",
    "model.add(Activation('tanh'))\n",
    "\n",
    "model.add(Flatten())\n",
    "model.add(Dense(32, activation='tanh'))\n",
    "model.add(Dropout(0.2))\n",
    "model.add(Dense(1, activation='linear'))\n",
    "\n",
    "model.compile(loss='mean_squared_error', \n",
    "              optimizer ='adam', \n",
    "              metrics =['mae', 'acc'])\n"
   ]
  },
  {
   "cell_type": "code",
   "execution_count": 36,
   "metadata": {},
   "outputs": [
    {
     "name": "stdout",
     "output_type": "stream",
     "text": [
      "_________________________________________________________________\n",
      "Layer (type)                 Output Shape              Param #   \n",
      "=================================================================\n",
      "conv2d_1 (Conv2D)            (None, 1, 26, 32)         64        \n",
      "_________________________________________________________________\n",
      "max_pooling2d_1 (MaxPooling2 (None, 1, 26, 32)         0         \n",
      "_________________________________________________________________\n",
      "activation_1 (Activation)    (None, 1, 26, 32)         0         \n",
      "_________________________________________________________________\n",
      "conv2d_2 (Conv2D)            (None, 1, 26, 64)         2112      \n",
      "_________________________________________________________________\n",
      "max_pooling2d_2 (MaxPooling2 (None, 1, 26, 64)         0         \n",
      "_________________________________________________________________\n",
      "activation_2 (Activation)    (None, 1, 26, 64)         0         \n",
      "_________________________________________________________________\n",
      "flatten_1 (Flatten)          (None, 1664)              0         \n",
      "_________________________________________________________________\n",
      "dense_1 (Dense)              (None, 32)                53280     \n",
      "_________________________________________________________________\n",
      "dropout_1 (Dropout)          (None, 32)                0         \n",
      "_________________________________________________________________\n",
      "dense_2 (Dense)              (None, 1)                 33        \n",
      "=================================================================\n",
      "Total params: 55,489\n",
      "Trainable params: 55,489\n",
      "Non-trainable params: 0\n",
      "_________________________________________________________________\n",
      "None\n",
      "Model Optput Shape :(None, 1)\n",
      "Model y_train Shape :(50694, 1)\n",
      "Model X_train Shape :(50694, 1, 26, 1)\n"
     ]
    }
   ],
   "source": [
    "print (model.summary())\n",
    "print ('Model Optput Shape :' + str(model.output_shape))\n",
    "print ('Model y_train Shape :' + str(y_train.shape))\n",
    "print ('Model X_train Shape :' + str(X_train.shape))"
   ]
  },
  {
   "cell_type": "code",
   "execution_count": 37,
   "metadata": {
    "scrolled": true
   },
   "outputs": [
    {
     "name": "stdout",
     "output_type": "stream",
     "text": [
      "Train on 40555 samples, validate on 10139 samples\n",
      "Epoch 1/50\n",
      "40555/40555 [==============================] - 4s - loss: 39.0156 - mean_absolute_error: 4.8333 - acc: 0.0667 - val_loss: 18.3883 - val_mean_absolute_error: 3.2568 - val_acc: 0.1038\n",
      "Epoch 2/50\n",
      "40555/40555 [==============================] - 4s - loss: 15.5401 - mean_absolute_error: 2.9004 - acc: 0.1259 - val_loss: 11.3156 - val_mean_absolute_error: 2.4667 - val_acc: 0.1464\n",
      "Epoch 3/50\n",
      "40555/40555 [==============================] - 4s - loss: 11.4909 - mean_absolute_error: 2.4585 - acc: 0.1505 - val_loss: 8.8410 - val_mean_absolute_error: 2.1670 - val_acc: 0.1670\n",
      "Epoch 4/50\n",
      "40555/40555 [==============================] - 4s - loss: 10.0682 - mean_absolute_error: 2.3057 - acc: 0.1600 - val_loss: 7.9737 - val_mean_absolute_error: 2.0737 - val_acc: 0.1711\n",
      "Epoch 5/50\n",
      "40555/40555 [==============================] - 4s - loss: 9.5648 - mean_absolute_error: 2.2659 - acc: 0.1555 - val_loss: 7.5552 - val_mean_absolute_error: 2.0098 - val_acc: 0.1848\n",
      "Epoch 6/50\n",
      "40555/40555 [==============================] - 4s - loss: 9.3333 - mean_absolute_error: 2.2406 - acc: 0.1599 - val_loss: 7.3956 - val_mean_absolute_error: 2.0150 - val_acc: 0.1783\n",
      "Epoch 7/50\n",
      "40555/40555 [==============================] - 4s - loss: 9.2208 - mean_absolute_error: 2.2367 - acc: 0.1572 - val_loss: 7.1809 - val_mean_absolute_error: 1.9461 - val_acc: 0.1999\n",
      "Epoch 8/50\n",
      "40555/40555 [==============================] - 4s - loss: 9.0638 - mean_absolute_error: 2.2217 - acc: 0.1599 - val_loss: 7.1615 - val_mean_absolute_error: 1.9780 - val_acc: 0.1780\n",
      "Epoch 9/50\n",
      "40555/40555 [==============================] - 4s - loss: 9.0498 - mean_absolute_error: 2.2221 - acc: 0.1567 - val_loss: 7.0294 - val_mean_absolute_error: 1.9641 - val_acc: 0.1836\n",
      "Epoch 10/50\n",
      "40555/40555 [==============================] - 4s - loss: 8.9933 - mean_absolute_error: 2.2129 - acc: 0.1607 - val_loss: 6.9341 - val_mean_absolute_error: 1.9297 - val_acc: 0.1916\n",
      "Epoch 11/50\n",
      "40555/40555 [==============================] - 4s - loss: 8.8754 - mean_absolute_error: 2.1993 - acc: 0.1621 - val_loss: 6.9364 - val_mean_absolute_error: 1.9277 - val_acc: 0.1956\n",
      "Epoch 12/50\n",
      "40555/40555 [==============================] - 4s - loss: 8.9572 - mean_absolute_error: 2.2156 - acc: 0.1561 - val_loss: 6.8708 - val_mean_absolute_error: 1.9269 - val_acc: 0.1911\n",
      "Epoch 13/50\n",
      "40555/40555 [==============================] - 4s - loss: 8.8663 - mean_absolute_error: 2.2037 - acc: 0.1570 - val_loss: 6.8037 - val_mean_absolute_error: 1.9235 - val_acc: 0.1929\n",
      "Epoch 14/50\n",
      "40555/40555 [==============================] - 4s - loss: 8.8119 - mean_absolute_error: 2.1947 - acc: 0.1609 - val_loss: 6.9024 - val_mean_absolute_error: 1.9627 - val_acc: 0.1781\n",
      "Epoch 15/50\n",
      "40555/40555 [==============================] - 4s - loss: 8.8176 - mean_absolute_error: 2.1982 - acc: 0.1599 - val_loss: 6.8377 - val_mean_absolute_error: 1.9190 - val_acc: 0.1937\n",
      "Epoch 16/50\n",
      "40555/40555 [==============================] - 4s - loss: 8.7822 - mean_absolute_error: 2.1898 - acc: 0.1611 - val_loss: 6.8044 - val_mean_absolute_error: 1.9082 - val_acc: 0.1996\n",
      "Epoch 17/50\n",
      "40555/40555 [==============================] - 4s - loss: 8.7700 - mean_absolute_error: 2.1875 - acc: 0.1614 - val_loss: 6.9023 - val_mean_absolute_error: 1.9417 - val_acc: 0.1861\n",
      "Epoch 18/50\n",
      "40555/40555 [==============================] - 4s - loss: 8.8531 - mean_absolute_error: 2.2031 - acc: 0.1597 - val_loss: 6.7939 - val_mean_absolute_error: 1.9213 - val_acc: 0.1903\n",
      "Epoch 19/50\n",
      "40555/40555 [==============================] - 4s - loss: 8.7109 - mean_absolute_error: 2.1854 - acc: 0.1585 - val_loss: 6.8013 - val_mean_absolute_error: 1.9381 - val_acc: 0.1815\n",
      "Epoch 20/50\n",
      "40555/40555 [==============================] - 4s - loss: 8.7079 - mean_absolute_error: 2.1858 - acc: 0.1604 - val_loss: 6.7807 - val_mean_absolute_error: 1.9259 - val_acc: 0.1893\n",
      "Epoch 21/50\n",
      "40555/40555 [==============================] - 4s - loss: 8.6343 - mean_absolute_error: 2.1754 - acc: 0.1616 - val_loss: 6.8853 - val_mean_absolute_error: 1.9691 - val_acc: 0.1792\n",
      "Epoch 22/50\n",
      "40555/40555 [==============================] - 4s - loss: 8.6729 - mean_absolute_error: 2.1820 - acc: 0.1607 - val_loss: 6.7401 - val_mean_absolute_error: 1.8970 - val_acc: 0.2050\n",
      "Epoch 23/50\n",
      "40555/40555 [==============================] - 4s - loss: 8.5503 - mean_absolute_error: 2.1604 - acc: 0.1629 - val_loss: 6.7427 - val_mean_absolute_error: 1.9020 - val_acc: 0.1994\n",
      "Epoch 24/50\n",
      "40555/40555 [==============================] - 4s - loss: 8.6138 - mean_absolute_error: 2.1667 - acc: 0.1645 - val_loss: 6.8540 - val_mean_absolute_error: 1.9074 - val_acc: 0.2042\n",
      "Epoch 25/50\n",
      "40555/40555 [==============================] - 4s - loss: 8.6468 - mean_absolute_error: 2.1727 - acc: 0.1603 - val_loss: 6.7176 - val_mean_absolute_error: 1.9020 - val_acc: 0.1981\n",
      "Epoch 26/50\n",
      "40555/40555 [==============================] - 4s - loss: 8.5614 - mean_absolute_error: 2.1641 - acc: 0.1605 - val_loss: 6.7189 - val_mean_absolute_error: 1.9037 - val_acc: 0.1951\n",
      "Epoch 27/50\n",
      "40555/40555 [==============================] - 4s - loss: 8.5390 - mean_absolute_error: 2.1611 - acc: 0.1600 - val_loss: 6.6672 - val_mean_absolute_error: 1.8976 - val_acc: 0.1988\n",
      "Epoch 28/50\n",
      "40555/40555 [==============================] - 4s - loss: 8.5455 - mean_absolute_error: 2.1602 - acc: 0.1614 - val_loss: 6.6780 - val_mean_absolute_error: 1.8904 - val_acc: 0.1980\n",
      "Epoch 29/50\n",
      "40555/40555 [==============================] - 4s - loss: 8.4272 - mean_absolute_error: 2.1503 - acc: 0.1622 - val_loss: 6.7503 - val_mean_absolute_error: 1.9118 - val_acc: 0.1966\n",
      "Epoch 30/50\n",
      "40555/40555 [==============================] - 4s - loss: 8.4666 - mean_absolute_error: 2.1534 - acc: 0.1657 - val_loss: 6.6771 - val_mean_absolute_error: 1.8840 - val_acc: 0.2093\n",
      "Epoch 31/50\n",
      "40555/40555 [==============================] - 4s - loss: 8.4568 - mean_absolute_error: 2.1551 - acc: 0.1616 - val_loss: 6.7258 - val_mean_absolute_error: 1.9318 - val_acc: 0.1886\n",
      "Epoch 32/50\n",
      "40555/40555 [==============================] - 4s - loss: 8.4779 - mean_absolute_error: 2.1521 - acc: 0.1627 - val_loss: 6.7176 - val_mean_absolute_error: 1.9056 - val_acc: 0.1979\n",
      "Epoch 33/50\n",
      "40555/40555 [==============================] - 4s - loss: 8.4239 - mean_absolute_error: 2.1449 - acc: 0.1642 - val_loss: 6.7473 - val_mean_absolute_error: 1.9488 - val_acc: 0.1825\n",
      "Epoch 34/50\n",
      "40555/40555 [==============================] - 4s - loss: 8.4971 - mean_absolute_error: 2.1532 - acc: 0.1620 - val_loss: 6.7179 - val_mean_absolute_error: 1.8983 - val_acc: 0.2009\n",
      "Epoch 35/50\n",
      "40555/40555 [==============================] - 4s - loss: 8.3781 - mean_absolute_error: 2.1436 - acc: 0.1644 - val_loss: 6.6570 - val_mean_absolute_error: 1.9005 - val_acc: 0.1930\n",
      "Epoch 36/50\n",
      "40555/40555 [==============================] - 4s - loss: 8.3447 - mean_absolute_error: 2.1352 - acc: 0.1648 - val_loss: 6.7038 - val_mean_absolute_error: 1.9226 - val_acc: 0.1906\n",
      "Epoch 37/50\n",
      "40555/40555 [==============================] - 4s - loss: 8.3674 - mean_absolute_error: 2.1430 - acc: 0.1635 - val_loss: 6.6593 - val_mean_absolute_error: 1.9036 - val_acc: 0.1912\n",
      "Epoch 38/50\n",
      "40555/40555 [==============================] - 4s - loss: 8.3952 - mean_absolute_error: 2.1412 - acc: 0.1656 - val_loss: 6.6882 - val_mean_absolute_error: 1.9161 - val_acc: 0.1909\n",
      "Epoch 39/50\n",
      "40555/40555 [==============================] - 4s - loss: 8.3144 - mean_absolute_error: 2.1307 - acc: 0.1643 - val_loss: 6.6248 - val_mean_absolute_error: 1.8766 - val_acc: 0.2117\n",
      "Epoch 40/50\n",
      "40555/40555 [==============================] - 4s - loss: 8.3100 - mean_absolute_error: 2.1335 - acc: 0.1652 - val_loss: 6.6475 - val_mean_absolute_error: 1.9125 - val_acc: 0.1920\n",
      "Epoch 41/50\n",
      "40555/40555 [==============================] - 4s - loss: 8.3201 - mean_absolute_error: 2.1348 - acc: 0.1629 - val_loss: 6.6155 - val_mean_absolute_error: 1.8821 - val_acc: 0.2040\n",
      "Epoch 42/50\n",
      "40555/40555 [==============================] - 4s - loss: 8.2524 - mean_absolute_error: 2.1248 - acc: 0.1666 - val_loss: 6.6987 - val_mean_absolute_error: 1.8785 - val_acc: 0.2101\n",
      "Epoch 43/50\n"
     ]
    },
    {
     "name": "stdout",
     "output_type": "stream",
     "text": [
      "40555/40555 [==============================] - 4s - loss: 8.2537 - mean_absolute_error: 2.1238 - acc: 0.1667 - val_loss: 6.6413 - val_mean_absolute_error: 1.9102 - val_acc: 0.1903\n",
      "Epoch 44/50\n",
      "40555/40555 [==============================] - 4s - loss: 8.2665 - mean_absolute_error: 2.1220 - acc: 0.1655 - val_loss: 6.6768 - val_mean_absolute_error: 1.9091 - val_acc: 0.2000\n",
      "Epoch 45/50\n",
      "40555/40555 [==============================] - 4s - loss: 8.2565 - mean_absolute_error: 2.1217 - acc: 0.1653 - val_loss: 6.6539 - val_mean_absolute_error: 1.8784 - val_acc: 0.2080\n",
      "Epoch 46/50\n",
      "40555/40555 [==============================] - 4s - loss: 8.1943 - mean_absolute_error: 2.1155 - acc: 0.1672 - val_loss: 6.6238 - val_mean_absolute_error: 1.8977 - val_acc: 0.1960\n",
      "Epoch 47/50\n",
      "40555/40555 [==============================] - 4s - loss: 8.2048 - mean_absolute_error: 2.1179 - acc: 0.1665 - val_loss: 6.8782 - val_mean_absolute_error: 1.9462 - val_acc: 0.1951\n",
      "Epoch 48/50\n",
      "40555/40555 [==============================] - 4s - loss: 8.2128 - mean_absolute_error: 2.1199 - acc: 0.1677 - val_loss: 6.5691 - val_mean_absolute_error: 1.8629 - val_acc: 0.2119\n",
      "Epoch 49/50\n",
      "40555/40555 [==============================] - 4s - loss: 8.1700 - mean_absolute_error: 2.1154 - acc: 0.1660 - val_loss: 6.6448 - val_mean_absolute_error: 1.8752 - val_acc: 0.2085\n",
      "Epoch 50/50\n",
      "40555/40555 [==============================] - 4s - loss: 8.1240 - mean_absolute_error: 2.1028 - acc: 0.1688 - val_loss: 6.5889 - val_mean_absolute_error: 1.8805 - val_acc: 0.2012\n"
     ]
    }
   ],
   "source": [
    "h = model.fit(X_train, y_train, batch_size=512,\n",
    "          epochs=50, verbose=1, validation_split=0.2)"
   ]
  },
  {
   "cell_type": "code",
   "execution_count": 38,
   "metadata": {},
   "outputs": [
    {
     "data": {
      "text/plain": [
       "<matplotlib.text.Text at 0x1613dfd0>"
      ]
     },
     "execution_count": 38,
     "metadata": {},
     "output_type": "execute_result"
    },
    {
     "data": {
      "image/png": "[encoded data removed]",
      "text/plain": [
       "<matplotlib.figure.Figure at 0x161302b0>"
      ]
     },
     "metadata": {},
     "output_type": "display_data"
    }
   ],
   "source": [
    "plt.plot(h.history['acc'])\n",
    "# plt.plot(h.history['mean_absolute_error'])\n",
    "plt.plot(h.history['mean_absolute_error'])\n",
    "plt.legend(['Training', 'Validation'])\n",
    "plt.title('Accuracy')\n",
    "plt.xlabel('Epochs')"
   ]
  },
  {
   "cell_type": "code",
   "execution_count": 39,
   "metadata": {},
   "outputs": [
    {
     "name": "stdout",
     "output_type": "stream",
     "text": [
      "[[  1.196 ]\n",
      " [  1.1733]\n",
      " [ 15.5324]\n",
      " ..., \n",
      " [  1.6106]\n",
      " [  0.8016]\n",
      " [  0.0495]]\n"
     ]
    }
   ],
   "source": [
    "Y_pred_Regression = model.predict(X_test)\n",
    "print (Y_pred_Regression)"
   ]
  },
  {
   "cell_type": "markdown",
   "metadata": {},
   "source": [
    "### Building a 1D CNN \"Multiclass\" Classification Model of standardized variables with Dropout regularization"
   ]
  },
  {
   "cell_type": "code",
   "execution_count": 83,
   "metadata": {},
   "outputs": [],
   "source": [
    "K.clear_session()\n",
    "\n",
    "model = Sequential()\n",
    "model.add(Conv2D(32,(1,3), strides=(1,1), input_shape=(1,int(X_train.shape[2]),1), padding='same'))\n",
    "model.add(MaxPool2D(pool_size=(1,1)))\n",
    "model.add(Activation('tanh'))\n",
    "\n",
    "model.add(Conv2D(64,(1,1)))\n",
    "model.add(MaxPool2D(pool_size=(1,1), strides=(1,1)))\n",
    "model.add(Activation('tanh'))\n",
    "\n",
    "model.add(Flatten())\n",
    "model.add(Dense(32, activation='tanh'))\n",
    "model.add(Dropout(0.1))\n",
    "model.add(Dense(int(output_vector_length)+1, activation='softmax'))\n",
    "sgd = SGD(lr=0.01, decay=1e-6, momentum=0.9, nesterov=True)\n",
    "\n",
    "model.compile(loss='categorical_crossentropy', \n",
    "              optimizer ='adam', \n",
    "              metrics =['accuracy','categorical_accuracy'])"
   ]
  },
  {
   "cell_type": "code",
   "execution_count": 84,
   "metadata": {},
   "outputs": [
    {
     "name": "stdout",
     "output_type": "stream",
     "text": [
      "_________________________________________________________________\n",
      "Layer (type)                 Output Shape              Param #   \n",
      "=================================================================\n",
      "conv2d_1 (Conv2D)            (None, 1, 26, 32)         128       \n",
      "_________________________________________________________________\n",
      "max_pooling2d_1 (MaxPooling2 (None, 1, 26, 32)         0         \n",
      "_________________________________________________________________\n",
      "activation_1 (Activation)    (None, 1, 26, 32)         0         \n",
      "_________________________________________________________________\n",
      "conv2d_2 (Conv2D)            (None, 1, 26, 64)         2112      \n",
      "_________________________________________________________________\n",
      "max_pooling2d_2 (MaxPooling2 (None, 1, 26, 64)         0         \n",
      "_________________________________________________________________\n",
      "activation_2 (Activation)    (None, 1, 26, 64)         0         \n",
      "_________________________________________________________________\n",
      "flatten_1 (Flatten)          (None, 1664)              0         \n",
      "_________________________________________________________________\n",
      "dense_1 (Dense)              (None, 32)                53280     \n",
      "_________________________________________________________________\n",
      "dropout_1 (Dropout)          (None, 32)                0         \n",
      "_________________________________________________________________\n",
      "dense_2 (Dense)              (None, 31)                1023      \n",
      "=================================================================\n",
      "Total params: 56,543\n",
      "Trainable params: 56,543\n",
      "Non-trainable params: 0\n",
      "_________________________________________________________________\n",
      "None\n",
      "Model Optput Shape :(None, 31)\n",
      "Model y_train Shape :(50694, 1)\n",
      "Model X_train Shape :(50694, 1, 26, 1)\n"
     ]
    }
   ],
   "source": [
    "print (model.summary())\n",
    "print ('Model Optput Shape :' + str(model.output_shape))\n",
    "print ('Model y_train Shape :' + str(y_train.shape))\n",
    "print ('Model X_train Shape :' + str(X_train.shape))"
   ]
  },
  {
   "cell_type": "code",
   "execution_count": 85,
   "metadata": {},
   "outputs": [
    {
     "name": "stdout",
     "output_type": "stream",
     "text": [
      "Train on 40555 samples, validate on 10139 samples\n",
      "Epoch 1/100\n",
      "40555/40555 [==============================] - 6s - loss: 2.7819 - acc: 0.1818 - categorical_accuracy: 0.1818 - val_loss: 2.3502 - val_acc: 0.2483 - val_categorical_accuracy: 0.2483\n",
      "Epoch 2/100\n",
      "40555/40555 [==============================] - 6s - loss: 2.2655 - acc: 0.2564 - categorical_accuracy: 0.2564 - val_loss: 2.1476 - val_acc: 0.2763 - val_categorical_accuracy: 0.2763\n",
      "Epoch 3/100\n",
      "40555/40555 [==============================] - 6s - loss: 2.1658 - acc: 0.2726 - categorical_accuracy: 0.2726 - val_loss: 2.0972 - val_acc: 0.2856 - val_categorical_accuracy: 0.2856\n",
      "Epoch 4/100\n",
      "40555/40555 [==============================] - 6s - loss: 2.1335 - acc: 0.2776 - categorical_accuracy: 0.2776 - val_loss: 2.0805 - val_acc: 0.2845 - val_categorical_accuracy: 0.2845\n",
      "Epoch 5/100\n",
      "40555/40555 [==============================] - 5s - loss: 2.1149 - acc: 0.2826 - categorical_accuracy: 0.2826 - val_loss: 2.0649 - val_acc: 0.2897 - val_categorical_accuracy: 0.2897\n",
      "Epoch 6/100\n",
      "40555/40555 [==============================] - 5s - loss: 2.1017 - acc: 0.2841 - categorical_accuracy: 0.2841 - val_loss: 2.0552 - val_acc: 0.2941 - val_categorical_accuracy: 0.2941\n",
      "Epoch 7/100\n",
      "40555/40555 [==============================] - 5s - loss: 2.0898 - acc: 0.2880 - categorical_accuracy: 0.2880 - val_loss: 2.0479 - val_acc: 0.2886 - val_categorical_accuracy: 0.2886\n",
      "Epoch 8/100\n",
      "40555/40555 [==============================] - 7s - loss: 2.0805 - acc: 0.2899 - categorical_accuracy: 0.2899 - val_loss: 2.0456 - val_acc: 0.2925 - val_categorical_accuracy: 0.2925\n",
      "Epoch 9/100\n",
      "40555/40555 [==============================] - 7s - loss: 2.0736 - acc: 0.2907 - categorical_accuracy: 0.2907 - val_loss: 2.0372 - val_acc: 0.2960 - val_categorical_accuracy: 0.2960\n",
      "Epoch 10/100\n",
      "40555/40555 [==============================] - 7s - loss: 2.0663 - acc: 0.2923 - categorical_accuracy: 0.2923 - val_loss: 2.0345 - val_acc: 0.2937 - val_categorical_accuracy: 0.2937\n",
      "Epoch 11/100\n",
      "40555/40555 [==============================] - 7s - loss: 2.0613 - acc: 0.2933 - categorical_accuracy: 0.2933 - val_loss: 2.0301 - val_acc: 0.2958 - val_categorical_accuracy: 0.2958\n",
      "Epoch 12/100\n",
      "40555/40555 [==============================] - 8s - loss: 2.0550 - acc: 0.2974 - categorical_accuracy: 0.2974 - val_loss: 2.0315 - val_acc: 0.2963 - val_categorical_accuracy: 0.2963\n",
      "Epoch 13/100\n",
      "40555/40555 [==============================] - 7s - loss: 2.0497 - acc: 0.2967 - categorical_accuracy: 0.2967 - val_loss: 2.0262 - val_acc: 0.3020 - val_categorical_accuracy: 0.3020\n",
      "Epoch 14/100\n",
      "40555/40555 [==============================] - 8s - loss: 2.0473 - acc: 0.2997 - categorical_accuracy: 0.2997 - val_loss: 2.0272 - val_acc: 0.3021 - val_categorical_accuracy: 0.3021\n",
      "Epoch 15/100\n",
      "40555/40555 [==============================] - 6s - loss: 2.0441 - acc: 0.3005 - categorical_accuracy: 0.3005 - val_loss: 2.0228 - val_acc: 0.3027 - val_categorical_accuracy: 0.3027\n",
      "Epoch 16/100\n",
      "40555/40555 [==============================] - 6s - loss: 2.0416 - acc: 0.2986 - categorical_accuracy: 0.2986 - val_loss: 2.0278 - val_acc: 0.2960 - val_categorical_accuracy: 0.2960\n",
      "Epoch 17/100\n",
      "40555/40555 [==============================] - 7s - loss: 2.0356 - acc: 0.3025 - categorical_accuracy: 0.3025 - val_loss: 2.0200 - val_acc: 0.3037 - val_categorical_accuracy: 0.3037\n",
      "Epoch 18/100\n",
      "40555/40555 [==============================] - 7s - loss: 2.0338 - acc: 0.3024 - categorical_accuracy: 0.3024 - val_loss: 2.0159 - val_acc: 0.3058 - val_categorical_accuracy: 0.3058\n",
      "Epoch 19/100\n",
      "40555/40555 [==============================] - 7s - loss: 2.0303 - acc: 0.3022 - categorical_accuracy: 0.3022 - val_loss: 2.0152 - val_acc: 0.3006 - val_categorical_accuracy: 0.3006\n",
      "Epoch 20/100\n",
      "40555/40555 [==============================] - 7s - loss: 2.0283 - acc: 0.3045 - categorical_accuracy: 0.3045 - val_loss: 2.0232 - val_acc: 0.2976 - val_categorical_accuracy: 0.2976\n",
      "Epoch 21/100\n",
      "40555/40555 [==============================] - 6s - loss: 2.0272 - acc: 0.3046 - categorical_accuracy: 0.3046 - val_loss: 2.0202 - val_acc: 0.2980 - val_categorical_accuracy: 0.2980\n",
      "Epoch 22/100\n",
      "40555/40555 [==============================] - 7s - loss: 2.0256 - acc: 0.3045 - categorical_accuracy: 0.3045 - val_loss: 2.0161 - val_acc: 0.3005 - val_categorical_accuracy: 0.3005\n",
      "Epoch 23/100\n",
      "40555/40555 [==============================] - 7s - loss: 2.0203 - acc: 0.3069 - categorical_accuracy: 0.3069 - val_loss: 2.0190 - val_acc: 0.2997 - val_categorical_accuracy: 0.2997\n",
      "Epoch 24/100\n",
      "40555/40555 [==============================] - 7s - loss: 2.0175 - acc: 0.3062 - categorical_accuracy: 0.3062 - val_loss: 2.0116 - val_acc: 0.3024 - val_categorical_accuracy: 0.3024\n",
      "Epoch 25/100\n",
      "40555/40555 [==============================] - 6s - loss: 2.0152 - acc: 0.3067 - categorical_accuracy: 0.3067 - val_loss: 2.0114 - val_acc: 0.3064 - val_categorical_accuracy: 0.3064\n",
      "Epoch 26/100\n",
      "40555/40555 [==============================] - 6s - loss: 2.0133 - acc: 0.3091 - categorical_accuracy: 0.3091 - val_loss: 2.0095 - val_acc: 0.3024 - val_categorical_accuracy: 0.3024\n",
      "Epoch 27/100\n",
      "40555/40555 [==============================] - 5s - loss: 2.0120 - acc: 0.3099 - categorical_accuracy: 0.3099 - val_loss: 2.0116 - val_acc: 0.3107 - val_categorical_accuracy: 0.3107\n",
      "Epoch 28/100\n",
      "40555/40555 [==============================] - 5s - loss: 2.0104 - acc: 0.3106 - categorical_accuracy: 0.3106 - val_loss: 2.0058 - val_acc: 0.3065 - val_categorical_accuracy: 0.3065\n",
      "Epoch 29/100\n",
      "40555/40555 [==============================] - 5s - loss: 2.0095 - acc: 0.3137 - categorical_accuracy: 0.3137 - val_loss: 2.0132 - val_acc: 0.3029 - val_categorical_accuracy: 0.3029\n",
      "Epoch 30/100\n",
      "40555/40555 [==============================] - 5s - loss: 2.0067 - acc: 0.3106 - categorical_accuracy: 0.3106 - val_loss: 2.0074 - val_acc: 0.3064 - val_categorical_accuracy: 0.3064\n",
      "Epoch 31/100\n",
      "40555/40555 [==============================] - 5s - loss: 2.0035 - acc: 0.3126 - categorical_accuracy: 0.3126 - val_loss: 2.0115 - val_acc: 0.3067 - val_categorical_accuracy: 0.3067\n",
      "Epoch 32/100\n",
      "40555/40555 [==============================] - 5s - loss: 2.0051 - acc: 0.3097 - categorical_accuracy: 0.3097 - val_loss: 2.0075 - val_acc: 0.3032 - val_categorical_accuracy: 0.3032\n",
      "Epoch 33/100\n",
      "40555/40555 [==============================] - 5s - loss: 2.0003 - acc: 0.3123 - categorical_accuracy: 0.3123 - val_loss: 2.0041 - val_acc: 0.3040 - val_categorical_accuracy: 0.3040\n",
      "Epoch 34/100\n",
      "40555/40555 [==============================] - 5s - loss: 1.9984 - acc: 0.3142 - categorical_accuracy: 0.3142 - val_loss: 2.0045 - val_acc: 0.3079 - val_categorical_accuracy: 0.3079\n",
      "Epoch 35/100\n",
      "40555/40555 [==============================] - 5s - loss: 1.9955 - acc: 0.3158 - categorical_accuracy: 0.3158 - val_loss: 2.0095 - val_acc: 0.3011 - val_categorical_accuracy: 0.3011\n",
      "Epoch 36/100\n",
      "40555/40555 [==============================] - 6s - loss: 1.9958 - acc: 0.3141 - categorical_accuracy: 0.3141 - val_loss: 2.0055 - val_acc: 0.3051 - val_categorical_accuracy: 0.3051\n",
      "Epoch 37/100\n",
      "40555/40555 [==============================] - 5s - loss: 1.9945 - acc: 0.3177 - categorical_accuracy: 0.3177 - val_loss: 2.0044 - val_acc: 0.3063 - val_categorical_accuracy: 0.3063\n",
      "Epoch 38/100\n",
      "40555/40555 [==============================] - 5s - loss: 1.9911 - acc: 0.3177 - categorical_accuracy: 0.3177 - val_loss: 2.0049 - val_acc: 0.3085 - val_categorical_accuracy: 0.3085\n",
      "Epoch 39/100\n",
      "40555/40555 [==============================] - 5s - loss: 1.9909 - acc: 0.3188 - categorical_accuracy: 0.3188 - val_loss: 2.0011 - val_acc: 0.3044 - val_categorical_accuracy: 0.30449874 - acc: 0.3194 - \n",
      "Epoch 40/100\n",
      "40555/40555 [==============================] - 5s - loss: 1.9898 - acc: 0.3152 - categorical_accuracy: 0.3152 - val_loss: 2.0075 - val_acc: 0.3087 - val_categorical_accuracy: 0.3087\n",
      "Epoch 41/100\n",
      "40555/40555 [==============================] - 5s - loss: 1.9859 - acc: 0.3185 - categorical_accuracy: 0.3185 - val_loss: 2.0117 - val_acc: 0.2999 - val_categorical_accuracy: 0.2999\n",
      "Epoch 42/100\n"
     ]
    },
    {
     "name": "stdout",
     "output_type": "stream",
     "text": [
      "40555/40555 [==============================] - 5s - loss: 1.9871 - acc: 0.3159 - categorical_accuracy: 0.3159 - val_loss: 2.0084 - val_acc: 0.3099 - val_categorical_accuracy: 0.3099- ETA: 1s - loss: 1.9779 - acc: 0\n",
      "Epoch 43/100\n",
      "40555/40555 [==============================] - 5s - loss: 1.9858 - acc: 0.3197 - categorical_accuracy: 0.3197 - val_loss: 2.0090 - val_acc: 0.3022 - val_categorical_accuracy: 0.3022\n",
      "Epoch 44/100\n",
      "40555/40555 [==============================] - 5s - loss: 1.9786 - acc: 0.3191 - categorical_accuracy: 0.3191 - val_loss: 2.0004 - val_acc: 0.3097 - val_categorical_accuracy: 0.3097\n",
      "Epoch 45/100\n",
      "40555/40555 [==============================] - 5s - loss: 1.9805 - acc: 0.3201 - categorical_accuracy: 0.3201 - val_loss: 2.0032 - val_acc: 0.3069 - val_categorical_accuracy: 0.3069\n",
      "Epoch 46/100\n",
      "40555/40555 [==============================] - 5s - loss: 1.9775 - acc: 0.3227 - categorical_accuracy: 0.3227 - val_loss: 2.0040 - val_acc: 0.3096 - val_categorical_accuracy: 0.3096\n",
      "Epoch 47/100\n",
      "40555/40555 [==============================] - 5s - loss: 1.9772 - acc: 0.3196 - categorical_accuracy: 0.3196 - val_loss: 2.0022 - val_acc: 0.3087 - val_categorical_accuracy: 0.3087\n",
      "Epoch 48/100\n",
      "40555/40555 [==============================] - 5s - loss: 1.9740 - acc: 0.3216 - categorical_accuracy: 0.3216 - val_loss: 2.0041 - val_acc: 0.3084 - val_categorical_accuracy: 0.3084\n",
      "Epoch 49/100\n",
      "40555/40555 [==============================] - 5s - loss: 1.9719 - acc: 0.3228 - categorical_accuracy: 0.3228 - val_loss: 2.0061 - val_acc: 0.3048 - val_categorical_accuracy: 0.3048\n",
      "Epoch 50/100\n",
      "40555/40555 [==============================] - 5s - loss: 1.9728 - acc: 0.3212 - categorical_accuracy: 0.3212 - val_loss: 2.0066 - val_acc: 0.3079 - val_categorical_accuracy: 0.3079\n",
      "Epoch 51/100\n",
      "40555/40555 [==============================] - 5s - loss: 1.9707 - acc: 0.3219 - categorical_accuracy: 0.3219 - val_loss: 2.0109 - val_acc: 0.3080 - val_categorical_accuracy: 0.3080\n",
      "Epoch 52/100\n",
      "40555/40555 [==============================] - 5s - loss: 1.9675 - acc: 0.3251 - categorical_accuracy: 0.3251 - val_loss: 2.0051 - val_acc: 0.3126 - val_categorical_accuracy: 0.3126\n",
      "Epoch 53/100\n",
      "40555/40555 [==============================] - 5s - loss: 1.9663 - acc: 0.3249 - categorical_accuracy: 0.3249 - val_loss: 2.0030 - val_acc: 0.3092 - val_categorical_accuracy: 0.3092\n",
      "Epoch 54/100\n",
      "40555/40555 [==============================] - 5s - loss: 1.9640 - acc: 0.3257 - categorical_accuracy: 0.3257 - val_loss: 2.0074 - val_acc: 0.3104 - val_categorical_accuracy: 0.3104\n",
      "Epoch 55/100\n",
      "40555/40555 [==============================] - 6s - loss: 1.9630 - acc: 0.3248 - categorical_accuracy: 0.3248 - val_loss: 2.0062 - val_acc: 0.3089 - val_categorical_accuracy: 0.3089\n",
      "Epoch 56/100\n",
      "40555/40555 [==============================] - 5s - loss: 1.9603 - acc: 0.3223 - categorical_accuracy: 0.3223 - val_loss: 2.0008 - val_acc: 0.3097 - val_categorical_accuracy: 0.3097\n",
      "Epoch 57/100\n",
      "40555/40555 [==============================] - 5s - loss: 1.9584 - acc: 0.3277 - categorical_accuracy: 0.3277 - val_loss: 2.0092 - val_acc: 0.3108 - val_categorical_accuracy: 0.3108\n",
      "Epoch 58/100\n",
      "40555/40555 [==============================] - 5s - loss: 1.9583 - acc: 0.3280 - categorical_accuracy: 0.3280 - val_loss: 2.0048 - val_acc: 0.3040 - val_categorical_accuracy: 0.3040\n",
      "Epoch 59/100\n",
      "40555/40555 [==============================] - 5s - loss: 1.9562 - acc: 0.3280 - categorical_accuracy: 0.3280 - val_loss: 2.0185 - val_acc: 0.3063 - val_categorical_accuracy: 0.3063\n",
      "Epoch 60/100\n",
      "40555/40555 [==============================] - 5s - loss: 1.9552 - acc: 0.3263 - categorical_accuracy: 0.3263 - val_loss: 2.0065 - val_acc: 0.3107 - val_categorical_accuracy: 0.3107\n",
      "Epoch 61/100\n",
      "40555/40555 [==============================] - 5s - loss: 1.9542 - acc: 0.3294 - categorical_accuracy: 0.3294 - val_loss: 2.0071 - val_acc: 0.3067 - val_categorical_accuracy: 0.3067\n",
      "Epoch 62/100\n",
      "40555/40555 [==============================] - 5s - loss: 1.9509 - acc: 0.3303 - categorical_accuracy: 0.3303 - val_loss: 2.0100 - val_acc: 0.3104 - val_categorical_accuracy: 0.3104\n",
      "Epoch 63/100\n",
      "40555/40555 [==============================] - 5s - loss: 1.9490 - acc: 0.3280 - categorical_accuracy: 0.3280 - val_loss: 2.0079 - val_acc: 0.3074 - val_categorical_accuracy: 0.3074\n",
      "Epoch 64/100\n",
      "40555/40555 [==============================] - 5s - loss: 1.9471 - acc: 0.3303 - categorical_accuracy: 0.3303 - val_loss: 2.0073 - val_acc: 0.3097 - val_categorical_accuracy: 0.3097\n",
      "Epoch 65/100\n",
      "40555/40555 [==============================] - 5s - loss: 1.9455 - acc: 0.3303 - categorical_accuracy: 0.3303 - val_loss: 2.0100 - val_acc: 0.3086 - val_categorical_accuracy: 0.3086\n",
      "Epoch 66/100\n",
      "40555/40555 [==============================] - 5s - loss: 1.9446 - acc: 0.3295 - categorical_accuracy: 0.3295 - val_loss: 2.0079 - val_acc: 0.3099 - val_categorical_accuracy: 0.3099\n",
      "Epoch 67/100\n",
      "40555/40555 [==============================] - 5s - loss: 1.9425 - acc: 0.3318 - categorical_accuracy: 0.3318 - val_loss: 2.0096 - val_acc: 0.3092 - val_categorical_accuracy: 0.3092\n",
      "Epoch 68/100\n",
      "40555/40555 [==============================] - 5s - loss: 1.9431 - acc: 0.3291 - categorical_accuracy: 0.3291 - val_loss: 2.0112 - val_acc: 0.3029 - val_categorical_accuracy: 0.3029\n",
      "Epoch 69/100\n",
      "40555/40555 [==============================] - 6s - loss: 1.9416 - acc: 0.3334 - categorical_accuracy: 0.3334 - val_loss: 2.0064 - val_acc: 0.3118 - val_categorical_accuracy: 0.3118\n",
      "Epoch 70/100\n",
      "40555/40555 [==============================] - 5s - loss: 1.9410 - acc: 0.3292 - categorical_accuracy: 0.3292 - val_loss: 2.0094 - val_acc: 0.3110 - val_categorical_accuracy: 0.3110\n",
      "Epoch 71/100\n",
      "40555/40555 [==============================] - 5s - loss: 1.9360 - acc: 0.3339 - categorical_accuracy: 0.3339 - val_loss: 2.0084 - val_acc: 0.3049 - val_categorical_accuracy: 0.3049\n",
      "Epoch 72/100\n",
      "40555/40555 [==============================] - 5s - loss: 1.9363 - acc: 0.3325 - categorical_accuracy: 0.3325 - val_loss: 2.0110 - val_acc: 0.3090 - val_categorical_accuracy: 0.3090\n",
      "Epoch 73/100\n",
      "40555/40555 [==============================] - 5s - loss: 1.9327 - acc: 0.3316 - categorical_accuracy: 0.3316 - val_loss: 2.0133 - val_acc: 0.3058 - val_categorical_accuracy: 0.3058\n",
      "Epoch 74/100\n",
      "40555/40555 [==============================] - 5s - loss: 1.9332 - acc: 0.3320 - categorical_accuracy: 0.3320 - val_loss: 2.0186 - val_acc: 0.3062 - val_categorical_accuracy: 0.3062\n",
      "Epoch 75/100\n",
      "40555/40555 [==============================] - 5s - loss: 1.9313 - acc: 0.3343 - categorical_accuracy: 0.3343 - val_loss: 2.0113 - val_acc: 0.3117 - val_categorical_accuracy: 0.3117\n",
      "Epoch 76/100\n",
      "40555/40555 [==============================] - 5s - loss: 1.9284 - acc: 0.3338 - categorical_accuracy: 0.3338 - val_loss: 2.0138 - val_acc: 0.3072 - val_categorical_accuracy: 0.3072\n",
      "Epoch 77/100\n",
      "40555/40555 [==============================] - 5s - loss: 1.9260 - acc: 0.3367 - categorical_accuracy: 0.3367 - val_loss: 2.0191 - val_acc: 0.3095 - val_categorical_accuracy: 0.30951.9272 - acc: 0.3366 - categorical_accuracy: \n",
      "Epoch 78/100\n",
      "40555/40555 [==============================] - 5s - loss: 1.9237 - acc: 0.3326 - categorical_accuracy: 0.3326 - val_loss: 2.0190 - val_acc: 0.3066 - val_categorical_accuracy: 0.3066\n",
      "Epoch 79/100\n",
      "40555/40555 [==============================] - 5s - loss: 1.9266 - acc: 0.3356 - categorical_accuracy: 0.3356 - val_loss: 2.0167 - val_acc: 0.3083 - val_categorical_accuracy: 0.3083\n",
      "Epoch 80/100\n",
      "40555/40555 [==============================] - 6s - loss: 1.9243 - acc: 0.3358 - categorical_accuracy: 0.3358 - val_loss: 2.0147 - val_acc: 0.3084 - val_categorical_accuracy: 0.3084\n",
      "Epoch 81/100\n",
      "40555/40555 [==============================] - 5s - loss: 1.9231 - acc: 0.3373 - categorical_accuracy: 0.3373 - val_loss: 2.0199 - val_acc: 0.3079 - val_categorical_accuracy: 0.3079\n",
      "Epoch 82/100\n",
      "40555/40555 [==============================] - 5s - loss: 1.9182 - acc: 0.3371 - categorical_accuracy: 0.3371 - val_loss: 2.0219 - val_acc: 0.3091 - val_categorical_accuracy: 0.3091\n",
      "Epoch 83/100\n"
     ]
    },
    {
     "name": "stdout",
     "output_type": "stream",
     "text": [
      "40555/40555 [==============================] - 5s - loss: 1.9179 - acc: 0.3369 - categorical_accuracy: 0.3369 - val_loss: 2.0176 - val_acc: 0.3081 - val_categorical_accuracy: 0.3081\n",
      "Epoch 84/100\n",
      "40555/40555 [==============================] - 5s - loss: 1.9156 - acc: 0.3359 - categorical_accuracy: 0.3359 - val_loss: 2.0246 - val_acc: 0.3058 - val_categorical_accuracy: 0.3058\n",
      "Epoch 85/100\n",
      "40555/40555 [==============================] - 5s - loss: 1.9118 - acc: 0.3407 - categorical_accuracy: 0.3407 - val_loss: 2.0219 - val_acc: 0.3111 - val_categorical_accuracy: 0.3111\n",
      "Epoch 86/100\n",
      "40555/40555 [==============================] - 5s - loss: 1.9115 - acc: 0.3383 - categorical_accuracy: 0.3383 - val_loss: 2.0194 - val_acc: 0.3100 - val_categorical_accuracy: 0.3100\n",
      "Epoch 87/100\n",
      "40555/40555 [==============================] - 5s - loss: 1.9120 - acc: 0.3392 - categorical_accuracy: 0.3392 - val_loss: 2.0211 - val_acc: 0.3110 - val_categorical_accuracy: 0.3110\n",
      "Epoch 88/100\n",
      "40555/40555 [==============================] - 5s - loss: 1.9093 - acc: 0.3396 - categorical_accuracy: 0.3396 - val_loss: 2.0207 - val_acc: 0.3114 - val_categorical_accuracy: 0.3114\n",
      "Epoch 89/100\n",
      "40555/40555 [==============================] - 5s - loss: 1.9067 - acc: 0.3391 - categorical_accuracy: 0.3391 - val_loss: 2.0181 - val_acc: 0.3079 - val_categorical_accuracy: 0.3079\n",
      "Epoch 90/100\n",
      "40555/40555 [==============================] - 5s - loss: 1.9050 - acc: 0.3411 - categorical_accuracy: 0.3411 - val_loss: 2.0177 - val_acc: 0.3096 - val_categorical_accuracy: 0.3096\n",
      "Epoch 91/100\n",
      "40555/40555 [==============================] - 5s - loss: 1.9035 - acc: 0.3393 - categorical_accuracy: 0.3393 - val_loss: 2.0229 - val_acc: 0.3085 - val_categorical_accuracy: 0.3085\n",
      "Epoch 92/100\n",
      "40555/40555 [==============================] - 5s - loss: 1.9044 - acc: 0.3427 - categorical_accuracy: 0.3427 - val_loss: 2.0216 - val_acc: 0.3128 - val_categorical_accuracy: 0.3128\n",
      "Epoch 93/100\n",
      "40555/40555 [==============================] - 5s - loss: 1.9012 - acc: 0.3410 - categorical_accuracy: 0.3410 - val_loss: 2.0276 - val_acc: 0.3082 - val_categorical_accuracy: 0.3082\n",
      "Epoch 94/100\n",
      "40555/40555 [==============================] - 5s - loss: 1.8983 - acc: 0.3446 - categorical_accuracy: 0.3446 - val_loss: 2.0195 - val_acc: 0.3069 - val_categorical_accuracy: 0.3069\n",
      "Epoch 95/100\n",
      "40555/40555 [==============================] - 5s - loss: 1.8967 - acc: 0.3416 - categorical_accuracy: 0.3416 - val_loss: 2.0226 - val_acc: 0.3110 - val_categorical_accuracy: 0.3110\n",
      "Epoch 96/100\n",
      "40555/40555 [==============================] - 5s - loss: 1.8974 - acc: 0.3427 - categorical_accuracy: 0.3427 - val_loss: 2.0218 - val_acc: 0.3099 - val_categorical_accuracy: 0.3099\n",
      "Epoch 97/100\n",
      "40555/40555 [==============================] - 5s - loss: 1.8947 - acc: 0.3434 - categorical_accuracy: 0.3434 - val_loss: 2.0283 - val_acc: 0.3065 - val_categorical_accuracy: 0.3065\n",
      "Epoch 98/100\n",
      "40555/40555 [==============================] - 5s - loss: 1.8930 - acc: 0.3432 - categorical_accuracy: 0.3432 - val_loss: 2.0238 - val_acc: 0.3084 - val_categorical_accuracy: 0.3084\n",
      "Epoch 99/100\n",
      "40555/40555 [==============================] - 5s - loss: 1.8905 - acc: 0.3465 - categorical_accuracy: 0.3465 - val_loss: 2.0265 - val_acc: 0.3060 - val_categorical_accuracy: 0.3060\n",
      "Epoch 100/100\n",
      "40555/40555 [==============================] - 5s - loss: 1.8908 - acc: 0.3453 - categorical_accuracy: 0.3453 - val_loss: 2.0319 - val_acc: 0.3057 - val_categorical_accuracy: 0.3057\n"
     ]
    }
   ],
   "source": [
    "# h = model.fit(X_train, y_train, batch_size=128, epochs=200, verbose=1, validation_split=0.35)\n",
    "\n",
    "h = model.fit(X_train, y_train_cat, batch_size=512,\n",
    "          epochs=100, verbose=1, validation_split=0.20)"
   ]
  },
  {
   "cell_type": "code",
   "execution_count": 86,
   "metadata": {},
   "outputs": [
    {
     "data": {
      "text/plain": [
       "<matplotlib.text.Text at 0x109e36a0>"
      ]
     },
     "execution_count": 86,
     "metadata": {},
     "output_type": "execute_result"
    },
    {
     "data": {
      "image/png": "[encoded data removed]",
      "text/plain": [
       "<matplotlib.figure.Figure at 0x106dcb00>"
      ]
     },
     "metadata": {},
     "output_type": "display_data"
    }
   ],
   "source": [
    "plt.plot(h.history['acc'])\n",
    "plt.plot(h.history['val_acc'])\n",
    "plt.legend(['Training', 'Validation'])\n",
    "plt.title('Accuracy')\n",
    "plt.xlabel('Epochs')"
   ]
  },
  {
   "cell_type": "code",
   "execution_count": 44,
   "metadata": {
    "collapsed": true
   },
   "outputs": [],
   "source": [
    "from sklearn.metrics import classification_report, confusion_matrix"
   ]
  },
  {
   "cell_type": "code",
   "execution_count": 45,
   "metadata": {
    "collapsed": true
   },
   "outputs": [],
   "source": [
    "Y_pred = model.predict(X_test)"
   ]
  },
  {
   "cell_type": "code",
   "execution_count": 46,
   "metadata": {
    "collapsed": true
   },
   "outputs": [],
   "source": [
    "np.set_printoptions(threshold=np.nan)"
   ]
  },
  {
   "cell_type": "code",
   "execution_count": 47,
   "metadata": {},
   "outputs": [],
   "source": [
    "y_pred = np.argmax(Y_pred,axis=1)\n",
    "# print(y_pred)\n",
    "# print ('\\n')"
   ]
  },
  {
   "cell_type": "code",
   "execution_count": 48,
   "metadata": {
    "collapsed": true
   },
   "outputs": [],
   "source": [
    "np.set_printoptions(threshold=20)"
   ]
  },
  {
   "cell_type": "code",
   "execution_count": 49,
   "metadata": {
    "collapsed": true
   },
   "outputs": [],
   "source": [
    "pd.DataFrame(confusion_matrix(np.argmax(y_test_cat,axis=1),y_pred)).to_csv('confusion_m_RevA.csv')"
   ]
  },
  {
   "cell_type": "markdown",
   "metadata": {},
   "source": [
    "### Next we will build a Multi Layer Perceptron Model"
   ]
  },
  {
   "cell_type": "code",
   "execution_count": 50,
   "metadata": {},
   "outputs": [],
   "source": [
    "from sklearn.preprocessing import StandardScaler\n",
    "from keras.utils.np_utils import to_categorical"
   ]
  },
  {
   "cell_type": "code",
   "execution_count": 51,
   "metadata": {
    "collapsed": true
   },
   "outputs": [],
   "source": [
    "sc = StandardScaler()"
   ]
  },
  {
   "cell_type": "code",
   "execution_count": 52,
   "metadata": {
    "collapsed": true
   },
   "outputs": [],
   "source": [
    "df_fe = df_fe.dropna()\n",
    "df_test = df_test.dropna()"
   ]
  },
  {
   "cell_type": "code",
   "execution_count": 54,
   "metadata": {},
   "outputs": [],
   "source": [
    "df_fe.to_csv('final_train_data.csv')\n",
    "df_test.to_csv('final_test_data.csv')"
   ]
  },
  {
   "cell_type": "code",
   "execution_count": 55,
   "metadata": {},
   "outputs": [
    {
     "name": "stderr",
     "output_type": "stream",
     "text": [
      "C:\\Anaconda3\\lib\\site-packages\\ipykernel_launcher.py:1: DeprecationWarning: \n",
      ".ix is deprecated. Please use\n",
      ".loc for label based indexing or\n",
      ".iloc for positional indexing\n",
      "\n",
      "See the documentation here:\n",
      "http://pandas.pydata.org/pandas-docs/stable/indexing.html#deprecate_ix\n",
      "  \"\"\"Entry point for launching an IPython kernel.\n"
     ]
    }
   ],
   "source": [
    "X_train_MLP = np.array(df_fe.ix[:,['Pre_L_Period1','Pre_L_Period2','01_TEMP','02_TEMP','03_TEMP','04_TEMP','05_TEMP','06_TEMP','07_TEMP','08_TEMP','09_TEMP',\n",
    "                                   'Pre_PreOvL1','Pre_PreOvL2','Pre_L_CYCLE1','Pre_L_CYCLE2','LastMonth_rolling_PREOVULATION',\n",
    "                                   'Med3-Med6','Med3-Mean6','Med3-Min6','Mean3-Med6','Mean3-Mean6','Mean3-Min6','Max3-Median6',\n",
    "                               'Max3-Mean6','Max3-Min6','Sum_Of_All']], dtype='float64')"
   ]
  },
  {
   "cell_type": "code",
   "execution_count": 56,
   "metadata": {},
   "outputs": [
    {
     "name": "stderr",
     "output_type": "stream",
     "text": [
      "C:\\Anaconda3\\lib\\site-packages\\ipykernel_launcher.py:1: DeprecationWarning: \n",
      ".ix is deprecated. Please use\n",
      ".loc for label based indexing or\n",
      ".iloc for positional indexing\n",
      "\n",
      "See the documentation here:\n",
      "http://pandas.pydata.org/pandas-docs/stable/indexing.html#deprecate_ix\n",
      "  \"\"\"Entry point for launching an IPython kernel.\n"
     ]
    }
   ],
   "source": [
    "X_test_MLP = np.array(df_test.ix[:,['Pre_L_Period1','Pre_L_Period2','01_TEMP','02_TEMP','03_TEMP','04_TEMP','05_TEMP','06_TEMP','07_TEMP','08_TEMP','09_TEMP',\n",
    "                                   'Pre_PreOvL1','Pre_PreOvL2','Pre_L_CYCLE1','Pre_L_CYCLE2','LastMonth_rolling_PREOVULATION',\n",
    "                                   'Med3-Med6','Med3-Mean6','Med3-Min6','Mean3-Med6','Mean3-Mean6','Mean3-Min6','Max3-Median6',\n",
    "                               'Max3-Mean6','Max3-Min6','Sum_Of_All']], dtype='float64')"
   ]
  },
  {
   "cell_type": "code",
   "execution_count": 57,
   "metadata": {
    "collapsed": true
   },
   "outputs": [],
   "source": [
    "X_train_MLP = sc.fit_transform(X_train_MLP)\n",
    "X_test_MLP = sc.fit_transform(X_test_MLP)"
   ]
  },
  {
   "cell_type": "code",
   "execution_count": 58,
   "metadata": {},
   "outputs": [
    {
     "data": {
      "text/plain": [
       "array([[ 0.5009,  0.4731, -0.0086, ..., -0.3751, -1.0102, -0.9513],\n",
       "       [ 0.5009,  0.4731, -0.0086, ..., -1.3722, -1.8685, -1.4272],\n",
       "       [ 0.5009,  0.4731, -0.0086, ..., -0.3105, -0.1744, -0.5157],\n",
       "       ..., \n",
       "       [ 0.5009, -0.2942, -2.026 , ...,  1.6096,  1.6733,  2.1142],\n",
       "       [ 0.5009, -0.2942, -1.9633, ...,  1.2791,  1.6089,  1.6638],\n",
       "       [ 0.5009, -0.2942, -1.8829, ...,  0.8487,  1.5262,  1.1353]])"
      ]
     },
     "execution_count": 58,
     "metadata": {},
     "output_type": "execute_result"
    }
   ],
   "source": [
    "X_train_MLP"
   ]
  },
  {
   "cell_type": "code",
   "execution_count": 59,
   "metadata": {},
   "outputs": [
    {
     "data": {
      "text/plain": [
       "array([[ 0.5235, -0.1663,  1.2715, ...,  0.5348,  0.3481,  0.5843],\n",
       "       [ 0.5235, -0.1663, -0.21  , ...,  0.7229,  0.3481,  0.6933],\n",
       "       [ 0.5235,  0.4916,  0.0501, ..., -0.5784, -1.1632, -0.7583],\n",
       "       ..., \n",
       "       [ 0.5235,  1.1495,  0.5309, ...,  1.0345,  0.8156,  0.4239],\n",
       "       [ 0.5235,  1.1495,  0.5081, ...,  1.2006,  0.8156,  1.3144],\n",
       "       [ 0.5235,  1.1495, -0.2668, ...,  1.3967,  0.8156,  1.6439]])"
      ]
     },
     "execution_count": 59,
     "metadata": {},
     "output_type": "execute_result"
    }
   ],
   "source": [
    "X_test_MLP"
   ]
  },
  {
   "cell_type": "code",
   "execution_count": 60,
   "metadata": {
    "collapsed": true
   },
   "outputs": [],
   "source": [
    "y_train = np.array(df_fe.ix[:,['Target_Pre_OV']], dtype='float64')\n",
    "y_test = np.array(df_test.ix[:,['Target_Pre_OV']], dtype='float64')"
   ]
  },
  {
   "cell_type": "code",
   "execution_count": 61,
   "metadata": {
    "collapsed": true
   },
   "outputs": [],
   "source": [
    "output_vector_length = y_train.max()"
   ]
  },
  {
   "cell_type": "code",
   "execution_count": 62,
   "metadata": {
    "collapsed": true
   },
   "outputs": [],
   "source": [
    "y_train_cat = to_categorical(y_train)\n",
    "y_test_cat = to_categorical(y_test)"
   ]
  },
  {
   "cell_type": "code",
   "execution_count": 63,
   "metadata": {},
   "outputs": [
    {
     "name": "stdout",
     "output_type": "stream",
     "text": [
      "(50694, 26)\n",
      "(13613, 26)\n",
      "(50694, 31)\n",
      "(13613, 31)\n",
      "30.0\n"
     ]
    }
   ],
   "source": [
    "print (X_train_MLP.shape)\n",
    "print (X_test_MLP.shape)\n",
    "print (y_train_cat.shape)\n",
    "print (y_test_cat.shape)\n",
    "print (output_vector_length)"
   ]
  },
  {
   "cell_type": "markdown",
   "metadata": {},
   "source": [
    "### Building a \"Multiclass\" classification Multi Layer Perceptron Model"
   ]
  },
  {
   "cell_type": "code",
   "execution_count": 64,
   "metadata": {
    "collapsed": true
   },
   "outputs": [],
   "source": [
    "model = Sequential()"
   ]
  },
  {
   "cell_type": "code",
   "execution_count": 65,
   "metadata": {},
   "outputs": [],
   "source": [
    "model.add(Dense(10, input_shape=(X_train_MLP.shape[1],), activation='tanh'))\n",
    "model.add(Dense(32, activation='tanh'))\n",
    "model.add(Dense(128, activation='tanh'))\n",
    "model.add(Dense(128, activation='tanh'))\n",
    "model.add(Dropout(0.2))\n",
    "model.add(Dense(64, activation='tanh'))\n",
    "model.add(Dense(int(output_vector_length)+1, activation='softmax'))\n",
    "\n",
    "# Optimzer could be 'sgd', with below mentioned parameters, or default parameters\n",
    "sgd = SGD(lr=0.01, decay=1e-6, momentum=0.95, nesterov=True)\n",
    "\n",
    "model.compile(optimizer = sgd, loss = 'categorical_crossentropy',\n",
    "              metrics=['acc','mse'])"
   ]
  },
  {
   "cell_type": "code",
   "execution_count": 66,
   "metadata": {},
   "outputs": [
    {
     "name": "stdout",
     "output_type": "stream",
     "text": [
      "_________________________________________________________________\n",
      "Layer (type)                 Output Shape              Param #   \n",
      "=================================================================\n",
      "dense_3 (Dense)              (None, 10)                270       \n",
      "_________________________________________________________________\n",
      "dense_4 (Dense)              (None, 32)                352       \n",
      "_________________________________________________________________\n",
      "dense_5 (Dense)              (None, 128)               4224      \n",
      "_________________________________________________________________\n",
      "dense_6 (Dense)              (None, 128)               16512     \n",
      "_________________________________________________________________\n",
      "dropout_2 (Dropout)          (None, 128)               0         \n",
      "_________________________________________________________________\n",
      "dense_7 (Dense)              (None, 64)                8256      \n",
      "_________________________________________________________________\n",
      "dense_8 (Dense)              (None, 31)                2015      \n",
      "=================================================================\n",
      "Total params: 31,629\n",
      "Trainable params: 31,629\n",
      "Non-trainable params: 0\n",
      "_________________________________________________________________\n"
     ]
    }
   ],
   "source": [
    "model.summary()"
   ]
  },
  {
   "cell_type": "code",
   "execution_count": 67,
   "metadata": {
    "scrolled": true
   },
   "outputs": [
    {
     "name": "stdout",
     "output_type": "stream",
     "text": [
      "Train on 43089 samples, validate on 7605 samples\n",
      "Epoch 1/200\n",
      "43089/43089 [==============================] - 1s - loss: 2.8522 - acc: 0.1407 - mean_squared_error: 0.0295 - val_loss: 2.3351 - val_acc: 0.2046 - val_mean_squared_error: 0.0278\n",
      "Epoch 2/200\n",
      "43089/43089 [==============================] - 1s - loss: 2.2848 - acc: 0.2161 - mean_squared_error: 0.0275 - val_loss: 2.1914 - val_acc: 0.2235 - val_mean_squared_error: 0.0271\n",
      "Epoch 3/200\n",
      "43089/43089 [==============================] - 1s - loss: 2.2107 - acc: 0.2409 - mean_squared_error: 0.0269 - val_loss: 2.1320 - val_acc: 0.2543 - val_mean_squared_error: 0.0265\n",
      "Epoch 4/200\n",
      "43089/43089 [==============================] - 1s - loss: 2.1653 - acc: 0.2598 - mean_squared_error: 0.0264 - val_loss: 2.1078 - val_acc: 0.2581 - val_mean_squared_error: 0.0261\n",
      "Epoch 5/200\n",
      "43089/43089 [==============================] - 1s - loss: 2.1374 - acc: 0.2668 - mean_squared_error: 0.0261 - val_loss: 2.0807 - val_acc: 0.2664 - val_mean_squared_error: 0.0259\n",
      "Epoch 6/200\n",
      "43089/43089 [==============================] - 1s - loss: 2.1167 - acc: 0.2781 - mean_squared_error: 0.0259 - val_loss: 2.0702 - val_acc: 0.2715 - val_mean_squared_error: 0.0257\n",
      "Epoch 7/200\n",
      "43089/43089 [==============================] - 1s - loss: 2.0994 - acc: 0.2811 - mean_squared_error: 0.0257 - val_loss: 2.0566 - val_acc: 0.2753 - val_mean_squared_error: 0.0255\n",
      "Epoch 8/200\n",
      "43089/43089 [==============================] - 1s - loss: 2.0865 - acc: 0.2884 - mean_squared_error: 0.0255 - val_loss: 2.0473 - val_acc: 0.2756 - val_mean_squared_error: 0.0255\n",
      "Epoch 9/200\n",
      "43089/43089 [==============================] - 1s - loss: 2.0792 - acc: 0.2928 - mean_squared_error: 0.0254 - val_loss: 2.0356 - val_acc: 0.2810 - val_mean_squared_error: 0.0254\n",
      "Epoch 10/200\n",
      "43089/43089 [==============================] - 1s - loss: 2.0726 - acc: 0.2907 - mean_squared_error: 0.0254 - val_loss: 2.0429 - val_acc: 0.2824 - val_mean_squared_error: 0.0254\n",
      "Epoch 11/200\n",
      "43089/43089 [==============================] - 1s - loss: 2.0640 - acc: 0.2949 - mean_squared_error: 0.0253 - val_loss: 2.0364 - val_acc: 0.2859 - val_mean_squared_error: 0.0254\n",
      "Epoch 12/200\n",
      "43089/43089 [==============================] - 1s - loss: 2.0580 - acc: 0.2971 - mean_squared_error: 0.0253 - val_loss: 2.0315 - val_acc: 0.2803 - val_mean_squared_error: 0.0253\n",
      "Epoch 13/200\n",
      "43089/43089 [==============================] - 1s - loss: 2.0537 - acc: 0.2981 - mean_squared_error: 0.0252 - val_loss: 2.0293 - val_acc: 0.2869 - val_mean_squared_error: 0.0253\n",
      "Epoch 14/200\n",
      "43089/43089 [==============================] - 1s - loss: 2.0487 - acc: 0.2984 - mean_squared_error: 0.0251 - val_loss: 2.0286 - val_acc: 0.2893 - val_mean_squared_error: 0.0252\n",
      "Epoch 15/200\n",
      "43089/43089 [==============================] - 1s - loss: 2.0505 - acc: 0.2997 - mean_squared_error: 0.0252 - val_loss: 2.0262 - val_acc: 0.2923 - val_mean_squared_error: 0.0252\n",
      "Epoch 16/200\n",
      "43089/43089 [==============================] - 1s - loss: 2.0427 - acc: 0.2993 - mean_squared_error: 0.0251 - val_loss: 2.0259 - val_acc: 0.2864 - val_mean_squared_error: 0.0252\n",
      "Epoch 17/200\n",
      "43089/43089 [==============================] - 1s - loss: 2.0404 - acc: 0.3016 - mean_squared_error: 0.0251 - val_loss: 2.0297 - val_acc: 0.2856 - val_mean_squared_error: 0.0252\n",
      "Epoch 18/200\n",
      "43089/43089 [==============================] - 1s - loss: 2.0373 - acc: 0.3038 - mean_squared_error: 0.0251 - val_loss: 2.0257 - val_acc: 0.2885 - val_mean_squared_error: 0.0252\n",
      "Epoch 19/200\n",
      "43089/43089 [==============================] - 1s - loss: 2.0355 - acc: 0.3045 - mean_squared_error: 0.0250 - val_loss: 2.0182 - val_acc: 0.2881 - val_mean_squared_error: 0.0251\n",
      "Epoch 20/200\n",
      "43089/43089 [==============================] - 1s - loss: 2.0332 - acc: 0.3038 - mean_squared_error: 0.0250 - val_loss: 2.0240 - val_acc: 0.2881 - val_mean_squared_error: 0.0252\n",
      "Epoch 21/200\n",
      "43089/43089 [==============================] - 1s - loss: 2.0314 - acc: 0.3040 - mean_squared_error: 0.0250 - val_loss: 2.0164 - val_acc: 0.2906 - val_mean_squared_error: 0.0251\n",
      "Epoch 22/200\n",
      "43089/43089 [==============================] - 1s - loss: 2.0305 - acc: 0.3043 - mean_squared_error: 0.0250 - val_loss: 2.0145 - val_acc: 0.2941 - val_mean_squared_error: 0.0251\n",
      "Epoch 23/200\n",
      "43089/43089 [==============================] - 1s - loss: 2.0289 - acc: 0.3036 - mean_squared_error: 0.0250 - val_loss: 2.0212 - val_acc: 0.2873 - val_mean_squared_error: 0.0251\n",
      "Epoch 24/200\n",
      "43089/43089 [==============================] - 1s - loss: 2.0255 - acc: 0.3050 - mean_squared_error: 0.0249 - val_loss: 2.0170 - val_acc: 0.2864 - val_mean_squared_error: 0.0251\n",
      "Epoch 25/200\n",
      "43089/43089 [==============================] - 1s - loss: 2.0253 - acc: 0.3041 - mean_squared_error: 0.0250 - val_loss: 2.0260 - val_acc: 0.2870 - val_mean_squared_error: 0.0252\n",
      "Epoch 26/200\n",
      "43089/43089 [==============================] - 1s - loss: 2.0237 - acc: 0.3044 - mean_squared_error: 0.0249 - val_loss: 2.0201 - val_acc: 0.2894 - val_mean_squared_error: 0.0251\n",
      "Epoch 27/200\n",
      "43089/43089 [==============================] - 1s - loss: 2.0214 - acc: 0.3063 - mean_squared_error: 0.0249 - val_loss: 2.0180 - val_acc: 0.2903 - val_mean_squared_error: 0.0251\n",
      "Epoch 28/200\n",
      "43089/43089 [==============================] - 1s - loss: 2.0217 - acc: 0.3080 - mean_squared_error: 0.0249 - val_loss: 2.0220 - val_acc: 0.2855 - val_mean_squared_error: 0.0252\n",
      "Epoch 29/200\n",
      "43089/43089 [==============================] - 1s - loss: 2.0211 - acc: 0.3081 - mean_squared_error: 0.0249 - val_loss: 2.0172 - val_acc: 0.2924 - val_mean_squared_error: 0.0251\n",
      "Epoch 30/200\n",
      "43089/43089 [==============================] - 1s - loss: 2.0203 - acc: 0.3057 - mean_squared_error: 0.0249 - val_loss: 2.0104 - val_acc: 0.2918 - val_mean_squared_error: 0.0250\n",
      "Epoch 31/200\n",
      "43089/43089 [==============================] - 1s - loss: 2.0188 - acc: 0.3095 - mean_squared_error: 0.0249 - val_loss: 2.0213 - val_acc: 0.2888 - val_mean_squared_error: 0.0251\n",
      "Epoch 32/200\n",
      "43089/43089 [==============================] - 1s - loss: 2.0185 - acc: 0.3077 - mean_squared_error: 0.0249 - val_loss: 2.0202 - val_acc: 0.2927 - val_mean_squared_error: 0.0251\n",
      "Epoch 33/200\n",
      "43089/43089 [==============================] - 1s - loss: 2.0167 - acc: 0.3098 - mean_squared_error: 0.0249 - val_loss: 2.0138 - val_acc: 0.2911 - val_mean_squared_error: 0.0251\n",
      "Epoch 34/200\n",
      "43089/43089 [==============================] - 1s - loss: 2.0144 - acc: 0.3099 - mean_squared_error: 0.0249 - val_loss: 2.0151 - val_acc: 0.2965 - val_mean_squared_error: 0.0251\n",
      "Epoch 35/200\n",
      "43089/43089 [==============================] - 1s - loss: 2.0148 - acc: 0.3097 - mean_squared_error: 0.0249 - val_loss: 2.0152 - val_acc: 0.2913 - val_mean_squared_error: 0.0251\n",
      "Epoch 36/200\n",
      "43089/43089 [==============================] - 1s - loss: 2.0138 - acc: 0.3084 - mean_squared_error: 0.0249 - val_loss: 2.0105 - val_acc: 0.2978 - val_mean_squared_error: 0.0250\n",
      "Epoch 37/200\n",
      "43089/43089 [==============================] - 1s - loss: 2.0126 - acc: 0.3090 - mean_squared_error: 0.0248 - val_loss: 2.0092 - val_acc: 0.2980 - val_mean_squared_error: 0.0250\n",
      "Epoch 38/200\n",
      "43089/43089 [==============================] - 1s - loss: 2.0122 - acc: 0.3089 - mean_squared_error: 0.0248 - val_loss: 2.0126 - val_acc: 0.2941 - val_mean_squared_error: 0.0250\n",
      "Epoch 39/200\n",
      "43089/43089 [==============================] - 1s - loss: 2.0112 - acc: 0.3108 - mean_squared_error: 0.0248 - val_loss: 2.0169 - val_acc: 0.2968 - val_mean_squared_error: 0.0251\n",
      "Epoch 40/200\n",
      "43089/43089 [==============================] - 1s - loss: 2.0131 - acc: 0.3103 - mean_squared_error: 0.0248 - val_loss: 2.0113 - val_acc: 0.2934 - val_mean_squared_error: 0.0250\n",
      "Epoch 41/200\n",
      "43089/43089 [==============================] - 1s - loss: 2.0112 - acc: 0.3106 - mean_squared_error: 0.0248 - val_loss: 2.0116 - val_acc: 0.2935 - val_mean_squared_error: 0.0250\n",
      "Epoch 42/200\n",
      "43089/43089 [==============================] - 1s - loss: 2.0113 - acc: 0.3111 - mean_squared_error: 0.0248 - val_loss: 2.0094 - val_acc: 0.3001 - val_mean_squared_error: 0.0250\n",
      "Epoch 43/200\n"
     ]
    },
    {
     "name": "stdout",
     "output_type": "stream",
     "text": [
      "43089/43089 [==============================] - 1s - loss: 2.0094 - acc: 0.3114 - mean_squared_error: 0.0248 - val_loss: 2.0139 - val_acc: 0.2936 - val_mean_squared_error: 0.0250\n",
      "Epoch 44/200\n",
      "43089/43089 [==============================] - 1s - loss: 2.0107 - acc: 0.3098 - mean_squared_error: 0.0248 - val_loss: 2.0144 - val_acc: 0.2948 - val_mean_squared_error: 0.0250\n",
      "Epoch 45/200\n",
      "43089/43089 [==============================] - 1s - loss: 2.0069 - acc: 0.3118 - mean_squared_error: 0.0248 - val_loss: 2.0127 - val_acc: 0.2920 - val_mean_squared_error: 0.0251\n",
      "Epoch 46/200\n",
      "43089/43089 [==============================] - 1s - loss: 2.0077 - acc: 0.3115 - mean_squared_error: 0.0248 - val_loss: 2.0109 - val_acc: 0.2949 - val_mean_squared_error: 0.0250\n",
      "Epoch 47/200\n",
      "43089/43089 [==============================] - 1s - loss: 2.0065 - acc: 0.3110 - mean_squared_error: 0.0248 - val_loss: 2.0078 - val_acc: 0.2994 - val_mean_squared_error: 0.0250\n",
      "Epoch 48/200\n",
      "43089/43089 [==============================] - 1s - loss: 2.0080 - acc: 0.3113 - mean_squared_error: 0.0248 - val_loss: 2.0090 - val_acc: 0.3007 - val_mean_squared_error: 0.0250\n",
      "Epoch 49/200\n",
      "43089/43089 [==============================] - 1s - loss: 2.0057 - acc: 0.3124 - mean_squared_error: 0.0248 - val_loss: 2.0134 - val_acc: 0.2989 - val_mean_squared_error: 0.0250\n",
      "Epoch 50/200\n",
      "43089/43089 [==============================] - 1s - loss: 2.0063 - acc: 0.3101 - mean_squared_error: 0.0248 - val_loss: 2.0109 - val_acc: 0.2972 - val_mean_squared_error: 0.0250\n",
      "Epoch 51/200\n",
      "43089/43089 [==============================] - 1s - loss: 2.0036 - acc: 0.3122 - mean_squared_error: 0.0248 - val_loss: 2.0144 - val_acc: 0.2931 - val_mean_squared_error: 0.0251\n",
      "Epoch 52/200\n",
      "43089/43089 [==============================] - 1s - loss: 2.0054 - acc: 0.3106 - mean_squared_error: 0.0248 - val_loss: 2.0122 - val_acc: 0.2947 - val_mean_squared_error: 0.0250\n",
      "Epoch 53/200\n",
      "43089/43089 [==============================] - 1s - loss: 2.0040 - acc: 0.3111 - mean_squared_error: 0.0248 - val_loss: 2.0128 - val_acc: 0.2902 - val_mean_squared_error: 0.0251\n",
      "Epoch 54/200\n",
      "43089/43089 [==============================] - 1s - loss: 2.0042 - acc: 0.3137 - mean_squared_error: 0.0248 - val_loss: 2.0104 - val_acc: 0.2965 - val_mean_squared_error: 0.0250\n",
      "Epoch 55/200\n",
      "43089/43089 [==============================] - 1s - loss: 2.0023 - acc: 0.3157 - mean_squared_error: 0.0248 - val_loss: 2.0121 - val_acc: 0.2949 - val_mean_squared_error: 0.0250\n",
      "Epoch 56/200\n",
      "43089/43089 [==============================] - 1s - loss: 2.0025 - acc: 0.3128 - mean_squared_error: 0.0248 - val_loss: 2.0068 - val_acc: 0.2990 - val_mean_squared_error: 0.0250\n",
      "Epoch 57/200\n",
      "43089/43089 [==============================] - 1s - loss: 2.0023 - acc: 0.3122 - mean_squared_error: 0.0248 - val_loss: 2.0092 - val_acc: 0.2964 - val_mean_squared_error: 0.0250\n",
      "Epoch 58/200\n",
      "43089/43089 [==============================] - 1s - loss: 2.0038 - acc: 0.3107 - mean_squared_error: 0.0248 - val_loss: 2.0093 - val_acc: 0.2968 - val_mean_squared_error: 0.0250\n",
      "Epoch 59/200\n",
      "43089/43089 [==============================] - 1s - loss: 2.0031 - acc: 0.3140 - mean_squared_error: 0.0248 - val_loss: 2.0075 - val_acc: 0.2953 - val_mean_squared_error: 0.0250\n",
      "Epoch 60/200\n",
      "43089/43089 [==============================] - 1s - loss: 2.0021 - acc: 0.3123 - mean_squared_error: 0.0248 - val_loss: 2.0050 - val_acc: 0.2995 - val_mean_squared_error: 0.0250\n",
      "Epoch 61/200\n",
      "43089/43089 [==============================] - 1s - loss: 2.0011 - acc: 0.3132 - mean_squared_error: 0.0248 - val_loss: 2.0055 - val_acc: 0.3010 - val_mean_squared_error: 0.0250\n",
      "Epoch 62/200\n",
      "43089/43089 [==============================] - 1s - loss: 2.0008 - acc: 0.3122 - mean_squared_error: 0.0248 - val_loss: 2.0151 - val_acc: 0.2953 - val_mean_squared_error: 0.0250\n",
      "Epoch 63/200\n",
      "43089/43089 [==============================] - 1s - loss: 2.0014 - acc: 0.3134 - mean_squared_error: 0.0248 - val_loss: 2.0103 - val_acc: 0.2965 - val_mean_squared_error: 0.0250\n",
      "Epoch 64/200\n",
      "43089/43089 [==============================] - 1s - loss: 2.0011 - acc: 0.3143 - mean_squared_error: 0.0247 - val_loss: 2.0112 - val_acc: 0.2932 - val_mean_squared_error: 0.0250\n",
      "Epoch 65/200\n",
      "43089/43089 [==============================] - 1s - loss: 2.0010 - acc: 0.3125 - mean_squared_error: 0.0248 - val_loss: 2.0036 - val_acc: 0.2994 - val_mean_squared_error: 0.0249\n",
      "Epoch 66/200\n",
      "43089/43089 [==============================] - 1s - loss: 1.9989 - acc: 0.3137 - mean_squared_error: 0.0247 - val_loss: 2.0139 - val_acc: 0.2982 - val_mean_squared_error: 0.0250\n",
      "Epoch 67/200\n",
      "43089/43089 [==============================] - 1s - loss: 1.9987 - acc: 0.3159 - mean_squared_error: 0.0247 - val_loss: 2.0059 - val_acc: 0.2998 - val_mean_squared_error: 0.0249\n",
      "Epoch 68/200\n",
      "43089/43089 [==============================] - 1s - loss: 2.0002 - acc: 0.3141 - mean_squared_error: 0.0247 - val_loss: 2.0083 - val_acc: 0.2978 - val_mean_squared_error: 0.0250\n",
      "Epoch 69/200\n",
      "43089/43089 [==============================] - 1s - loss: 1.9983 - acc: 0.3140 - mean_squared_error: 0.0247 - val_loss: 2.0055 - val_acc: 0.2998 - val_mean_squared_error: 0.0249\n",
      "Epoch 70/200\n",
      "43089/43089 [==============================] - 1s - loss: 1.9983 - acc: 0.3139 - mean_squared_error: 0.0247 - val_loss: 2.0041 - val_acc: 0.3032 - val_mean_squared_error: 0.0249\n",
      "Epoch 71/200\n",
      "43089/43089 [==============================] - 1s - loss: 1.9976 - acc: 0.3153 - mean_squared_error: 0.0247 - val_loss: 2.0064 - val_acc: 0.2980 - val_mean_squared_error: 0.0250\n",
      "Epoch 72/200\n",
      "43089/43089 [==============================] - 1s - loss: 1.9961 - acc: 0.3133 - mean_squared_error: 0.0247 - val_loss: 2.0035 - val_acc: 0.2960 - val_mean_squared_error: 0.0249\n",
      "Epoch 73/200\n",
      "43089/43089 [==============================] - 1s - loss: 1.9972 - acc: 0.3127 - mean_squared_error: 0.0247 - val_loss: 2.0071 - val_acc: 0.2970 - val_mean_squared_error: 0.0249\n",
      "Epoch 74/200\n",
      "43089/43089 [==============================] - 1s - loss: 1.9976 - acc: 0.3129 - mean_squared_error: 0.0247 - val_loss: 2.0134 - val_acc: 0.2914 - val_mean_squared_error: 0.0250\n",
      "Epoch 75/200\n",
      "43089/43089 [==============================] - 1s - loss: 1.9965 - acc: 0.3150 - mean_squared_error: 0.0247 - val_loss: 2.0102 - val_acc: 0.2993 - val_mean_squared_error: 0.0250\n",
      "Epoch 76/200\n",
      "43089/43089 [==============================] - 1s - loss: 1.9958 - acc: 0.3156 - mean_squared_error: 0.0247 - val_loss: 2.0067 - val_acc: 0.2961 - val_mean_squared_error: 0.0250\n",
      "Epoch 77/200\n",
      "43089/43089 [==============================] - 1s - loss: 1.9944 - acc: 0.3173 - mean_squared_error: 0.0247 - val_loss: 2.0090 - val_acc: 0.3005 - val_mean_squared_error: 0.0250\n",
      "Epoch 78/200\n",
      "43089/43089 [==============================] - 1s - loss: 1.9943 - acc: 0.3147 - mean_squared_error: 0.0247 - val_loss: 2.0150 - val_acc: 0.2981 - val_mean_squared_error: 0.0250\n",
      "Epoch 79/200\n",
      "43089/43089 [==============================] - 1s - loss: 1.9957 - acc: 0.3157 - mean_squared_error: 0.0247 - val_loss: 2.0116 - val_acc: 0.3026 - val_mean_squared_error: 0.0250\n",
      "Epoch 80/200\n",
      "43089/43089 [==============================] - 1s - loss: 1.9971 - acc: 0.3163 - mean_squared_error: 0.0247 - val_loss: 2.0044 - val_acc: 0.2994 - val_mean_squared_error: 0.0249\n",
      "Epoch 81/200\n",
      "43089/43089 [==============================] - 1s - loss: 1.9945 - acc: 0.3134 - mean_squared_error: 0.0247 - val_loss: 2.0015 - val_acc: 0.2980 - val_mean_squared_error: 0.0249\n",
      "Epoch 82/200\n",
      "43089/43089 [==============================] - 1s - loss: 1.9932 - acc: 0.3148 - mean_squared_error: 0.0247 - val_loss: 2.0069 - val_acc: 0.3022 - val_mean_squared_error: 0.0249\n",
      "Epoch 83/200\n",
      "43089/43089 [==============================] - 1s - loss: 1.9936 - acc: 0.3171 - mean_squared_error: 0.0247 - val_loss: 2.0033 - val_acc: 0.2965 - val_mean_squared_error: 0.0249\n",
      "Epoch 84/200\n",
      "43089/43089 [==============================] - 1s - loss: 1.9930 - acc: 0.3164 - mean_squared_error: 0.0247 - val_loss: 2.0060 - val_acc: 0.2978 - val_mean_squared_error: 0.0250\n",
      "Epoch 85/200\n"
     ]
    },
    {
     "name": "stdout",
     "output_type": "stream",
     "text": [
      "43089/43089 [==============================] - 1s - loss: 1.9919 - acc: 0.3173 - mean_squared_error: 0.0247 - val_loss: 2.0073 - val_acc: 0.3026 - val_mean_squared_error: 0.0250\n",
      "Epoch 86/200\n",
      "43089/43089 [==============================] - 1s - loss: 1.9950 - acc: 0.3162 - mean_squared_error: 0.0247 - val_loss: 2.0023 - val_acc: 0.3037 - val_mean_squared_error: 0.0249\n",
      "Epoch 87/200\n",
      "43089/43089 [==============================] - 1s - loss: 1.9933 - acc: 0.3158 - mean_squared_error: 0.0247 - val_loss: 2.0125 - val_acc: 0.2935 - val_mean_squared_error: 0.0250\n",
      "Epoch 88/200\n",
      "43089/43089 [==============================] - 1s - loss: 1.9943 - acc: 0.3138 - mean_squared_error: 0.0247 - val_loss: 2.0108 - val_acc: 0.2977 - val_mean_squared_error: 0.0250\n",
      "Epoch 89/200\n",
      "43089/43089 [==============================] - 1s - loss: 1.9928 - acc: 0.3127 - mean_squared_error: 0.0247 - val_loss: 2.0086 - val_acc: 0.3048 - val_mean_squared_error: 0.0250\n",
      "Epoch 90/200\n",
      "43089/43089 [==============================] - 1s - loss: 1.9933 - acc: 0.3153 - mean_squared_error: 0.0247 - val_loss: 2.0121 - val_acc: 0.2964 - val_mean_squared_error: 0.0250\n",
      "Epoch 91/200\n",
      "43089/43089 [==============================] - 1s - loss: 1.9925 - acc: 0.3162 - mean_squared_error: 0.0247 - val_loss: 2.0120 - val_acc: 0.2973 - val_mean_squared_error: 0.0250\n",
      "Epoch 92/200\n",
      "43089/43089 [==============================] - 1s - loss: 1.9916 - acc: 0.3157 - mean_squared_error: 0.0247 - val_loss: 2.0052 - val_acc: 0.3056 - val_mean_squared_error: 0.0249\n",
      "Epoch 93/200\n",
      "43089/43089 [==============================] - 1s - loss: 1.9933 - acc: 0.3151 - mean_squared_error: 0.0247 - val_loss: 2.0040 - val_acc: 0.3014 - val_mean_squared_error: 0.0249\n",
      "Epoch 94/200\n",
      "43089/43089 [==============================] - 1s - loss: 1.9929 - acc: 0.3151 - mean_squared_error: 0.0247 - val_loss: 2.0107 - val_acc: 0.2969 - val_mean_squared_error: 0.0250\n",
      "Epoch 95/200\n",
      "43089/43089 [==============================] - 1s - loss: 1.9904 - acc: 0.3166 - mean_squared_error: 0.0247 - val_loss: 2.0076 - val_acc: 0.2965 - val_mean_squared_error: 0.0250\n",
      "Epoch 96/200\n",
      "43089/43089 [==============================] - 1s - loss: 1.9915 - acc: 0.3173 - mean_squared_error: 0.0247 - val_loss: 2.0074 - val_acc: 0.2994 - val_mean_squared_error: 0.0250\n",
      "Epoch 97/200\n",
      "43089/43089 [==============================] - 1s - loss: 1.9900 - acc: 0.3175 - mean_squared_error: 0.0247 - val_loss: 2.0037 - val_acc: 0.3018 - val_mean_squared_error: 0.0249\n",
      "Epoch 98/200\n",
      "43089/43089 [==============================] - 1s - loss: 1.9896 - acc: 0.3185 - mean_squared_error: 0.0247 - val_loss: 2.0058 - val_acc: 0.3011 - val_mean_squared_error: 0.0249\n",
      "Epoch 99/200\n",
      "43089/43089 [==============================] - 1s - loss: 1.9907 - acc: 0.3157 - mean_squared_error: 0.0247 - val_loss: 2.0119 - val_acc: 0.3002 - val_mean_squared_error: 0.0250\n",
      "Epoch 100/200\n",
      "43089/43089 [==============================] - 1s - loss: 1.9907 - acc: 0.3167 - mean_squared_error: 0.0247 - val_loss: 2.0050 - val_acc: 0.2993 - val_mean_squared_error: 0.0249\n",
      "Epoch 101/200\n",
      "43089/43089 [==============================] - 1s - loss: 1.9904 - acc: 0.3165 - mean_squared_error: 0.0247 - val_loss: 2.0079 - val_acc: 0.3002 - val_mean_squared_error: 0.0249\n",
      "Epoch 102/200\n",
      "43089/43089 [==============================] - 1s - loss: 1.9907 - acc: 0.3172 - mean_squared_error: 0.0247 - val_loss: 2.0057 - val_acc: 0.2943 - val_mean_squared_error: 0.0249\n",
      "Epoch 103/200\n",
      "43089/43089 [==============================] - 1s - loss: 1.9880 - acc: 0.3185 - mean_squared_error: 0.0246 - val_loss: 2.0045 - val_acc: 0.3040 - val_mean_squared_error: 0.0249\n",
      "Epoch 104/200\n",
      "43089/43089 [==============================] - 1s - loss: 1.9895 - acc: 0.3166 - mean_squared_error: 0.0247 - val_loss: 2.0006 - val_acc: 0.3045 - val_mean_squared_error: 0.0249\n",
      "Epoch 105/200\n",
      "43089/43089 [==============================] - 1s - loss: 1.9870 - acc: 0.3153 - mean_squared_error: 0.0246 - val_loss: 2.0062 - val_acc: 0.2966 - val_mean_squared_error: 0.0249\n",
      "Epoch 106/200\n",
      "43089/43089 [==============================] - 1s - loss: 1.9876 - acc: 0.3170 - mean_squared_error: 0.0246 - val_loss: 2.0113 - val_acc: 0.2994 - val_mean_squared_error: 0.0250\n",
      "Epoch 107/200\n",
      "43089/43089 [==============================] - 1s - loss: 1.9884 - acc: 0.3162 - mean_squared_error: 0.0247 - val_loss: 2.0130 - val_acc: 0.2976 - val_mean_squared_error: 0.0250\n",
      "Epoch 108/200\n",
      "43089/43089 [==============================] - 1s - loss: 1.9875 - acc: 0.3159 - mean_squared_error: 0.0246 - val_loss: 2.0112 - val_acc: 0.3001 - val_mean_squared_error: 0.0250\n",
      "Epoch 109/200\n",
      "43089/43089 [==============================] - 1s - loss: 1.9879 - acc: 0.3185 - mean_squared_error: 0.0246 - val_loss: 2.0047 - val_acc: 0.2989 - val_mean_squared_error: 0.0249\n",
      "Epoch 110/200\n",
      "43089/43089 [==============================] - 1s - loss: 1.9876 - acc: 0.3183 - mean_squared_error: 0.0246 - val_loss: 2.0096 - val_acc: 0.2961 - val_mean_squared_error: 0.0249\n",
      "Epoch 111/200\n",
      "43089/43089 [==============================] - 1s - loss: 1.9869 - acc: 0.3175 - mean_squared_error: 0.0246 - val_loss: 2.0064 - val_acc: 0.3010 - val_mean_squared_error: 0.0249\n",
      "Epoch 112/200\n",
      "43089/43089 [==============================] - 1s - loss: 1.9870 - acc: 0.3190 - mean_squared_error: 0.0246 - val_loss: 2.0119 - val_acc: 0.2981 - val_mean_squared_error: 0.0250\n",
      "Epoch 113/200\n",
      "43089/43089 [==============================] - 1s - loss: 1.9864 - acc: 0.3172 - mean_squared_error: 0.0246 - val_loss: 2.0165 - val_acc: 0.3026 - val_mean_squared_error: 0.0250\n",
      "Epoch 114/200\n",
      "43089/43089 [==============================] - 1s - loss: 1.9854 - acc: 0.3186 - mean_squared_error: 0.0246 - val_loss: 2.0064 - val_acc: 0.3036 - val_mean_squared_error: 0.0249\n",
      "Epoch 115/200\n",
      "43089/43089 [==============================] - 1s - loss: 1.9867 - acc: 0.3176 - mean_squared_error: 0.0247 - val_loss: 2.0054 - val_acc: 0.3036 - val_mean_squared_error: 0.0249\n",
      "Epoch 116/200\n",
      "43089/43089 [==============================] - 1s - loss: 1.9852 - acc: 0.3186 - mean_squared_error: 0.0246 - val_loss: 2.0051 - val_acc: 0.2995 - val_mean_squared_error: 0.0249\n",
      "Epoch 117/200\n",
      "43089/43089 [==============================] - 1s - loss: 1.9851 - acc: 0.3181 - mean_squared_error: 0.0246 - val_loss: 2.0134 - val_acc: 0.2944 - val_mean_squared_error: 0.0250\n",
      "Epoch 118/200\n",
      "43089/43089 [==============================] - 1s - loss: 1.9847 - acc: 0.3175 - mean_squared_error: 0.0246 - val_loss: 2.0043 - val_acc: 0.3022 - val_mean_squared_error: 0.0249\n",
      "Epoch 119/200\n",
      "43089/43089 [==============================] - 1s - loss: 1.9847 - acc: 0.3195 - mean_squared_error: 0.0246 - val_loss: 2.0043 - val_acc: 0.3020 - val_mean_squared_error: 0.0250\n",
      "Epoch 120/200\n",
      "43089/43089 [==============================] - 1s - loss: 1.9848 - acc: 0.3200 - mean_squared_error: 0.0246 - val_loss: 2.0087 - val_acc: 0.3001 - val_mean_squared_error: 0.0250\n",
      "Epoch 121/200\n",
      "43089/43089 [==============================] - 1s - loss: 1.9845 - acc: 0.3185 - mean_squared_error: 0.0246 - val_loss: 2.0094 - val_acc: 0.2994 - val_mean_squared_error: 0.0250\n",
      "Epoch 122/200\n",
      "43089/43089 [==============================] - 1s - loss: 1.9843 - acc: 0.3188 - mean_squared_error: 0.0246 - val_loss: 2.0095 - val_acc: 0.3012 - val_mean_squared_error: 0.0249\n",
      "Epoch 123/200\n",
      "43089/43089 [==============================] - 1s - loss: 1.9842 - acc: 0.3193 - mean_squared_error: 0.0246 - val_loss: 2.0045 - val_acc: 0.2953 - val_mean_squared_error: 0.0249\n",
      "Epoch 124/200\n",
      "43089/43089 [==============================] - 1s - loss: 1.9844 - acc: 0.3157 - mean_squared_error: 0.0246 - val_loss: 2.0107 - val_acc: 0.3002 - val_mean_squared_error: 0.0250\n",
      "Epoch 125/200\n",
      "43089/43089 [==============================] - 1s - loss: 1.9850 - acc: 0.3161 - mean_squared_error: 0.0246 - val_loss: 2.0109 - val_acc: 0.2969 - val_mean_squared_error: 0.0250\n",
      "Epoch 126/200\n",
      "43089/43089 [==============================] - 1s - loss: 1.9821 - acc: 0.3200 - mean_squared_error: 0.0246 - val_loss: 2.0103 - val_acc: 0.2998 - val_mean_squared_error: 0.0249\n",
      "Epoch 127/200\n"
     ]
    },
    {
     "name": "stdout",
     "output_type": "stream",
     "text": [
      "43089/43089 [==============================] - 1s - loss: 1.9828 - acc: 0.3186 - mean_squared_error: 0.0246 - val_loss: 2.0039 - val_acc: 0.3032 - val_mean_squared_error: 0.0249\n",
      "Epoch 128/200\n",
      "43089/43089 [==============================] - 1s - loss: 1.9830 - acc: 0.3186 - mean_squared_error: 0.0246 - val_loss: 2.0075 - val_acc: 0.2980 - val_mean_squared_error: 0.0249\n",
      "Epoch 129/200\n",
      "43089/43089 [==============================] - 1s - loss: 1.9826 - acc: 0.3183 - mean_squared_error: 0.0246 - val_loss: 2.0048 - val_acc: 0.3009 - val_mean_squared_error: 0.0249\n",
      "Epoch 130/200\n",
      "43089/43089 [==============================] - 1s - loss: 1.9833 - acc: 0.3182 - mean_squared_error: 0.0246 - val_loss: 2.0076 - val_acc: 0.2989 - val_mean_squared_error: 0.0249\n",
      "Epoch 131/200\n",
      "43089/43089 [==============================] - 1s - loss: 1.9830 - acc: 0.3184 - mean_squared_error: 0.0246 - val_loss: 2.0062 - val_acc: 0.3030 - val_mean_squared_error: 0.0249\n",
      "Epoch 132/200\n",
      "43089/43089 [==============================] - 1s - loss: 1.9813 - acc: 0.3193 - mean_squared_error: 0.0246 - val_loss: 2.0097 - val_acc: 0.2974 - val_mean_squared_error: 0.0250\n",
      "Epoch 133/200\n",
      "43089/43089 [==============================] - 1s - loss: 1.9830 - acc: 0.3199 - mean_squared_error: 0.0246 - val_loss: 2.0056 - val_acc: 0.3003 - val_mean_squared_error: 0.0249\n",
      "Epoch 134/200\n",
      "43089/43089 [==============================] - 1s - loss: 1.9828 - acc: 0.3191 - mean_squared_error: 0.0246 - val_loss: 2.0080 - val_acc: 0.3003 - val_mean_squared_error: 0.0250\n",
      "Epoch 135/200\n",
      "43089/43089 [==============================] - 1s - loss: 1.9823 - acc: 0.3194 - mean_squared_error: 0.0246 - val_loss: 2.0118 - val_acc: 0.3003 - val_mean_squared_error: 0.0250\n",
      "Epoch 136/200\n",
      "43089/43089 [==============================] - 1s - loss: 1.9810 - acc: 0.3182 - mean_squared_error: 0.0246 - val_loss: 2.0060 - val_acc: 0.3002 - val_mean_squared_error: 0.0249\n",
      "Epoch 137/200\n",
      "43089/43089 [==============================] - 1s - loss: 1.9805 - acc: 0.3207 - mean_squared_error: 0.0246 - val_loss: 2.0031 - val_acc: 0.3015 - val_mean_squared_error: 0.0249\n",
      "Epoch 138/200\n",
      "43089/43089 [==============================] - 1s - loss: 1.9800 - acc: 0.3180 - mean_squared_error: 0.0246 - val_loss: 2.0112 - val_acc: 0.3018 - val_mean_squared_error: 0.0250\n",
      "Epoch 139/200\n",
      "43089/43089 [==============================] - 1s - loss: 1.9804 - acc: 0.3221 - mean_squared_error: 0.0246 - val_loss: 2.0102 - val_acc: 0.2991 - val_mean_squared_error: 0.0249\n",
      "Epoch 140/200\n",
      "43089/43089 [==============================] - 1s - loss: 1.9821 - acc: 0.3193 - mean_squared_error: 0.0246 - val_loss: 2.0153 - val_acc: 0.2949 - val_mean_squared_error: 0.0250\n",
      "Epoch 141/200\n",
      "43089/43089 [==============================] - 1s - loss: 1.9837 - acc: 0.3188 - mean_squared_error: 0.0246 - val_loss: 2.0052 - val_acc: 0.2985 - val_mean_squared_error: 0.0249\n",
      "Epoch 142/200\n",
      "43089/43089 [==============================] - 1s - loss: 1.9796 - acc: 0.3241 - mean_squared_error: 0.0246 - val_loss: 2.0119 - val_acc: 0.2973 - val_mean_squared_error: 0.0250\n",
      "Epoch 143/200\n",
      "43089/43089 [==============================] - 1s - loss: 1.9811 - acc: 0.3195 - mean_squared_error: 0.0246 - val_loss: 2.0045 - val_acc: 0.3024 - val_mean_squared_error: 0.0249\n",
      "Epoch 144/200\n",
      "43089/43089 [==============================] - 1s - loss: 1.9802 - acc: 0.3196 - mean_squared_error: 0.0246 - val_loss: 2.0080 - val_acc: 0.2982 - val_mean_squared_error: 0.0249\n",
      "Epoch 145/200\n",
      "43089/43089 [==============================] - 1s - loss: 1.9803 - acc: 0.3185 - mean_squared_error: 0.0246 - val_loss: 2.0029 - val_acc: 0.2999 - val_mean_squared_error: 0.0249\n",
      "Epoch 146/200\n",
      "43089/43089 [==============================] - 1s - loss: 1.9806 - acc: 0.3192 - mean_squared_error: 0.0246 - val_loss: 2.0195 - val_acc: 0.2961 - val_mean_squared_error: 0.0250\n",
      "Epoch 147/200\n",
      "43089/43089 [==============================] - 1s - loss: 1.9810 - acc: 0.3207 - mean_squared_error: 0.0246 - val_loss: 2.0092 - val_acc: 0.2991 - val_mean_squared_error: 0.0250\n",
      "Epoch 148/200\n",
      "43089/43089 [==============================] - 1s - loss: 1.9790 - acc: 0.3185 - mean_squared_error: 0.0246 - val_loss: 2.0125 - val_acc: 0.2947 - val_mean_squared_error: 0.0250\n",
      "Epoch 149/200\n",
      "43089/43089 [==============================] - 1s - loss: 1.9790 - acc: 0.3184 - mean_squared_error: 0.0246 - val_loss: 2.0112 - val_acc: 0.2963 - val_mean_squared_error: 0.0250\n",
      "Epoch 150/200\n",
      "43089/43089 [==============================] - 1s - loss: 1.9772 - acc: 0.3211 - mean_squared_error: 0.0246 - val_loss: 2.0124 - val_acc: 0.2952 - val_mean_squared_error: 0.0249\n",
      "Epoch 151/200\n",
      "43089/43089 [==============================] - 1s - loss: 1.9783 - acc: 0.3207 - mean_squared_error: 0.0246 - val_loss: 2.0078 - val_acc: 0.2972 - val_mean_squared_error: 0.0250\n",
      "Epoch 152/200\n",
      "43089/43089 [==============================] - 1s - loss: 1.9789 - acc: 0.3195 - mean_squared_error: 0.0246 - val_loss: 2.0021 - val_acc: 0.2980 - val_mean_squared_error: 0.0249\n",
      "Epoch 153/200\n",
      "43089/43089 [==============================] - 1s - loss: 1.9773 - acc: 0.3192 - mean_squared_error: 0.0246 - val_loss: 2.0054 - val_acc: 0.3041 - val_mean_squared_error: 0.0249\n",
      "Epoch 154/200\n",
      "43089/43089 [==============================] - 1s - loss: 1.9777 - acc: 0.3216 - mean_squared_error: 0.0246 - val_loss: 2.0026 - val_acc: 0.3047 - val_mean_squared_error: 0.0249\n",
      "Epoch 155/200\n",
      "43089/43089 [==============================] - 1s - loss: 1.9759 - acc: 0.3210 - mean_squared_error: 0.0246 - val_loss: 2.0042 - val_acc: 0.3005 - val_mean_squared_error: 0.0249\n",
      "Epoch 156/200\n",
      "43089/43089 [==============================] - 1s - loss: 1.9758 - acc: 0.3225 - mean_squared_error: 0.0246 - val_loss: 2.0075 - val_acc: 0.2978 - val_mean_squared_error: 0.0250\n",
      "Epoch 157/200\n",
      "43089/43089 [==============================] - 1s - loss: 1.9777 - acc: 0.3201 - mean_squared_error: 0.0246 - val_loss: 2.0041 - val_acc: 0.2977 - val_mean_squared_error: 0.0249\n",
      "Epoch 158/200\n",
      "43089/43089 [==============================] - 1s - loss: 1.9749 - acc: 0.3217 - mean_squared_error: 0.0245 - val_loss: 2.0203 - val_acc: 0.2935 - val_mean_squared_error: 0.0250\n",
      "Epoch 159/200\n",
      "43089/43089 [==============================] - 1s - loss: 1.9770 - acc: 0.3227 - mean_squared_error: 0.0246 - val_loss: 2.0098 - val_acc: 0.2928 - val_mean_squared_error: 0.0249\n",
      "Epoch 160/200\n",
      "43089/43089 [==============================] - 1s - loss: 1.9762 - acc: 0.3204 - mean_squared_error: 0.0246 - val_loss: 2.0080 - val_acc: 0.2943 - val_mean_squared_error: 0.0249\n",
      "Epoch 161/200\n",
      "43089/43089 [==============================] - 1s - loss: 1.9756 - acc: 0.3208 - mean_squared_error: 0.0246 - val_loss: 2.0143 - val_acc: 0.3014 - val_mean_squared_error: 0.0249\n",
      "Epoch 162/200\n",
      "43089/43089 [==============================] - 1s - loss: 1.9749 - acc: 0.3220 - mean_squared_error: 0.0245 - val_loss: 2.0123 - val_acc: 0.2989 - val_mean_squared_error: 0.0250\n",
      "Epoch 163/200\n",
      "43089/43089 [==============================] - 1s - loss: 1.9759 - acc: 0.3205 - mean_squared_error: 0.0246 - val_loss: 2.0064 - val_acc: 0.2952 - val_mean_squared_error: 0.0249\n",
      "Epoch 164/200\n",
      "43089/43089 [==============================] - 1s - loss: 1.9765 - acc: 0.3198 - mean_squared_error: 0.0246 - val_loss: 2.0101 - val_acc: 0.2914 - val_mean_squared_error: 0.0250\n",
      "Epoch 165/200\n",
      "43089/43089 [==============================] - 1s - loss: 1.9744 - acc: 0.3212 - mean_squared_error: 0.0246 - val_loss: 2.0106 - val_acc: 0.2978 - val_mean_squared_error: 0.0250\n",
      "Epoch 166/200\n",
      "43089/43089 [==============================] - 1s - loss: 1.9761 - acc: 0.3206 - mean_squared_error: 0.0246 - val_loss: 2.0034 - val_acc: 0.2984 - val_mean_squared_error: 0.0249\n",
      "Epoch 167/200\n",
      "43089/43089 [==============================] - 1s - loss: 1.9742 - acc: 0.3222 - mean_squared_error: 0.0246 - val_loss: 2.0037 - val_acc: 0.2995 - val_mean_squared_error: 0.0249\n",
      "Epoch 168/200\n",
      "43089/43089 [==============================] - 1s - loss: 1.9756 - acc: 0.3232 - mean_squared_error: 0.0246 - val_loss: 2.0125 - val_acc: 0.2966 - val_mean_squared_error: 0.0250\n",
      "Epoch 169/200\n"
     ]
    },
    {
     "name": "stdout",
     "output_type": "stream",
     "text": [
      "43089/43089 [==============================] - 1s - loss: 1.9759 - acc: 0.3221 - mean_squared_error: 0.0246 - val_loss: 2.0073 - val_acc: 0.2978 - val_mean_squared_error: 0.0250\n",
      "Epoch 170/200\n",
      "43089/43089 [==============================] - 1s - loss: 1.9750 - acc: 0.3209 - mean_squared_error: 0.0246 - val_loss: 2.0112 - val_acc: 0.2998 - val_mean_squared_error: 0.0250\n",
      "Epoch 171/200\n",
      "43089/43089 [==============================] - 1s - loss: 1.9764 - acc: 0.3192 - mean_squared_error: 0.0246 - val_loss: 2.0167 - val_acc: 0.2928 - val_mean_squared_error: 0.0250\n",
      "Epoch 172/200\n",
      "43089/43089 [==============================] - 1s - loss: 1.9746 - acc: 0.3184 - mean_squared_error: 0.0246 - val_loss: 2.0090 - val_acc: 0.3007 - val_mean_squared_error: 0.0249\n",
      "Epoch 173/200\n",
      "43089/43089 [==============================] - 1s - loss: 1.9736 - acc: 0.3209 - mean_squared_error: 0.0245 - val_loss: 2.0061 - val_acc: 0.2961 - val_mean_squared_error: 0.0249\n",
      "Epoch 174/200\n",
      "43089/43089 [==============================] - 1s - loss: 1.9728 - acc: 0.3221 - mean_squared_error: 0.0245 - val_loss: 2.0090 - val_acc: 0.2999 - val_mean_squared_error: 0.0249\n",
      "Epoch 175/200\n",
      "43089/43089 [==============================] - 1s - loss: 1.9740 - acc: 0.3221 - mean_squared_error: 0.0246 - val_loss: 2.0126 - val_acc: 0.2969 - val_mean_squared_error: 0.0250\n",
      "Epoch 176/200\n",
      "43089/43089 [==============================] - 1s - loss: 1.9744 - acc: 0.3202 - mean_squared_error: 0.0246 - val_loss: 2.0084 - val_acc: 0.2922 - val_mean_squared_error: 0.0249\n",
      "Epoch 177/200\n",
      "43089/43089 [==============================] - 1s - loss: 1.9730 - acc: 0.3214 - mean_squared_error: 0.0245 - val_loss: 2.0107 - val_acc: 0.2986 - val_mean_squared_error: 0.0250\n",
      "Epoch 178/200\n",
      "43089/43089 [==============================] - 1s - loss: 1.9749 - acc: 0.3211 - mean_squared_error: 0.0246 - val_loss: 2.0130 - val_acc: 0.2951 - val_mean_squared_error: 0.0250\n",
      "Epoch 179/200\n",
      "43089/43089 [==============================] - 1s - loss: 1.9719 - acc: 0.3198 - mean_squared_error: 0.0245 - val_loss: 2.0160 - val_acc: 0.2980 - val_mean_squared_error: 0.0250\n",
      "Epoch 180/200\n",
      "43089/43089 [==============================] - 1s - loss: 1.9740 - acc: 0.3226 - mean_squared_error: 0.0246 - val_loss: 2.0137 - val_acc: 0.2911 - val_mean_squared_error: 0.0250\n",
      "Epoch 181/200\n",
      "43089/43089 [==============================] - 1s - loss: 1.9742 - acc: 0.3196 - mean_squared_error: 0.0246 - val_loss: 2.0071 - val_acc: 0.3005 - val_mean_squared_error: 0.0249\n",
      "Epoch 182/200\n",
      "43089/43089 [==============================] - 1s - loss: 1.9719 - acc: 0.3215 - mean_squared_error: 0.0245 - val_loss: 2.0100 - val_acc: 0.2968 - val_mean_squared_error: 0.0250\n",
      "Epoch 183/200\n",
      "43089/43089 [==============================] - 1s - loss: 1.9711 - acc: 0.3207 - mean_squared_error: 0.0245 - val_loss: 2.0091 - val_acc: 0.2922 - val_mean_squared_error: 0.0250\n",
      "Epoch 184/200\n",
      "43089/43089 [==============================] - 1s - loss: 1.9711 - acc: 0.3234 - mean_squared_error: 0.0245 - val_loss: 2.0068 - val_acc: 0.2972 - val_mean_squared_error: 0.0249\n",
      "Epoch 185/200\n",
      "43089/43089 [==============================] - 1s - loss: 1.9700 - acc: 0.3209 - mean_squared_error: 0.0245 - val_loss: 2.0117 - val_acc: 0.2945 - val_mean_squared_error: 0.0249\n",
      "Epoch 186/200\n",
      "43089/43089 [==============================] - 1s - loss: 1.9701 - acc: 0.3214 - mean_squared_error: 0.0245 - val_loss: 2.0167 - val_acc: 0.2907 - val_mean_squared_error: 0.0250\n",
      "Epoch 187/200\n",
      "43089/43089 [==============================] - 1s - loss: 1.9703 - acc: 0.3223 - mean_squared_error: 0.0245 - val_loss: 2.0104 - val_acc: 0.2972 - val_mean_squared_error: 0.0249\n",
      "Epoch 188/200\n",
      "43089/43089 [==============================] - 1s - loss: 1.9702 - acc: 0.3208 - mean_squared_error: 0.0245 - val_loss: 2.0117 - val_acc: 0.2932 - val_mean_squared_error: 0.0249\n",
      "Epoch 189/200\n",
      "43089/43089 [==============================] - 1s - loss: 1.9710 - acc: 0.3203 - mean_squared_error: 0.0245 - val_loss: 2.0134 - val_acc: 0.2951 - val_mean_squared_error: 0.0249\n",
      "Epoch 190/200\n",
      "43089/43089 [==============================] - 1s - loss: 1.9676 - acc: 0.3230 - mean_squared_error: 0.0245 - val_loss: 2.0100 - val_acc: 0.2963 - val_mean_squared_error: 0.0249\n",
      "Epoch 191/200\n",
      "43089/43089 [==============================] - 1s - loss: 1.9703 - acc: 0.3236 - mean_squared_error: 0.0245 - val_loss: 2.0122 - val_acc: 0.2931 - val_mean_squared_error: 0.0250\n",
      "Epoch 192/200\n",
      "43089/43089 [==============================] - 1s - loss: 1.9712 - acc: 0.3198 - mean_squared_error: 0.0245 - val_loss: 2.0112 - val_acc: 0.2944 - val_mean_squared_error: 0.0249\n",
      "Epoch 193/200\n",
      "43089/43089 [==============================] - 1s - loss: 1.9697 - acc: 0.3216 - mean_squared_error: 0.0245 - val_loss: 2.0060 - val_acc: 0.2961 - val_mean_squared_error: 0.0249\n",
      "Epoch 194/200\n",
      "43089/43089 [==============================] - 1s - loss: 1.9695 - acc: 0.3234 - mean_squared_error: 0.0245 - val_loss: 2.0140 - val_acc: 0.2968 - val_mean_squared_error: 0.0250\n",
      "Epoch 195/200\n",
      "43089/43089 [==============================] - 1s - loss: 1.9702 - acc: 0.3218 - mean_squared_error: 0.0245 - val_loss: 2.0104 - val_acc: 0.2976 - val_mean_squared_error: 0.0249\n",
      "Epoch 196/200\n",
      "43089/43089 [==============================] - 1s - loss: 1.9688 - acc: 0.3229 - mean_squared_error: 0.0245 - val_loss: 2.0081 - val_acc: 0.2973 - val_mean_squared_error: 0.0249\n",
      "Epoch 197/200\n",
      "43089/43089 [==============================] - 1s - loss: 1.9685 - acc: 0.3217 - mean_squared_error: 0.0245 - val_loss: 2.0196 - val_acc: 0.2922 - val_mean_squared_error: 0.0250\n",
      "Epoch 198/200\n",
      "43089/43089 [==============================] - 1s - loss: 1.9688 - acc: 0.3211 - mean_squared_error: 0.0245 - val_loss: 2.0139 - val_acc: 0.2952 - val_mean_squared_error: 0.0250\n",
      "Epoch 199/200\n",
      "43089/43089 [==============================] - 1s - loss: 1.9676 - acc: 0.3244 - mean_squared_error: 0.0245 - val_loss: 2.0152 - val_acc: 0.2915 - val_mean_squared_error: 0.0250\n",
      "Epoch 200/200\n",
      "43089/43089 [==============================] - 1s - loss: 1.9697 - acc: 0.3229 - mean_squared_error: 0.0245 - val_loss: 2.0166 - val_acc: 0.2931 - val_mean_squared_error: 0.0250\n"
     ]
    }
   ],
   "source": [
    "h = model.fit(X_train_MLP, y_train_cat, epochs=200, verbose=1, \n",
    "              validation_split=0.15, batch_size = 512)"
   ]
  },
  {
   "cell_type": "code",
   "execution_count": 68,
   "metadata": {},
   "outputs": [
    {
     "data": {
      "text/plain": [
       "<matplotlib.text.Text at 0x1a49b048>"
      ]
     },
     "execution_count": 68,
     "metadata": {},
     "output_type": "execute_result"
    },
    {
     "data": {
      "image/png": "[encoded data removed]",
      "text/plain": [
       "<matplotlib.figure.Figure at 0x1a481c50>"
      ]
     },
     "metadata": {},
     "output_type": "display_data"
    }
   ],
   "source": [
    "plt.plot(h.history['acc'])\n",
    "plt.plot(h.history['val_acc'])\n",
    "plt.legend(['Training', 'Validation'])\n",
    "plt.title('Accuracy')\n",
    "plt.xlabel('Epochs')"
   ]
  },
  {
   "cell_type": "code",
   "execution_count": 69,
   "metadata": {
    "collapsed": true
   },
   "outputs": [],
   "source": [
    "y_pred = model.predict(X_test_MLP)"
   ]
  },
  {
   "cell_type": "code",
   "execution_count": 70,
   "metadata": {
    "collapsed": true,
    "scrolled": true
   },
   "outputs": [],
   "source": [
    "from sklearn.metrics import classification_report, confusion_matrix, accuracy_score\n",
    "Y_pred = model.predict(X_test_MLP)\n",
    "np.set_printoptions(threshold=np.nan)\n",
    "y_pred = np.argmax(Y_pred,axis=1)\n",
    "# print(y_pred)\n",
    "# print ('\\n')"
   ]
  },
  {
   "cell_type": "code",
   "execution_count": 71,
   "metadata": {
    "collapsed": true
   },
   "outputs": [],
   "source": [
    "predcited_Cat = pd.DataFrame(y_pred)\n",
    "predcited_Cat.to_csv('predicted_cat.csv')"
   ]
  },
  {
   "cell_type": "code",
   "execution_count": 72,
   "metadata": {
    "collapsed": true
   },
   "outputs": [],
   "source": [
    "pd.DataFrame(confusion_matrix(np.argmax(y_test_cat,axis=1),y_pred)).to_csv('confusion_m_MLP_RevA.csv')"
   ]
  },
  {
   "cell_type": "code",
   "execution_count": 73,
   "metadata": {},
   "outputs": [],
   "source": [
    "# y_test_class = np.argmax(y_test,axis=1)\n",
    "# y_pred_class = np.argmax(Y_pred,axis =1)\n",
    "# print (accuracy_score(y_test_class, y_pred_class))\n",
    "# print (classification_report(y_test_class,y_pred_class))\n",
    "# print (confusion_matrix(y_test_class,y_pred_class))"
   ]
  },
  {
   "cell_type": "markdown",
   "metadata": {},
   "source": [
    "### Building a \"Regression\" Multi Layer Perceptron Model"
   ]
  },
  {
   "cell_type": "code",
   "execution_count": 74,
   "metadata": {
    "collapsed": true
   },
   "outputs": [],
   "source": [
    "np.set_printoptions(threshold=np.nan)"
   ]
  },
  {
   "cell_type": "code",
   "execution_count": 75,
   "metadata": {},
   "outputs": [],
   "source": [
    "model = Sequential()\n",
    "model.add(Dense(32, input_shape=(X_train_MLP.shape[1],), activation='tanh'))\n",
    "model.add(Dense(64, activation='tanh'))\n",
    "model.add(Dropout(0.1))\n",
    "model.add(Dense(64, activation='tanh'))\n",
    "model.add(Dense(32, activation='tanh'))\n",
    "model.add(Dropout(0.1))\n",
    "model.add(Dense(1, activation='linear'))\n",
    "\n",
    "model.compile(optimizer = 'adam', loss = 'mse',\n",
    "              metrics=['acc', 'mae','mse'])"
   ]
  },
  {
   "cell_type": "code",
   "execution_count": 76,
   "metadata": {},
   "outputs": [
    {
     "name": "stdout",
     "output_type": "stream",
     "text": [
      "_________________________________________________________________\n",
      "Layer (type)                 Output Shape              Param #   \n",
      "=================================================================\n",
      "dense_9 (Dense)              (None, 32)                864       \n",
      "_________________________________________________________________\n",
      "dense_10 (Dense)             (None, 64)                2112      \n",
      "_________________________________________________________________\n",
      "dropout_3 (Dropout)          (None, 64)                0         \n",
      "_________________________________________________________________\n",
      "dense_11 (Dense)             (None, 64)                4160      \n",
      "_________________________________________________________________\n",
      "dense_12 (Dense)             (None, 32)                2080      \n",
      "_________________________________________________________________\n",
      "dropout_4 (Dropout)          (None, 32)                0         \n",
      "_________________________________________________________________\n",
      "dense_13 (Dense)             (None, 1)                 33        \n",
      "=================================================================\n",
      "Total params: 9,249\n",
      "Trainable params: 9,249\n",
      "Non-trainable params: 0\n",
      "_________________________________________________________________\n"
     ]
    }
   ],
   "source": [
    "model.summary()"
   ]
  },
  {
   "cell_type": "code",
   "execution_count": 77,
   "metadata": {
    "scrolled": true
   },
   "outputs": [
    {
     "name": "stdout",
     "output_type": "stream",
     "text": [
      "Train on 43089 samples, validate on 7605 samples\n",
      "Epoch 1/500\n",
      "43089/43089 [==============================] - 1s - loss: 48.6649 - acc: 0.0574 - mean_absolute_error: 5.5098 - mean_squared_error: 48.6649 - val_loss: 17.1122 - val_acc: 0.0893 - val_mean_absolute_error: 3.2909 - val_mean_squared_error: 17.1122\n",
      "Epoch 2/500\n",
      "43089/43089 [==============================] - 0s - loss: 16.4426 - acc: 0.1080 - mean_absolute_error: 3.0831 - mean_squared_error: 16.4426 - val_loss: 11.8806 - val_acc: 0.1210 - val_mean_absolute_error: 2.6717 - val_mean_squared_error: 11.8806\n",
      "Epoch 3/500\n",
      "43089/43089 [==============================] - 0s - loss: 13.1316 - acc: 0.1275 - mean_absolute_error: 2.7072 - mean_squared_error: 13.1316 - val_loss: 9.7744 - val_acc: 0.1333 - val_mean_absolute_error: 2.4304 - val_mean_squared_error: 9.7744\n",
      "Epoch 4/500\n",
      "43089/43089 [==============================] - 0s - loss: 11.3049 - acc: 0.1407 - mean_absolute_error: 2.4902 - mean_squared_error: 11.3049 - val_loss: 8.4489 - val_acc: 0.1481 - val_mean_absolute_error: 2.2508 - val_mean_squared_error: 8.4489\n",
      "Epoch 5/500\n",
      "43089/43089 [==============================] - 0s - loss: 9.8224 - acc: 0.1527 - mean_absolute_error: 2.3001 - mean_squared_error: 9.8224 - val_loss: 7.2370 - val_acc: 0.1549 - val_mean_absolute_error: 2.0782 - val_mean_squared_error: 7.2370\n",
      "Epoch 6/500\n",
      "43089/43089 [==============================] - 0s - loss: 8.9874 - acc: 0.1630 - mean_absolute_error: 2.1858 - mean_squared_error: 8.9874 - val_loss: 6.6383 - val_acc: 0.1641 - val_mean_absolute_error: 1.9895 - val_mean_squared_error: 6.6383\n",
      "Epoch 7/500\n",
      "43089/43089 [==============================] - 0s - loss: 8.6046 - acc: 0.1712 - mean_absolute_error: 2.1338 - mean_squared_error: 8.6046 - val_loss: 6.5191 - val_acc: 0.1691 - val_mean_absolute_error: 1.9702 - val_mean_squared_error: 6.5191\n",
      "Epoch 8/500\n",
      "43089/43089 [==============================] - 0s - loss: 8.3984 - acc: 0.1695 - mean_absolute_error: 2.1066 - mean_squared_error: 8.3984 - val_loss: 6.2858 - val_acc: 0.1850 - val_mean_absolute_error: 1.9025 - val_mean_squared_error: 6.2858\n",
      "Epoch 9/500\n",
      "43089/43089 [==============================] - 0s - loss: 8.2807 - acc: 0.1731 - mean_absolute_error: 2.0945 - mean_squared_error: 8.2807 - val_loss: 6.3224 - val_acc: 0.1761 - val_mean_absolute_error: 1.9345 - val_mean_squared_error: 6.3224\n",
      "Epoch 10/500\n",
      "43089/43089 [==============================] - 0s - loss: 8.2259 - acc: 0.1743 - mean_absolute_error: 2.0833 - mean_squared_error: 8.2259 - val_loss: 6.2942 - val_acc: 0.1773 - val_mean_absolute_error: 1.9227 - val_mean_squared_error: 6.2942\n",
      "Epoch 11/500\n",
      "43089/43089 [==============================] - 0s - loss: 8.1769 - acc: 0.1719 - mean_absolute_error: 2.0794 - mean_squared_error: 8.1769 - val_loss: 6.1607 - val_acc: 0.1832 - val_mean_absolute_error: 1.8890 - val_mean_squared_error: 6.1607\n",
      "Epoch 12/500\n",
      "43089/43089 [==============================] - 0s - loss: 8.0740 - acc: 0.1731 - mean_absolute_error: 2.0655 - mean_squared_error: 8.0740 - val_loss: 6.1135 - val_acc: 0.1841 - val_mean_absolute_error: 1.8917 - val_mean_squared_error: 6.1135\n",
      "Epoch 13/500\n",
      "43089/43089 [==============================] - 0s - loss: 8.0378 - acc: 0.1775 - mean_absolute_error: 2.0566 - mean_squared_error: 8.0378 - val_loss: 6.0725 - val_acc: 0.1865 - val_mean_absolute_error: 1.8830 - val_mean_squared_error: 6.0725\n",
      "Epoch 14/500\n",
      "43089/43089 [==============================] - 0s - loss: 7.9770 - acc: 0.1745 - mean_absolute_error: 2.0497 - mean_squared_error: 7.9770 - val_loss: 6.0583 - val_acc: 0.1896 - val_mean_absolute_error: 1.8718 - val_mean_squared_error: 6.0583\n",
      "Epoch 15/500\n",
      "43089/43089 [==============================] - 0s - loss: 7.9968 - acc: 0.1773 - mean_absolute_error: 2.0505 - mean_squared_error: 7.9968 - val_loss: 6.0811 - val_acc: 0.1933 - val_mean_absolute_error: 1.8835 - val_mean_squared_error: 6.0811\n",
      "Epoch 16/500\n",
      "43089/43089 [==============================] - 0s - loss: 7.9104 - acc: 0.1762 - mean_absolute_error: 2.0447 - mean_squared_error: 7.9104 - val_loss: 6.0301 - val_acc: 0.1942 - val_mean_absolute_error: 1.8580 - val_mean_squared_error: 6.0301\n",
      "Epoch 17/500\n",
      "43089/43089 [==============================] - 0s - loss: 7.8561 - acc: 0.1789 - mean_absolute_error: 2.0344 - mean_squared_error: 7.8561 - val_loss: 6.0468 - val_acc: 0.1833 - val_mean_absolute_error: 1.8909 - val_mean_squared_error: 6.0468\n",
      "Epoch 18/500\n",
      "43089/43089 [==============================] - 0s - loss: 7.7940 - acc: 0.1771 - mean_absolute_error: 2.0269 - mean_squared_error: 7.7940 - val_loss: 5.9959 - val_acc: 0.1979 - val_mean_absolute_error: 1.8601 - val_mean_squared_error: 5.9959\n",
      "Epoch 19/500\n",
      "43089/43089 [==============================] - 0s - loss: 7.7943 - acc: 0.1791 - mean_absolute_error: 2.0266 - mean_squared_error: 7.7943 - val_loss: 6.0643 - val_acc: 0.1891 - val_mean_absolute_error: 1.8826 - val_mean_squared_error: 6.0643\n",
      "Epoch 20/500\n",
      "43089/43089 [==============================] - 0s - loss: 7.8034 - acc: 0.1806 - mean_absolute_error: 2.0214 - mean_squared_error: 7.8034 - val_loss: 5.9930 - val_acc: 0.1940 - val_mean_absolute_error: 1.8601 - val_mean_squared_error: 5.9930\n",
      "Epoch 21/500\n",
      "43089/43089 [==============================] - 0s - loss: 7.7783 - acc: 0.1800 - mean_absolute_error: 2.0209 - mean_squared_error: 7.7783 - val_loss: 6.1134 - val_acc: 0.1786 - val_mean_absolute_error: 1.9028 - val_mean_squared_error: 6.1134\n",
      "Epoch 22/500\n",
      "43089/43089 [==============================] - 0s - loss: 7.6849 - acc: 0.1829 - mean_absolute_error: 2.0059 - mean_squared_error: 7.6849 - val_loss: 6.0778 - val_acc: 0.1890 - val_mean_absolute_error: 1.8824 - val_mean_squared_error: 6.0778\n",
      "Epoch 23/500\n",
      "43089/43089 [==============================] - 0s - loss: 7.7021 - acc: 0.1808 - mean_absolute_error: 2.0138 - mean_squared_error: 7.7021 - val_loss: 6.0343 - val_acc: 0.1908 - val_mean_absolute_error: 1.8618 - val_mean_squared_error: 6.0343\n",
      "Epoch 24/500\n",
      "43089/43089 [==============================] - 0s - loss: 7.7191 - acc: 0.1838 - mean_absolute_error: 2.0069 - mean_squared_error: 7.7191 - val_loss: 6.0799 - val_acc: 0.2007 - val_mean_absolute_error: 1.8628 - val_mean_squared_error: 6.0799\n",
      "Epoch 25/500\n",
      "43089/43089 [==============================] - 0s - loss: 7.6331 - acc: 0.1811 - mean_absolute_error: 2.0002 - mean_squared_error: 7.6331 - val_loss: 6.0808 - val_acc: 0.1803 - val_mean_absolute_error: 1.9091 - val_mean_squared_error: 6.0808\n",
      "Epoch 26/500\n",
      "43089/43089 [==============================] - 0s - loss: 7.6257 - acc: 0.1837 - mean_absolute_error: 1.9944 - mean_squared_error: 7.6257 - val_loss: 6.0931 - val_acc: 0.1957 - val_mean_absolute_error: 1.8765 - val_mean_squared_error: 6.0931\n",
      "Epoch 27/500\n",
      "43089/43089 [==============================] - 0s - loss: 7.6177 - acc: 0.1832 - mean_absolute_error: 1.9930 - mean_squared_error: 7.6177 - val_loss: 6.1522 - val_acc: 0.1805 - val_mean_absolute_error: 1.9132 - val_mean_squared_error: 6.1522\n",
      "Epoch 28/500\n",
      "43089/43089 [==============================] - 0s - loss: 7.5749 - acc: 0.1843 - mean_absolute_error: 1.9885 - mean_squared_error: 7.5749 - val_loss: 6.0820 - val_acc: 0.1959 - val_mean_absolute_error: 1.8841 - val_mean_squared_error: 6.0820\n",
      "Epoch 29/500\n",
      "43089/43089 [==============================] - 0s - loss: 7.5809 - acc: 0.1829 - mean_absolute_error: 1.9893 - mean_squared_error: 7.5809 - val_loss: 6.0167 - val_acc: 0.1938 - val_mean_absolute_error: 1.8734 - val_mean_squared_error: 6.0167\n",
      "Epoch 30/500\n",
      "43089/43089 [==============================] - 0s - loss: 7.5358 - acc: 0.1854 - mean_absolute_error: 1.9833 - mean_squared_error: 7.5358 - val_loss: 5.9798 - val_acc: 0.2042 - val_mean_absolute_error: 1.8528 - val_mean_squared_error: 5.9798\n",
      "Epoch 31/500\n",
      "43089/43089 [==============================] - 0s - loss: 7.4925 - acc: 0.1854 - mean_absolute_error: 1.9758 - mean_squared_error: 7.4925 - val_loss: 6.2012 - val_acc: 0.1767 - val_mean_absolute_error: 1.9224 - val_mean_squared_error: 6.2012\n",
      "Epoch 32/500\n"
     ]
    },
    {
     "name": "stdout",
     "output_type": "stream",
     "text": [
      "43089/43089 [==============================] - 0s - loss: 7.4960 - acc: 0.1881 - mean_absolute_error: 1.9766 - mean_squared_error: 7.4960 - val_loss: 6.0383 - val_acc: 0.1916 - val_mean_absolute_error: 1.8791 - val_mean_squared_error: 6.0383\n",
      "Epoch 33/500\n",
      "43089/43089 [==============================] - 0s - loss: 7.4570 - acc: 0.1929 - mean_absolute_error: 1.9664 - mean_squared_error: 7.4570 - val_loss: 6.0160 - val_acc: 0.1979 - val_mean_absolute_error: 1.8585 - val_mean_squared_error: 6.0160\n",
      "Epoch 34/500\n",
      "43089/43089 [==============================] - 0s - loss: 7.3709 - acc: 0.1877 - mean_absolute_error: 1.9562 - mean_squared_error: 7.3709 - val_loss: 6.1236 - val_acc: 0.1809 - val_mean_absolute_error: 1.9084 - val_mean_squared_error: 6.1236\n",
      "Epoch 35/500\n",
      "43089/43089 [==============================] - 0s - loss: 7.3890 - acc: 0.1878 - mean_absolute_error: 1.9574 - mean_squared_error: 7.3890 - val_loss: 6.0733 - val_acc: 0.1988 - val_mean_absolute_error: 1.8828 - val_mean_squared_error: 6.0733\n",
      "Epoch 36/500\n",
      "43089/43089 [==============================] - 0s - loss: 7.3380 - acc: 0.1908 - mean_absolute_error: 1.9481 - mean_squared_error: 7.3380 - val_loss: 6.0451 - val_acc: 0.2000 - val_mean_absolute_error: 1.8542 - val_mean_squared_error: 6.0451\n",
      "Epoch 37/500\n",
      "43089/43089 [==============================] - 0s - loss: 7.3611 - acc: 0.1870 - mean_absolute_error: 1.9534 - mean_squared_error: 7.3611 - val_loss: 6.0128 - val_acc: 0.2017 - val_mean_absolute_error: 1.8458 - val_mean_squared_error: 6.0128\n",
      "Epoch 38/500\n",
      "43089/43089 [==============================] - 0s - loss: 7.3122 - acc: 0.1919 - mean_absolute_error: 1.9446 - mean_squared_error: 7.3122 - val_loss: 6.0166 - val_acc: 0.1916 - val_mean_absolute_error: 1.8708 - val_mean_squared_error: 6.0166\n",
      "Epoch 39/500\n",
      "43089/43089 [==============================] - 0s - loss: 7.3256 - acc: 0.1870 - mean_absolute_error: 1.9503 - mean_squared_error: 7.3256 - val_loss: 5.9402 - val_acc: 0.2091 - val_mean_absolute_error: 1.8352 - val_mean_squared_error: 5.9402\n",
      "Epoch 40/500\n",
      "43089/43089 [==============================] - 0s - loss: 7.2539 - acc: 0.1940 - mean_absolute_error: 1.9324 - mean_squared_error: 7.2539 - val_loss: 6.0809 - val_acc: 0.2067 - val_mean_absolute_error: 1.8600 - val_mean_squared_error: 6.0809\n",
      "Epoch 41/500\n",
      "43089/43089 [==============================] - 0s - loss: 7.2713 - acc: 0.1950 - mean_absolute_error: 1.9308 - mean_squared_error: 7.2713 - val_loss: 6.0864 - val_acc: 0.1908 - val_mean_absolute_error: 1.8855 - val_mean_squared_error: 6.0864\n",
      "Epoch 42/500\n",
      "43089/43089 [==============================] - 0s - loss: 7.2070 - acc: 0.1904 - mean_absolute_error: 1.9315 - mean_squared_error: 7.2070 - val_loss: 6.0875 - val_acc: 0.2039 - val_mean_absolute_error: 1.8671 - val_mean_squared_error: 6.0875\n",
      "Epoch 43/500\n",
      "43089/43089 [==============================] - 0s - loss: 7.1960 - acc: 0.1934 - mean_absolute_error: 1.9222 - mean_squared_error: 7.1960 - val_loss: 6.0945 - val_acc: 0.1926 - val_mean_absolute_error: 1.8891 - val_mean_squared_error: 6.0945\n",
      "Epoch 44/500\n",
      "43089/43089 [==============================] - 0s - loss: 7.1571 - acc: 0.1973 - mean_absolute_error: 1.9181 - mean_squared_error: 7.1571 - val_loss: 6.2395 - val_acc: 0.1721 - val_mean_absolute_error: 1.9402 - val_mean_squared_error: 6.2395\n",
      "Epoch 45/500\n",
      "43089/43089 [==============================] - 0s - loss: 7.1708 - acc: 0.1946 - mean_absolute_error: 1.9223 - mean_squared_error: 7.1708 - val_loss: 6.0166 - val_acc: 0.2114 - val_mean_absolute_error: 1.8345 - val_mean_squared_error: 6.0166\n",
      "Epoch 46/500\n",
      "43089/43089 [==============================] - 0s - loss: 7.1587 - acc: 0.1969 - mean_absolute_error: 1.9164 - mean_squared_error: 7.1587 - val_loss: 6.0441 - val_acc: 0.2038 - val_mean_absolute_error: 1.8543 - val_mean_squared_error: 6.0441\n",
      "Epoch 47/500\n",
      "43089/43089 [==============================] - 0s - loss: 7.1666 - acc: 0.1953 - mean_absolute_error: 1.9187 - mean_squared_error: 7.1666 - val_loss: 6.0917 - val_acc: 0.1926 - val_mean_absolute_error: 1.8714 - val_mean_squared_error: 6.0917\n",
      "Epoch 48/500\n",
      "43089/43089 [==============================] - 0s - loss: 7.1046 - acc: 0.1997 - mean_absolute_error: 1.9079 - mean_squared_error: 7.1046 - val_loss: 6.1154 - val_acc: 0.1968 - val_mean_absolute_error: 1.8786 - val_mean_squared_error: 6.1154\n",
      "Epoch 49/500\n",
      "43089/43089 [==============================] - 0s - loss: 7.0940 - acc: 0.1958 - mean_absolute_error: 1.9082 - mean_squared_error: 7.0940 - val_loss: 6.2579 - val_acc: 0.2038 - val_mean_absolute_error: 1.8933 - val_mean_squared_error: 6.2579\n",
      "Epoch 50/500\n",
      "43089/43089 [==============================] - 0s - loss: 7.0686 - acc: 0.1995 - mean_absolute_error: 1.9033 - mean_squared_error: 7.0686 - val_loss: 5.9531 - val_acc: 0.1980 - val_mean_absolute_error: 1.8472 - val_mean_squared_error: 5.9531\n",
      "Epoch 51/500\n",
      "43089/43089 [==============================] - 0s - loss: 7.0317 - acc: 0.2002 - mean_absolute_error: 1.8937 - mean_squared_error: 7.0317 - val_loss: 6.0883 - val_acc: 0.2092 - val_mean_absolute_error: 1.8372 - val_mean_squared_error: 6.0883\n",
      "Epoch 52/500\n",
      "43089/43089 [==============================] - 0s - loss: 7.0192 - acc: 0.2032 - mean_absolute_error: 1.8927 - mean_squared_error: 7.0192 - val_loss: 6.2509 - val_acc: 0.1938 - val_mean_absolute_error: 1.9181 - val_mean_squared_error: 6.2509\n",
      "Epoch 53/500\n",
      "43089/43089 [==============================] - 0s - loss: 7.0897 - acc: 0.1984 - mean_absolute_error: 1.9010 - mean_squared_error: 7.0897 - val_loss: 6.0506 - val_acc: 0.1867 - val_mean_absolute_error: 1.8913 - val_mean_squared_error: 6.0506\n",
      "Epoch 54/500\n",
      "43089/43089 [==============================] - 0s - loss: 7.0354 - acc: 0.2020 - mean_absolute_error: 1.8949 - mean_squared_error: 7.0354 - val_loss: 6.1910 - val_acc: 0.1857 - val_mean_absolute_error: 1.9014 - val_mean_squared_error: 6.1910\n",
      "Epoch 55/500\n",
      "43089/43089 [==============================] - 0s - loss: 6.9867 - acc: 0.1976 - mean_absolute_error: 1.8947 - mean_squared_error: 6.9867 - val_loss: 6.2165 - val_acc: 0.1783 - val_mean_absolute_error: 1.9152 - val_mean_squared_error: 6.2165\n",
      "Epoch 56/500\n",
      "43089/43089 [==============================] - 0s - loss: 7.0244 - acc: 0.2023 - mean_absolute_error: 1.8929 - mean_squared_error: 7.0244 - val_loss: 6.0502 - val_acc: 0.1968 - val_mean_absolute_error: 1.8641 - val_mean_squared_error: 6.0502\n",
      "Epoch 57/500\n",
      "43089/43089 [==============================] - 0s - loss: 6.9993 - acc: 0.2015 - mean_absolute_error: 1.8924 - mean_squared_error: 6.9993 - val_loss: 6.0330 - val_acc: 0.2072 - val_mean_absolute_error: 1.8534 - val_mean_squared_error: 6.0330\n",
      "Epoch 58/500\n",
      "43089/43089 [==============================] - 0s - loss: 6.9280 - acc: 0.2026 - mean_absolute_error: 1.8826 - mean_squared_error: 6.9280 - val_loss: 6.1984 - val_acc: 0.2032 - val_mean_absolute_error: 1.8839 - val_mean_squared_error: 6.1984\n",
      "Epoch 59/500\n",
      "43089/43089 [==============================] - 0s - loss: 6.9619 - acc: 0.2012 - mean_absolute_error: 1.8858 - mean_squared_error: 6.9619 - val_loss: 6.0492 - val_acc: 0.2156 - val_mean_absolute_error: 1.8447 - val_mean_squared_error: 6.0492\n",
      "Epoch 60/500\n",
      "43089/43089 [==============================] - 0s - loss: 6.9537 - acc: 0.2016 - mean_absolute_error: 1.8810 - mean_squared_error: 6.9537 - val_loss: 6.3051 - val_acc: 0.1696 - val_mean_absolute_error: 1.9387 - val_mean_squared_error: 6.3051\n",
      "Epoch 61/500\n",
      "43089/43089 [==============================] - 0s - loss: 6.9751 - acc: 0.2009 - mean_absolute_error: 1.8892 - mean_squared_error: 6.9751 - val_loss: 6.0703 - val_acc: 0.2045 - val_mean_absolute_error: 1.8658 - val_mean_squared_error: 6.0703\n",
      "Epoch 62/500\n",
      "43089/43089 [==============================] - 0s - loss: 6.8961 - acc: 0.2031 - mean_absolute_error: 1.8775 - mean_squared_error: 6.8961 - val_loss: 6.0593 - val_acc: 0.2095 - val_mean_absolute_error: 1.8484 - val_mean_squared_error: 6.0593\n",
      "Epoch 63/500\n",
      "43089/43089 [==============================] - 0s - loss: 6.8850 - acc: 0.2045 - mean_absolute_error: 1.8737 - mean_squared_error: 6.8850 - val_loss: 6.0198 - val_acc: 0.2112 - val_mean_absolute_error: 1.8495 - val_mean_squared_error: 6.0198\n",
      "Epoch 64/500\n"
     ]
    },
    {
     "name": "stdout",
     "output_type": "stream",
     "text": [
      "43089/43089 [==============================] - 0s - loss: 6.9667 - acc: 0.2022 - mean_absolute_error: 1.8873 - mean_squared_error: 6.9667 - val_loss: 6.1263 - val_acc: 0.2004 - val_mean_absolute_error: 1.8894 - val_mean_squared_error: 6.1263\n",
      "Epoch 65/500\n",
      "43089/43089 [==============================] - 0s - loss: 6.9130 - acc: 0.2093 - mean_absolute_error: 1.8774 - mean_squared_error: 6.9130 - val_loss: 6.1260 - val_acc: 0.1951 - val_mean_absolute_error: 1.8857 - val_mean_squared_error: 6.1260\n",
      "Epoch 66/500\n",
      "43089/43089 [==============================] - 0s - loss: 6.8902 - acc: 0.2049 - mean_absolute_error: 1.8723 - mean_squared_error: 6.8902 - val_loss: 6.0858 - val_acc: 0.2117 - val_mean_absolute_error: 1.8500 - val_mean_squared_error: 6.0858\n",
      "Epoch 67/500\n",
      "43089/43089 [==============================] - 0s - loss: 6.8593 - acc: 0.2049 - mean_absolute_error: 1.8698 - mean_squared_error: 6.8593 - val_loss: 6.1236 - val_acc: 0.1928 - val_mean_absolute_error: 1.8788 - val_mean_squared_error: 6.1236\n",
      "Epoch 68/500\n",
      "43089/43089 [==============================] - 0s - loss: 6.8702 - acc: 0.2078 - mean_absolute_error: 1.8702 - mean_squared_error: 6.8702 - val_loss: 6.1161 - val_acc: 0.2108 - val_mean_absolute_error: 1.8412 - val_mean_squared_error: 6.1161\n",
      "Epoch 69/500\n",
      "43089/43089 [==============================] - 0s - loss: 6.8341 - acc: 0.2049 - mean_absolute_error: 1.8684 - mean_squared_error: 6.8341 - val_loss: 6.2957 - val_acc: 0.1594 - val_mean_absolute_error: 1.9561 - val_mean_squared_error: 6.2957\n",
      "Epoch 70/500\n",
      "43089/43089 [==============================] - 0s - loss: 6.8408 - acc: 0.2037 - mean_absolute_error: 1.8717 - mean_squared_error: 6.8408 - val_loss: 6.0704 - val_acc: 0.2191 - val_mean_absolute_error: 1.8358 - val_mean_squared_error: 6.0704\n",
      "Epoch 71/500\n",
      "43089/43089 [==============================] - 0s - loss: 6.7797 - acc: 0.2057 - mean_absolute_error: 1.8612 - mean_squared_error: 6.7797 - val_loss: 6.0555 - val_acc: 0.2075 - val_mean_absolute_error: 1.8643 - val_mean_squared_error: 6.0555\n",
      "Epoch 72/500\n",
      "43089/43089 [==============================] - 0s - loss: 6.7911 - acc: 0.2080 - mean_absolute_error: 1.8599 - mean_squared_error: 6.7911 - val_loss: 6.0223 - val_acc: 0.2063 - val_mean_absolute_error: 1.8693 - val_mean_squared_error: 6.0223\n",
      "Epoch 73/500\n",
      "43089/43089 [==============================] - 0s - loss: 6.7997 - acc: 0.2041 - mean_absolute_error: 1.8650 - mean_squared_error: 6.7997 - val_loss: 6.0407 - val_acc: 0.2124 - val_mean_absolute_error: 1.8500 - val_mean_squared_error: 6.0407\n",
      "Epoch 74/500\n",
      "43089/43089 [==============================] - 0s - loss: 6.7994 - acc: 0.2084 - mean_absolute_error: 1.8614 - mean_squared_error: 6.7994 - val_loss: 6.1923 - val_acc: 0.2062 - val_mean_absolute_error: 1.8715 - val_mean_squared_error: 6.1923\n",
      "Epoch 75/500\n",
      "43089/43089 [==============================] - 0s - loss: 6.7910 - acc: 0.2086 - mean_absolute_error: 1.8549 - mean_squared_error: 6.7910 - val_loss: 6.0690 - val_acc: 0.2095 - val_mean_absolute_error: 1.8653 - val_mean_squared_error: 6.0690\n",
      "Epoch 76/500\n",
      "43089/43089 [==============================] - 0s - loss: 6.7697 - acc: 0.2083 - mean_absolute_error: 1.8595 - mean_squared_error: 6.7697 - val_loss: 6.0622 - val_acc: 0.2120 - val_mean_absolute_error: 1.8488 - val_mean_squared_error: 6.0622\n",
      "Epoch 77/500\n",
      "43089/43089 [==============================] - 0s - loss: 6.8209 - acc: 0.2057 - mean_absolute_error: 1.8666 - mean_squared_error: 6.8209 - val_loss: 6.1268 - val_acc: 0.1846 - val_mean_absolute_error: 1.8992 - val_mean_squared_error: 6.1268\n",
      "Epoch 78/500\n",
      "43089/43089 [==============================] - 0s - loss: 6.7921 - acc: 0.2067 - mean_absolute_error: 1.8621 - mean_squared_error: 6.7921 - val_loss: 6.0960 - val_acc: 0.2112 - val_mean_absolute_error: 1.8690 - val_mean_squared_error: 6.0960\n",
      "Epoch 79/500\n",
      "43089/43089 [==============================] - 0s - loss: 6.7413 - acc: 0.2053 - mean_absolute_error: 1.8552 - mean_squared_error: 6.7413 - val_loss: 6.3179 - val_acc: 0.2042 - val_mean_absolute_error: 1.9046 - val_mean_squared_error: 6.3179\n",
      "Epoch 80/500\n",
      "43089/43089 [==============================] - 0s - loss: 6.7494 - acc: 0.2079 - mean_absolute_error: 1.8556 - mean_squared_error: 6.7494 - val_loss: 6.2049 - val_acc: 0.1999 - val_mean_absolute_error: 1.8970 - val_mean_squared_error: 6.2049\n",
      "Epoch 81/500\n",
      "43089/43089 [==============================] - 0s - loss: 6.7219 - acc: 0.2074 - mean_absolute_error: 1.8528 - mean_squared_error: 6.7219 - val_loss: 6.0283 - val_acc: 0.1947 - val_mean_absolute_error: 1.8638 - val_mean_squared_error: 6.0283\n",
      "Epoch 82/500\n",
      "43089/43089 [==============================] - 0s - loss: 6.7475 - acc: 0.2079 - mean_absolute_error: 1.8546 - mean_squared_error: 6.7475 - val_loss: 6.2867 - val_acc: 0.1820 - val_mean_absolute_error: 1.9313 - val_mean_squared_error: 6.2867\n",
      "Epoch 83/500\n",
      "43089/43089 [==============================] - 0s - loss: 6.7431 - acc: 0.2061 - mean_absolute_error: 1.8570 - mean_squared_error: 6.7431 - val_loss: 6.0861 - val_acc: 0.2168 - val_mean_absolute_error: 1.8516 - val_mean_squared_error: 6.0861\n",
      "Epoch 84/500\n",
      "43089/43089 [==============================] - 0s - loss: 6.6542 - acc: 0.2068 - mean_absolute_error: 1.8413 - mean_squared_error: 6.6542 - val_loss: 6.1052 - val_acc: 0.2154 - val_mean_absolute_error: 1.8435 - val_mean_squared_error: 6.1052\n",
      "Epoch 85/500\n",
      "43089/43089 [==============================] - 0s - loss: 6.7214 - acc: 0.2048 - mean_absolute_error: 1.8523 - mean_squared_error: 6.7214 - val_loss: 6.1947 - val_acc: 0.2258 - val_mean_absolute_error: 1.8348 - val_mean_squared_error: 6.1947\n",
      "Epoch 86/500\n",
      "43089/43089 [==============================] - 0s - loss: 6.7102 - acc: 0.2046 - mean_absolute_error: 1.8557 - mean_squared_error: 6.7102 - val_loss: 6.1794 - val_acc: 0.2209 - val_mean_absolute_error: 1.8434 - val_mean_squared_error: 6.1794\n",
      "Epoch 87/500\n",
      "43089/43089 [==============================] - 0s - loss: 6.7036 - acc: 0.2101 - mean_absolute_error: 1.8492 - mean_squared_error: 6.7036 - val_loss: 6.1021 - val_acc: 0.1978 - val_mean_absolute_error: 1.8796 - val_mean_squared_error: 6.1021\n",
      "Epoch 88/500\n",
      "43089/43089 [==============================] - 0s - loss: 6.6793 - acc: 0.2104 - mean_absolute_error: 1.8441 - mean_squared_error: 6.6793 - val_loss: 6.0681 - val_acc: 0.2120 - val_mean_absolute_error: 1.8448 - val_mean_squared_error: 6.0681\n",
      "Epoch 89/500\n",
      "43089/43089 [==============================] - 0s - loss: 6.6474 - acc: 0.2101 - mean_absolute_error: 1.8420 - mean_squared_error: 6.6474 - val_loss: 6.2326 - val_acc: 0.1882 - val_mean_absolute_error: 1.8936 - val_mean_squared_error: 6.2326\n",
      "Epoch 90/500\n",
      "43089/43089 [==============================] - 0s - loss: 6.6231 - acc: 0.2116 - mean_absolute_error: 1.8383 - mean_squared_error: 6.6231 - val_loss: 6.3281 - val_acc: 0.1933 - val_mean_absolute_error: 1.9046 - val_mean_squared_error: 6.3281\n",
      "Epoch 91/500\n",
      "43089/43089 [==============================] - 0s - loss: 6.6418 - acc: 0.2064 - mean_absolute_error: 1.8469 - mean_squared_error: 6.6418 - val_loss: 6.1381 - val_acc: 0.2117 - val_mean_absolute_error: 1.8559 - val_mean_squared_error: 6.1381\n",
      "Epoch 92/500\n",
      "43089/43089 [==============================] - 0s - loss: 6.6466 - acc: 0.2097 - mean_absolute_error: 1.8421 - mean_squared_error: 6.6466 - val_loss: 6.0617 - val_acc: 0.2193 - val_mean_absolute_error: 1.8397 - val_mean_squared_error: 6.0617\n",
      "Epoch 93/500\n",
      "43089/43089 [==============================] - 0s - loss: 6.6268 - acc: 0.2061 - mean_absolute_error: 1.8417 - mean_squared_error: 6.6268 - val_loss: 6.0785 - val_acc: 0.2181 - val_mean_absolute_error: 1.8476 - val_mean_squared_error: 6.0785\n",
      "Epoch 94/500\n",
      "43089/43089 [==============================] - 0s - loss: 6.6092 - acc: 0.2109 - mean_absolute_error: 1.8392 - mean_squared_error: 6.6092 - val_loss: 6.1244 - val_acc: 0.2206 - val_mean_absolute_error: 1.8419 - val_mean_squared_error: 6.1244\n",
      "Epoch 95/500\n",
      "43089/43089 [==============================] - 0s - loss: 6.5885 - acc: 0.2099 - mean_absolute_error: 1.8358 - mean_squared_error: 6.5885 - val_loss: 6.1052 - val_acc: 0.2085 - val_mean_absolute_error: 1.8488 - val_mean_squared_error: 6.1052\n",
      "Epoch 96/500\n"
     ]
    },
    {
     "name": "stdout",
     "output_type": "stream",
     "text": [
      "43089/43089 [==============================] - 0s - loss: 6.6127 - acc: 0.2114 - mean_absolute_error: 1.8335 - mean_squared_error: 6.6127 - val_loss: 6.3783 - val_acc: 0.1803 - val_mean_absolute_error: 1.9394 - val_mean_squared_error: 6.3783\n",
      "Epoch 97/500\n",
      "43089/43089 [==============================] - 0s - loss: 6.6115 - acc: 0.2098 - mean_absolute_error: 1.8377 - mean_squared_error: 6.6115 - val_loss: 6.3345 - val_acc: 0.1729 - val_mean_absolute_error: 1.9436 - val_mean_squared_error: 6.3345\n",
      "Epoch 98/500\n",
      "43089/43089 [==============================] - 0s - loss: 6.6200 - acc: 0.2082 - mean_absolute_error: 1.8407 - mean_squared_error: 6.6200 - val_loss: 6.2475 - val_acc: 0.2156 - val_mean_absolute_error: 1.8676 - val_mean_squared_error: 6.2475\n",
      "Epoch 99/500\n",
      "43089/43089 [==============================] - 0s - loss: 6.5907 - acc: 0.2104 - mean_absolute_error: 1.8327 - mean_squared_error: 6.5907 - val_loss: 6.2038 - val_acc: 0.1808 - val_mean_absolute_error: 1.9088 - val_mean_squared_error: 6.2038\n",
      "Epoch 100/500\n",
      "43089/43089 [==============================] - 0s - loss: 6.5570 - acc: 0.2073 - mean_absolute_error: 1.8343 - mean_squared_error: 6.5570 - val_loss: 6.1801 - val_acc: 0.2187 - val_mean_absolute_error: 1.8500 - val_mean_squared_error: 6.1801\n",
      "Epoch 101/500\n",
      "43089/43089 [==============================] - 0s - loss: 6.5606 - acc: 0.2073 - mean_absolute_error: 1.8333 - mean_squared_error: 6.5606 - val_loss: 6.1658 - val_acc: 0.2218 - val_mean_absolute_error: 1.8536 - val_mean_squared_error: 6.1658\n",
      "Epoch 102/500\n",
      "43089/43089 [==============================] - 0s - loss: 6.5401 - acc: 0.2114 - mean_absolute_error: 1.8270 - mean_squared_error: 6.5401 - val_loss: 6.1106 - val_acc: 0.2042 - val_mean_absolute_error: 1.8627 - val_mean_squared_error: 6.1106\n",
      "Epoch 103/500\n",
      "43089/43089 [==============================] - 0s - loss: 6.5499 - acc: 0.2101 - mean_absolute_error: 1.8307 - mean_squared_error: 6.5499 - val_loss: 6.3368 - val_acc: 0.2142 - val_mean_absolute_error: 1.8809 - val_mean_squared_error: 6.3368\n",
      "Epoch 104/500\n",
      "43089/43089 [==============================] - 0s - loss: 6.5226 - acc: 0.2112 - mean_absolute_error: 1.8257 - mean_squared_error: 6.5226 - val_loss: 6.2578 - val_acc: 0.2155 - val_mean_absolute_error: 1.8884 - val_mean_squared_error: 6.2578\n",
      "Epoch 105/500\n",
      "43089/43089 [==============================] - 0s - loss: 6.5260 - acc: 0.2086 - mean_absolute_error: 1.8292 - mean_squared_error: 6.5260 - val_loss: 6.1529 - val_acc: 0.2125 - val_mean_absolute_error: 1.8545 - val_mean_squared_error: 6.1529\n",
      "Epoch 106/500\n",
      "43089/43089 [==============================] - 0s - loss: 6.5318 - acc: 0.2075 - mean_absolute_error: 1.8299 - mean_squared_error: 6.5318 - val_loss: 6.1711 - val_acc: 0.2156 - val_mean_absolute_error: 1.8708 - val_mean_squared_error: 6.1711\n",
      "Epoch 107/500\n",
      "43089/43089 [==============================] - 0s - loss: 6.5402 - acc: 0.2090 - mean_absolute_error: 1.8330 - mean_squared_error: 6.5402 - val_loss: 6.3112 - val_acc: 0.2121 - val_mean_absolute_error: 1.8796 - val_mean_squared_error: 6.3112\n",
      "Epoch 108/500\n",
      "43089/43089 [==============================] - 0s - loss: 6.5243 - acc: 0.2097 - mean_absolute_error: 1.8288 - mean_squared_error: 6.5243 - val_loss: 6.1625 - val_acc: 0.2145 - val_mean_absolute_error: 1.8516 - val_mean_squared_error: 6.1625\n",
      "Epoch 109/500\n",
      "43089/43089 [==============================] - 0s - loss: 6.4794 - acc: 0.2122 - mean_absolute_error: 1.8221 - mean_squared_error: 6.4794 - val_loss: 6.2171 - val_acc: 0.2199 - val_mean_absolute_error: 1.8606 - val_mean_squared_error: 6.2171\n",
      "Epoch 110/500\n",
      "43089/43089 [==============================] - 0s - loss: 6.4943 - acc: 0.2067 - mean_absolute_error: 1.8261 - mean_squared_error: 6.4943 - val_loss: 6.3146 - val_acc: 0.2060 - val_mean_absolute_error: 1.8996 - val_mean_squared_error: 6.3146\n",
      "Epoch 111/500\n",
      "43089/43089 [==============================] - 0s - loss: 6.4790 - acc: 0.2091 - mean_absolute_error: 1.8242 - mean_squared_error: 6.4790 - val_loss: 6.2383 - val_acc: 0.2284 - val_mean_absolute_error: 1.8394 - val_mean_squared_error: 6.2383\n",
      "Epoch 112/500\n",
      "43089/43089 [==============================] - 0s - loss: 6.4987 - acc: 0.2112 - mean_absolute_error: 1.8265 - mean_squared_error: 6.4987 - val_loss: 6.1954 - val_acc: 0.2233 - val_mean_absolute_error: 1.8476 - val_mean_squared_error: 6.1954\n",
      "Epoch 113/500\n",
      "43089/43089 [==============================] - 0s - loss: 6.4645 - acc: 0.2110 - mean_absolute_error: 1.8213 - mean_squared_error: 6.4645 - val_loss: 6.2729 - val_acc: 0.2007 - val_mean_absolute_error: 1.9012 - val_mean_squared_error: 6.2729\n",
      "Epoch 114/500\n",
      "43089/43089 [==============================] - 0s - loss: 6.5311 - acc: 0.2098 - mean_absolute_error: 1.8327 - mean_squared_error: 6.5311 - val_loss: 6.4445 - val_acc: 0.1921 - val_mean_absolute_error: 1.9301 - val_mean_squared_error: 6.4445\n",
      "Epoch 115/500\n",
      "43089/43089 [==============================] - 0s - loss: 6.4409 - acc: 0.2097 - mean_absolute_error: 1.8176 - mean_squared_error: 6.4409 - val_loss: 6.2284 - val_acc: 0.2118 - val_mean_absolute_error: 1.8690 - val_mean_squared_error: 6.2284\n",
      "Epoch 116/500\n",
      "43089/43089 [==============================] - 0s - loss: 6.4160 - acc: 0.2107 - mean_absolute_error: 1.8118 - mean_squared_error: 6.4160 - val_loss: 6.2063 - val_acc: 0.2049 - val_mean_absolute_error: 1.8780 - val_mean_squared_error: 6.2063\n",
      "Epoch 117/500\n",
      "43089/43089 [==============================] - 0s - loss: 6.4403 - acc: 0.2110 - mean_absolute_error: 1.8182 - mean_squared_error: 6.4403 - val_loss: 6.2312 - val_acc: 0.2183 - val_mean_absolute_error: 1.8602 - val_mean_squared_error: 6.2312\n",
      "Epoch 118/500\n",
      "43089/43089 [==============================] - 0s - loss: 6.4166 - acc: 0.2128 - mean_absolute_error: 1.8138 - mean_squared_error: 6.4166 - val_loss: 6.2192 - val_acc: 0.2233 - val_mean_absolute_error: 1.8562 - val_mean_squared_error: 6.2192\n",
      "Epoch 119/500\n",
      "43089/43089 [==============================] - 0s - loss: 6.3724 - acc: 0.2148 - mean_absolute_error: 1.8051 - mean_squared_error: 6.3724 - val_loss: 6.1739 - val_acc: 0.2212 - val_mean_absolute_error: 1.8535 - val_mean_squared_error: 6.1739\n",
      "Epoch 120/500\n",
      "43089/43089 [==============================] - 0s - loss: 6.4066 - acc: 0.2116 - mean_absolute_error: 1.8125 - mean_squared_error: 6.4066 - val_loss: 6.2542 - val_acc: 0.2016 - val_mean_absolute_error: 1.9006 - val_mean_squared_error: 6.2542\n",
      "Epoch 121/500\n",
      "43089/43089 [==============================] - 0s - loss: 6.4547 - acc: 0.2087 - mean_absolute_error: 1.8284 - mean_squared_error: 6.4547 - val_loss: 6.4542 - val_acc: 0.1967 - val_mean_absolute_error: 1.8973 - val_mean_squared_error: 6.4542\n",
      "Epoch 122/500\n",
      "43089/43089 [==============================] - 0s - loss: 6.3866 - acc: 0.2119 - mean_absolute_error: 1.8087 - mean_squared_error: 6.3866 - val_loss: 6.3923 - val_acc: 0.2162 - val_mean_absolute_error: 1.8681 - val_mean_squared_error: 6.3923\n",
      "Epoch 123/500\n",
      "43089/43089 [==============================] - 0s - loss: 6.3949 - acc: 0.2101 - mean_absolute_error: 1.8120 - mean_squared_error: 6.3949 - val_loss: 6.3069 - val_acc: 0.2179 - val_mean_absolute_error: 1.8684 - val_mean_squared_error: 6.3069\n",
      "Epoch 124/500\n",
      "43089/43089 [==============================] - 0s - loss: 6.3632 - acc: 0.2134 - mean_absolute_error: 1.8029 - mean_squared_error: 6.3632 - val_loss: 6.2232 - val_acc: 0.2167 - val_mean_absolute_error: 1.8657 - val_mean_squared_error: 6.2232\n",
      "Epoch 125/500\n",
      "43089/43089 [==============================] - 0s - loss: 6.3663 - acc: 0.2144 - mean_absolute_error: 1.8058 - mean_squared_error: 6.3663 - val_loss: 6.3031 - val_acc: 0.2150 - val_mean_absolute_error: 1.8759 - val_mean_squared_error: 6.3031\n",
      "Epoch 126/500\n",
      "43089/43089 [==============================] - 0s - loss: 6.3697 - acc: 0.2161 - mean_absolute_error: 1.8000 - mean_squared_error: 6.3697 - val_loss: 6.2350 - val_acc: 0.1937 - val_mean_absolute_error: 1.8891 - val_mean_squared_error: 6.2350\n",
      "Epoch 127/500\n",
      "43089/43089 [==============================] - 0s - loss: 6.2997 - acc: 0.2115 - mean_absolute_error: 1.7975 - mean_squared_error: 6.2997 - val_loss: 6.2683 - val_acc: 0.2272 - val_mean_absolute_error: 1.8505 - val_mean_squared_error: 6.2683\n",
      "Epoch 128/500\n"
     ]
    },
    {
     "name": "stdout",
     "output_type": "stream",
     "text": [
      "43089/43089 [==============================] - 0s - loss: 6.2979 - acc: 0.2130 - mean_absolute_error: 1.8019 - mean_squared_error: 6.2979 - val_loss: 6.2955 - val_acc: 0.2167 - val_mean_absolute_error: 1.8655 - val_mean_squared_error: 6.2955\n",
      "Epoch 129/500\n",
      "43089/43089 [==============================] - 0s - loss: 6.3257 - acc: 0.2109 - mean_absolute_error: 1.8008 - mean_squared_error: 6.3257 - val_loss: 6.2810 - val_acc: 0.1967 - val_mean_absolute_error: 1.8877 - val_mean_squared_error: 6.2810\n",
      "Epoch 130/500\n",
      "43089/43089 [==============================] - 0s - loss: 6.3210 - acc: 0.2111 - mean_absolute_error: 1.8012 - mean_squared_error: 6.3210 - val_loss: 6.2942 - val_acc: 0.2160 - val_mean_absolute_error: 1.8656 - val_mean_squared_error: 6.2942\n",
      "Epoch 131/500\n",
      "43089/43089 [==============================] - 0s - loss: 6.3265 - acc: 0.2109 - mean_absolute_error: 1.8032 - mean_squared_error: 6.3265 - val_loss: 6.3092 - val_acc: 0.2058 - val_mean_absolute_error: 1.8985 - val_mean_squared_error: 6.3092\n",
      "Epoch 132/500\n",
      "43089/43089 [==============================] - 0s - loss: 6.3190 - acc: 0.2091 - mean_absolute_error: 1.8017 - mean_squared_error: 6.3190 - val_loss: 6.2127 - val_acc: 0.2297 - val_mean_absolute_error: 1.8556 - val_mean_squared_error: 6.2127\n",
      "Epoch 133/500\n",
      "43089/43089 [==============================] - 0s - loss: 6.2865 - acc: 0.2124 - mean_absolute_error: 1.7930 - mean_squared_error: 6.2865 - val_loss: 6.5172 - val_acc: 0.2085 - val_mean_absolute_error: 1.9146 - val_mean_squared_error: 6.5172\n",
      "Epoch 134/500\n",
      "43089/43089 [==============================] - 0s - loss: 6.3010 - acc: 0.2143 - mean_absolute_error: 1.7936 - mean_squared_error: 6.3010 - val_loss: 6.3118 - val_acc: 0.2184 - val_mean_absolute_error: 1.8730 - val_mean_squared_error: 6.3118\n",
      "Epoch 135/500\n",
      "43089/43089 [==============================] - 0s - loss: 6.2771 - acc: 0.2124 - mean_absolute_error: 1.7954 - mean_squared_error: 6.2771 - val_loss: 6.2987 - val_acc: 0.1908 - val_mean_absolute_error: 1.9053 - val_mean_squared_error: 6.2987\n",
      "Epoch 136/500\n",
      "43089/43089 [==============================] - 0s - loss: 6.2512 - acc: 0.2144 - mean_absolute_error: 1.7941 - mean_squared_error: 6.2512 - val_loss: 6.3960 - val_acc: 0.2243 - val_mean_absolute_error: 1.8621 - val_mean_squared_error: 6.3960\n",
      "Epoch 137/500\n",
      "43089/43089 [==============================] - 0s - loss: 6.2797 - acc: 0.2144 - mean_absolute_error: 1.7954 - mean_squared_error: 6.2797 - val_loss: 6.4801 - val_acc: 0.1730 - val_mean_absolute_error: 1.9514 - val_mean_squared_error: 6.4801\n",
      "Epoch 138/500\n",
      "43089/43089 [==============================] - 0s - loss: 6.2695 - acc: 0.2122 - mean_absolute_error: 1.7958 - mean_squared_error: 6.2695 - val_loss: 6.3956 - val_acc: 0.2227 - val_mean_absolute_error: 1.8724 - val_mean_squared_error: 6.3956\n",
      "Epoch 139/500\n",
      "43089/43089 [==============================] - 0s - loss: 6.2473 - acc: 0.2128 - mean_absolute_error: 1.7919 - mean_squared_error: 6.2473 - val_loss: 6.4210 - val_acc: 0.2047 - val_mean_absolute_error: 1.9046 - val_mean_squared_error: 6.4210\n",
      "Epoch 140/500\n",
      "43089/43089 [==============================] - 0s - loss: 6.2874 - acc: 0.2105 - mean_absolute_error: 1.8004 - mean_squared_error: 6.2874 - val_loss: 6.3425 - val_acc: 0.2226 - val_mean_absolute_error: 1.8586 - val_mean_squared_error: 6.3425\n",
      "Epoch 141/500\n",
      "43089/43089 [==============================] - 0s - loss: 6.2749 - acc: 0.2122 - mean_absolute_error: 1.7944 - mean_squared_error: 6.2749 - val_loss: 6.3378 - val_acc: 0.2174 - val_mean_absolute_error: 1.8736 - val_mean_squared_error: 6.3378\n",
      "Epoch 142/500\n",
      "43089/43089 [==============================] - 0s - loss: 6.2486 - acc: 0.2161 - mean_absolute_error: 1.7891 - mean_squared_error: 6.2486 - val_loss: 6.4424 - val_acc: 0.1978 - val_mean_absolute_error: 1.8997 - val_mean_squared_error: 6.4424\n",
      "Epoch 143/500\n",
      "43089/43089 [==============================] - 0s - loss: 6.2756 - acc: 0.2112 - mean_absolute_error: 1.7996 - mean_squared_error: 6.2756 - val_loss: 6.3514 - val_acc: 0.2229 - val_mean_absolute_error: 1.8612 - val_mean_squared_error: 6.3514\n",
      "Epoch 144/500\n",
      "43089/43089 [==============================] - 0s - loss: 6.2324 - acc: 0.2130 - mean_absolute_error: 1.7932 - mean_squared_error: 6.2324 - val_loss: 6.3592 - val_acc: 0.2262 - val_mean_absolute_error: 1.8617 - val_mean_squared_error: 6.3592\n",
      "Epoch 145/500\n",
      "43089/43089 [==============================] - 0s - loss: 6.2253 - acc: 0.2090 - mean_absolute_error: 1.7962 - mean_squared_error: 6.2253 - val_loss: 6.4496 - val_acc: 0.2263 - val_mean_absolute_error: 1.8756 - val_mean_squared_error: 6.4496\n",
      "Epoch 146/500\n",
      "43089/43089 [==============================] - 0s - loss: 6.2262 - acc: 0.2137 - mean_absolute_error: 1.7889 - mean_squared_error: 6.2262 - val_loss: 6.3612 - val_acc: 0.1829 - val_mean_absolute_error: 1.9124 - val_mean_squared_error: 6.3612\n",
      "Epoch 147/500\n",
      "43089/43089 [==============================] - 0s - loss: 6.2274 - acc: 0.2122 - mean_absolute_error: 1.7877 - mean_squared_error: 6.2274 - val_loss: 6.3462 - val_acc: 0.2158 - val_mean_absolute_error: 1.8755 - val_mean_squared_error: 6.3462\n",
      "Epoch 148/500\n",
      "43089/43089 [==============================] - 0s - loss: 6.2088 - acc: 0.2124 - mean_absolute_error: 1.7901 - mean_squared_error: 6.2088 - val_loss: 6.3957 - val_acc: 0.2220 - val_mean_absolute_error: 1.8696 - val_mean_squared_error: 6.3957\n",
      "Epoch 149/500\n",
      "43089/43089 [==============================] - 0s - loss: 6.2136 - acc: 0.2103 - mean_absolute_error: 1.7933 - mean_squared_error: 6.2136 - val_loss: 6.4805 - val_acc: 0.2014 - val_mean_absolute_error: 1.9064 - val_mean_squared_error: 6.4805\n",
      "Epoch 150/500\n",
      "43089/43089 [==============================] - 0s - loss: 6.1800 - acc: 0.2120 - mean_absolute_error: 1.7860 - mean_squared_error: 6.1800 - val_loss: 6.4317 - val_acc: 0.1995 - val_mean_absolute_error: 1.9070 - val_mean_squared_error: 6.4317\n",
      "Epoch 151/500\n",
      "43089/43089 [==============================] - 0s - loss: 6.1830 - acc: 0.2139 - mean_absolute_error: 1.7827 - mean_squared_error: 6.1830 - val_loss: 6.4645 - val_acc: 0.2064 - val_mean_absolute_error: 1.8916 - val_mean_squared_error: 6.4645\n",
      "Epoch 152/500\n",
      "43089/43089 [==============================] - 0s - loss: 6.1959 - acc: 0.2140 - mean_absolute_error: 1.7873 - mean_squared_error: 6.1959 - val_loss: 6.4517 - val_acc: 0.2120 - val_mean_absolute_error: 1.8894 - val_mean_squared_error: 6.4517\n",
      "Epoch 153/500\n",
      "43089/43089 [==============================] - 0s - loss: 6.1888 - acc: 0.2153 - mean_absolute_error: 1.7854 - mean_squared_error: 6.1888 - val_loss: 6.4841 - val_acc: 0.2220 - val_mean_absolute_error: 1.8654 - val_mean_squared_error: 6.4841\n",
      "Epoch 154/500\n",
      "43089/43089 [==============================] - 0s - loss: 6.2166 - acc: 0.2109 - mean_absolute_error: 1.7898 - mean_squared_error: 6.2166 - val_loss: 6.4460 - val_acc: 0.2093 - val_mean_absolute_error: 1.8965 - val_mean_squared_error: 6.4460\n",
      "Epoch 155/500\n",
      "43089/43089 [==============================] - 0s - loss: 6.1508 - acc: 0.2133 - mean_absolute_error: 1.7807 - mean_squared_error: 6.1508 - val_loss: 6.4495 - val_acc: 0.2141 - val_mean_absolute_error: 1.8911 - val_mean_squared_error: 6.4495\n",
      "Epoch 156/500\n",
      "43089/43089 [==============================] - 0s - loss: 6.1606 - acc: 0.2160 - mean_absolute_error: 1.7799 - mean_squared_error: 6.1606 - val_loss: 6.4242 - val_acc: 0.2116 - val_mean_absolute_error: 1.8882 - val_mean_squared_error: 6.4242\n",
      "Epoch 157/500\n",
      "43089/43089 [==============================] - 0s - loss: 6.1505 - acc: 0.2142 - mean_absolute_error: 1.7815 - mean_squared_error: 6.1505 - val_loss: 6.3638 - val_acc: 0.2093 - val_mean_absolute_error: 1.8922 - val_mean_squared_error: 6.3638\n",
      "Epoch 158/500\n",
      "43089/43089 [==============================] - ETA: 0s - loss: 6.1017 - acc: 0.2152 - mean_absolute_error: 1.7758 - mean_squared_error: 6.10 - 0s - loss: 6.0733 - acc: 0.2158 - mean_absolute_error: 1.7721 - mean_squared_error: 6.0733 - val_loss: 6.3591 - val_acc: 0.2246 - val_mean_absolute_error: 1.8594 - val_mean_squared_error: 6.3591\n",
      "Epoch 159/500\n"
     ]
    },
    {
     "name": "stdout",
     "output_type": "stream",
     "text": [
      "43089/43089 [==============================] - 0s - loss: 6.1211 - acc: 0.2142 - mean_absolute_error: 1.7786 - mean_squared_error: 6.1211 - val_loss: 6.4626 - val_acc: 0.2151 - val_mean_absolute_error: 1.8855 - val_mean_squared_error: 6.4626\n",
      "Epoch 160/500\n",
      "43089/43089 [==============================] - 0s - loss: 6.1478 - acc: 0.2160 - mean_absolute_error: 1.7826 - mean_squared_error: 6.1478 - val_loss: 6.4699 - val_acc: 0.1988 - val_mean_absolute_error: 1.9049 - val_mean_squared_error: 6.4699\n",
      "Epoch 161/500\n",
      "43089/43089 [==============================] - 0s - loss: 6.1464 - acc: 0.2095 - mean_absolute_error: 1.7857 - mean_squared_error: 6.1464 - val_loss: 6.4463 - val_acc: 0.2159 - val_mean_absolute_error: 1.8820 - val_mean_squared_error: 6.4463\n",
      "Epoch 162/500\n",
      "43089/43089 [==============================] - 0s - loss: 6.0869 - acc: 0.2155 - mean_absolute_error: 1.7739 - mean_squared_error: 6.0869 - val_loss: 6.4201 - val_acc: 0.2167 - val_mean_absolute_error: 1.8841 - val_mean_squared_error: 6.4201\n",
      "Epoch 163/500\n",
      "43089/43089 [==============================] - 0s - loss: 6.1216 - acc: 0.2108 - mean_absolute_error: 1.7816 - mean_squared_error: 6.1216 - val_loss: 6.4045 - val_acc: 0.2168 - val_mean_absolute_error: 1.8777 - val_mean_squared_error: 6.4045\n",
      "Epoch 164/500\n",
      "43089/43089 [==============================] - 0s - loss: 6.1489 - acc: 0.2122 - mean_absolute_error: 1.7853 - mean_squared_error: 6.1489 - val_loss: 6.4526 - val_acc: 0.2129 - val_mean_absolute_error: 1.8839 - val_mean_squared_error: 6.4526\n",
      "Epoch 165/500\n",
      "43089/43089 [==============================] - 0s - loss: 6.0888 - acc: 0.2120 - mean_absolute_error: 1.7748 - mean_squared_error: 6.0888 - val_loss: 6.4300 - val_acc: 0.2202 - val_mean_absolute_error: 1.8753 - val_mean_squared_error: 6.4300\n",
      "Epoch 166/500\n",
      "43089/43089 [==============================] - 0s - loss: 6.1267 - acc: 0.2128 - mean_absolute_error: 1.7797 - mean_squared_error: 6.1267 - val_loss: 6.4351 - val_acc: 0.2028 - val_mean_absolute_error: 1.9096 - val_mean_squared_error: 6.4351\n",
      "Epoch 167/500\n",
      "43089/43089 [==============================] - 0s - loss: 6.0943 - acc: 0.2137 - mean_absolute_error: 1.7748 - mean_squared_error: 6.0943 - val_loss: 6.4604 - val_acc: 0.2155 - val_mean_absolute_error: 1.8872 - val_mean_squared_error: 6.4604\n",
      "Epoch 168/500\n",
      "43089/43089 [==============================] - 0s - loss: 6.0969 - acc: 0.2144 - mean_absolute_error: 1.7750 - mean_squared_error: 6.0969 - val_loss: 6.5675 - val_acc: 0.1696 - val_mean_absolute_error: 1.9660 - val_mean_squared_error: 6.5675\n",
      "Epoch 169/500\n",
      "43089/43089 [==============================] - 0s - loss: 6.0428 - acc: 0.2116 - mean_absolute_error: 1.7727 - mean_squared_error: 6.0428 - val_loss: 6.4523 - val_acc: 0.2122 - val_mean_absolute_error: 1.8877 - val_mean_squared_error: 6.4523\n",
      "Epoch 170/500\n",
      "43089/43089 [==============================] - 0s - loss: 6.0661 - acc: 0.2143 - mean_absolute_error: 1.7729 - mean_squared_error: 6.0661 - val_loss: 6.4787 - val_acc: 0.1988 - val_mean_absolute_error: 1.9110 - val_mean_squared_error: 6.4787\n",
      "Epoch 171/500\n",
      "43089/43089 [==============================] - 0s - loss: 6.0695 - acc: 0.2137 - mean_absolute_error: 1.7745 - mean_squared_error: 6.0695 - val_loss: 6.5951 - val_acc: 0.1897 - val_mean_absolute_error: 1.9489 - val_mean_squared_error: 6.5951\n",
      "Epoch 172/500\n",
      "43089/43089 [==============================] - 0s - loss: 6.0474 - acc: 0.2131 - mean_absolute_error: 1.7685 - mean_squared_error: 6.0474 - val_loss: 6.3522 - val_acc: 0.2093 - val_mean_absolute_error: 1.8900 - val_mean_squared_error: 6.3522\n",
      "Epoch 173/500\n",
      "43089/43089 [==============================] - 0s - loss: 6.0354 - acc: 0.2190 - mean_absolute_error: 1.7633 - mean_squared_error: 6.0354 - val_loss: 6.5668 - val_acc: 0.1817 - val_mean_absolute_error: 1.9392 - val_mean_squared_error: 6.5668\n",
      "Epoch 174/500\n",
      "43089/43089 [==============================] - 0s - loss: 6.0433 - acc: 0.2123 - mean_absolute_error: 1.7721 - mean_squared_error: 6.0433 - val_loss: 6.5460 - val_acc: 0.2141 - val_mean_absolute_error: 1.8922 - val_mean_squared_error: 6.5460\n",
      "Epoch 175/500\n",
      "43089/43089 [==============================] - 0s - loss: 6.0564 - acc: 0.2122 - mean_absolute_error: 1.7725 - mean_squared_error: 6.0564 - val_loss: 6.5894 - val_acc: 0.2080 - val_mean_absolute_error: 1.9164 - val_mean_squared_error: 6.5894\n",
      "Epoch 176/500\n",
      "43089/43089 [==============================] - 0s - loss: 6.0093 - acc: 0.2175 - mean_absolute_error: 1.7619 - mean_squared_error: 6.0093 - val_loss: 6.5367 - val_acc: 0.2045 - val_mean_absolute_error: 1.9018 - val_mean_squared_error: 6.5367\n",
      "Epoch 177/500\n",
      "43089/43089 [==============================] - 0s - loss: 6.0023 - acc: 0.2133 - mean_absolute_error: 1.7638 - mean_squared_error: 6.0023 - val_loss: 6.5711 - val_acc: 0.1904 - val_mean_absolute_error: 1.9406 - val_mean_squared_error: 6.5711\n",
      "Epoch 178/500\n",
      "43089/43089 [==============================] - 0s - loss: 5.9960 - acc: 0.2134 - mean_absolute_error: 1.7649 - mean_squared_error: 5.9960 - val_loss: 6.4971 - val_acc: 0.2124 - val_mean_absolute_error: 1.9047 - val_mean_squared_error: 6.4971\n",
      "Epoch 179/500\n",
      "43089/43089 [==============================] - ETA: 0s - loss: 6.0313 - acc: 0.2115 - mean_absolute_error: 1.7693 - mean_squared_error: 6.03 - 0s - loss: 6.0127 - acc: 0.2116 - mean_absolute_error: 1.7678 - mean_squared_error: 6.0127 - val_loss: 6.5136 - val_acc: 0.2178 - val_mean_absolute_error: 1.8877 - val_mean_squared_error: 6.5136\n",
      "Epoch 180/500\n",
      "43089/43089 [==============================] - 0s - loss: 6.0135 - acc: 0.2117 - mean_absolute_error: 1.7667 - mean_squared_error: 6.0135 - val_loss: 6.6714 - val_acc: 0.2103 - val_mean_absolute_error: 1.9140 - val_mean_squared_error: 6.6714\n",
      "Epoch 181/500\n",
      "43089/43089 [==============================] - 0s - loss: 6.0014 - acc: 0.2150 - mean_absolute_error: 1.7637 - mean_squared_error: 6.0014 - val_loss: 6.6523 - val_acc: 0.1920 - val_mean_absolute_error: 1.9505 - val_mean_squared_error: 6.6523\n",
      "Epoch 182/500\n",
      "43089/43089 [==============================] - 0s - loss: 5.9940 - acc: 0.2140 - mean_absolute_error: 1.7633 - mean_squared_error: 5.9940 - val_loss: 6.4947 - val_acc: 0.2025 - val_mean_absolute_error: 1.9101 - val_mean_squared_error: 6.4947\n",
      "Epoch 183/500\n",
      "43089/43089 [==============================] - 0s - loss: 5.9687 - acc: 0.2155 - mean_absolute_error: 1.7606 - mean_squared_error: 5.9687 - val_loss: 6.4339 - val_acc: 0.2089 - val_mean_absolute_error: 1.8870 - val_mean_squared_error: 6.4339\n",
      "Epoch 184/500\n",
      "43089/43089 [==============================] - 0s - loss: 5.9554 - acc: 0.2162 - mean_absolute_error: 1.7579 - mean_squared_error: 5.9554 - val_loss: 6.6696 - val_acc: 0.1824 - val_mean_absolute_error: 1.9559 - val_mean_squared_error: 6.6696\n",
      "Epoch 185/500\n",
      "43089/43089 [==============================] - 0s - loss: 5.9701 - acc: 0.2129 - mean_absolute_error: 1.7643 - mean_squared_error: 5.9701 - val_loss: 6.7858 - val_acc: 0.2032 - val_mean_absolute_error: 1.9395 - val_mean_squared_error: 6.7858\n",
      "Epoch 186/500\n",
      "43089/43089 [==============================] - 0s - loss: 5.9683 - acc: 0.2166 - mean_absolute_error: 1.7588 - mean_squared_error: 5.9683 - val_loss: 6.4892 - val_acc: 0.2164 - val_mean_absolute_error: 1.8789 - val_mean_squared_error: 6.4892\n",
      "Epoch 187/500\n",
      "43089/43089 [==============================] - 0s - loss: 5.9285 - acc: 0.2156 - mean_absolute_error: 1.7537 - mean_squared_error: 5.9285 - val_loss: 6.5892 - val_acc: 0.2084 - val_mean_absolute_error: 1.9049 - val_mean_squared_error: 6.5892\n",
      "Epoch 188/500\n",
      "43089/43089 [==============================] - 0s - loss: 5.9448 - acc: 0.2194 - mean_absolute_error: 1.7547 - mean_squared_error: 5.9448 - val_loss: 6.6136 - val_acc: 0.2014 - val_mean_absolute_error: 1.9221 - val_mean_squared_error: 6.6136\n",
      "Epoch 189/500\n",
      "43089/43089 [==============================] - 0s - loss: 5.9167 - acc: 0.2126 - mean_absolute_error: 1.7573 - mean_squared_error: 5.9167 - val_loss: 6.6346 - val_acc: 0.2099 - val_mean_absolute_error: 1.9143 - val_mean_squared_error: 6.6346\n",
      "Epoch 190/500\n"
     ]
    },
    {
     "name": "stdout",
     "output_type": "stream",
     "text": [
      "43089/43089 [==============================] - 0s - loss: 5.9247 - acc: 0.2192 - mean_absolute_error: 1.7507 - mean_squared_error: 5.9247 - val_loss: 6.4798 - val_acc: 0.2162 - val_mean_absolute_error: 1.8951 - val_mean_squared_error: 6.4798\n",
      "Epoch 191/500\n",
      "43089/43089 [==============================] - 0s - loss: 5.9138 - acc: 0.2156 - mean_absolute_error: 1.7531 - mean_squared_error: 5.9138 - val_loss: 6.6403 - val_acc: 0.2070 - val_mean_absolute_error: 1.9166 - val_mean_squared_error: 6.6403\n",
      "Epoch 192/500\n",
      "43089/43089 [==============================] - 0s - loss: 5.9144 - acc: 0.2161 - mean_absolute_error: 1.7532 - mean_squared_error: 5.9144 - val_loss: 6.5246 - val_acc: 0.1987 - val_mean_absolute_error: 1.9174 - val_mean_squared_error: 6.5246\n",
      "Epoch 193/500\n",
      "43089/43089 [==============================] - 0s - loss: 5.8760 - acc: 0.2142 - mean_absolute_error: 1.7512 - mean_squared_error: 5.8760 - val_loss: 6.5505 - val_acc: 0.2072 - val_mean_absolute_error: 1.9031 - val_mean_squared_error: 6.5505\n",
      "Epoch 194/500\n",
      "43089/43089 [==============================] - 0s - loss: 5.8558 - acc: 0.2179 - mean_absolute_error: 1.7448 - mean_squared_error: 5.8558 - val_loss: 6.6290 - val_acc: 0.1917 - val_mean_absolute_error: 1.9475 - val_mean_squared_error: 6.6290\n",
      "Epoch 195/500\n",
      "43089/43089 [==============================] - 0s - loss: 5.9023 - acc: 0.2144 - mean_absolute_error: 1.7544 - mean_squared_error: 5.9023 - val_loss: 6.6810 - val_acc: 0.2070 - val_mean_absolute_error: 1.9067 - val_mean_squared_error: 6.6810\n",
      "Epoch 196/500\n",
      "43089/43089 [==============================] - 0s - loss: 5.8553 - acc: 0.2153 - mean_absolute_error: 1.7436 - mean_squared_error: 5.8553 - val_loss: 6.6290 - val_acc: 0.2008 - val_mean_absolute_error: 1.9023 - val_mean_squared_error: 6.6290\n",
      "Epoch 197/500\n",
      "43089/43089 [==============================] - 0s - loss: 5.9518 - acc: 0.2151 - mean_absolute_error: 1.7611 - mean_squared_error: 5.9518 - val_loss: 6.6018 - val_acc: 0.1903 - val_mean_absolute_error: 1.9305 - val_mean_squared_error: 6.6018\n",
      "Epoch 198/500\n",
      "43089/43089 [==============================] - 0s - loss: 5.8647 - acc: 0.2143 - mean_absolute_error: 1.7496 - mean_squared_error: 5.8647 - val_loss: 6.6328 - val_acc: 0.2096 - val_mean_absolute_error: 1.9077 - val_mean_squared_error: 6.6328\n",
      "Epoch 199/500\n",
      "43089/43089 [==============================] - 0s - loss: 5.8420 - acc: 0.2173 - mean_absolute_error: 1.7447 - mean_squared_error: 5.8420 - val_loss: 6.6680 - val_acc: 0.2038 - val_mean_absolute_error: 1.9173 - val_mean_squared_error: 6.6680\n",
      "Epoch 200/500\n",
      "43089/43089 [==============================] - 0s - loss: 5.8733 - acc: 0.2191 - mean_absolute_error: 1.7474 - mean_squared_error: 5.8733 - val_loss: 6.6836 - val_acc: 0.1983 - val_mean_absolute_error: 1.9302 - val_mean_squared_error: 6.6836\n",
      "Epoch 201/500\n",
      "43089/43089 [==============================] - 0s - loss: 5.8218 - acc: 0.2163 - mean_absolute_error: 1.7420 - mean_squared_error: 5.8218 - val_loss: 6.6371 - val_acc: 0.2100 - val_mean_absolute_error: 1.9035 - val_mean_squared_error: 6.6371\n",
      "Epoch 202/500\n",
      "43089/43089 [==============================] - 0s - loss: 5.8575 - acc: 0.2166 - mean_absolute_error: 1.7456 - mean_squared_error: 5.8575 - val_loss: 6.7456 - val_acc: 0.2108 - val_mean_absolute_error: 1.9254 - val_mean_squared_error: 6.7456\n",
      "Epoch 203/500\n",
      "43089/43089 [==============================] - 0s - loss: 5.8035 - acc: 0.2157 - mean_absolute_error: 1.7412 - mean_squared_error: 5.8035 - val_loss: 6.5082 - val_acc: 0.2082 - val_mean_absolute_error: 1.8961 - val_mean_squared_error: 6.5082\n",
      "Epoch 204/500\n",
      "43089/43089 [==============================] - 0s - loss: 5.8322 - acc: 0.2155 - mean_absolute_error: 1.7437 - mean_squared_error: 5.8322 - val_loss: 6.6066 - val_acc: 0.2076 - val_mean_absolute_error: 1.9170 - val_mean_squared_error: 6.6066\n",
      "Epoch 205/500\n",
      "43089/43089 [==============================] - 0s - loss: 5.8133 - acc: 0.2152 - mean_absolute_error: 1.7440 - mean_squared_error: 5.8133 - val_loss: 6.7218 - val_acc: 0.1983 - val_mean_absolute_error: 1.9258 - val_mean_squared_error: 6.7218\n",
      "Epoch 206/500\n",
      "43089/43089 [==============================] - 0s - loss: 5.8136 - acc: 0.2180 - mean_absolute_error: 1.7411 - mean_squared_error: 5.8136 - val_loss: 6.5821 - val_acc: 0.2051 - val_mean_absolute_error: 1.9081 - val_mean_squared_error: 6.5821\n",
      "Epoch 207/500\n",
      "43089/43089 [==============================] - 0s - loss: 5.8106 - acc: 0.2181 - mean_absolute_error: 1.7392 - mean_squared_error: 5.8106 - val_loss: 6.6495 - val_acc: 0.1934 - val_mean_absolute_error: 1.9263 - val_mean_squared_error: 6.6495\n",
      "Epoch 208/500\n",
      "43089/43089 [==============================] - 0s - loss: 5.7802 - acc: 0.2200 - mean_absolute_error: 1.7350 - mean_squared_error: 5.7802 - val_loss: 6.7649 - val_acc: 0.1825 - val_mean_absolute_error: 1.9602 - val_mean_squared_error: 6.7649\n",
      "Epoch 209/500\n",
      "43089/43089 [==============================] - 0s - loss: 5.7805 - acc: 0.2153 - mean_absolute_error: 1.7390 - mean_squared_error: 5.7805 - val_loss: 6.8195 - val_acc: 0.1875 - val_mean_absolute_error: 1.9672 - val_mean_squared_error: 6.8195\n",
      "Epoch 210/500\n",
      "43089/43089 [==============================] - 0s - loss: 5.7834 - acc: 0.2179 - mean_absolute_error: 1.7364 - mean_squared_error: 5.7834 - val_loss: 6.6999 - val_acc: 0.1930 - val_mean_absolute_error: 1.9407 - val_mean_squared_error: 6.6999\n",
      "Epoch 211/500\n",
      "43089/43089 [==============================] - 0s - loss: 5.7901 - acc: 0.2165 - mean_absolute_error: 1.7412 - mean_squared_error: 5.7901 - val_loss: 6.6197 - val_acc: 0.1986 - val_mean_absolute_error: 1.9136 - val_mean_squared_error: 6.6197\n",
      "Epoch 212/500\n",
      "43089/43089 [==============================] - 0s - loss: 5.7738 - acc: 0.2129 - mean_absolute_error: 1.7417 - mean_squared_error: 5.7738 - val_loss: 6.8979 - val_acc: 0.1666 - val_mean_absolute_error: 2.0007 - val_mean_squared_error: 6.8979\n",
      "Epoch 213/500\n",
      "43089/43089 [==============================] - 0s - loss: 5.7293 - acc: 0.2182 - mean_absolute_error: 1.7283 - mean_squared_error: 5.7293 - val_loss: 6.6693 - val_acc: 0.2024 - val_mean_absolute_error: 1.9263 - val_mean_squared_error: 6.6693\n",
      "Epoch 214/500\n",
      "43089/43089 [==============================] - 0s - loss: 5.7592 - acc: 0.2189 - mean_absolute_error: 1.7342 - mean_squared_error: 5.7592 - val_loss: 6.6840 - val_acc: 0.1872 - val_mean_absolute_error: 1.9602 - val_mean_squared_error: 6.6840\n",
      "Epoch 215/500\n",
      "43089/43089 [==============================] - 0s - loss: 5.7527 - acc: 0.2140 - mean_absolute_error: 1.7402 - mean_squared_error: 5.7527 - val_loss: 6.7008 - val_acc: 0.1989 - val_mean_absolute_error: 1.9339 - val_mean_squared_error: 6.7008\n",
      "Epoch 216/500\n",
      "43089/43089 [==============================] - 0s - loss: 5.7077 - acc: 0.2175 - mean_absolute_error: 1.7269 - mean_squared_error: 5.7077 - val_loss: 6.7455 - val_acc: 0.1964 - val_mean_absolute_error: 1.9488 - val_mean_squared_error: 6.7455\n",
      "Epoch 217/500\n",
      "43089/43089 [==============================] - 0s - loss: 5.7129 - acc: 0.2163 - mean_absolute_error: 1.7309 - mean_squared_error: 5.7129 - val_loss: 6.6430 - val_acc: 0.2042 - val_mean_absolute_error: 1.9150 - val_mean_squared_error: 6.6430\n",
      "Epoch 218/500\n",
      "43089/43089 [==============================] - 0s - loss: 5.6777 - acc: 0.2172 - mean_absolute_error: 1.7243 - mean_squared_error: 5.6777 - val_loss: 6.8055 - val_acc: 0.1945 - val_mean_absolute_error: 1.9665 - val_mean_squared_error: 6.8055\n",
      "Epoch 219/500\n",
      "43089/43089 [==============================] - 0s - loss: 5.7471 - acc: 0.2087 - mean_absolute_error: 1.7465 - mean_squared_error: 5.7471 - val_loss: 6.7733 - val_acc: 0.1982 - val_mean_absolute_error: 1.9334 - val_mean_squared_error: 6.7733\n",
      "Epoch 220/500\n",
      "43089/43089 [==============================] - 0s - loss: 5.7055 - acc: 0.2181 - mean_absolute_error: 1.7299 - mean_squared_error: 5.7055 - val_loss: 6.8142 - val_acc: 0.1915 - val_mean_absolute_error: 1.9524 - val_mean_squared_error: 6.8142\n",
      "Epoch 221/500\n",
      "43089/43089 [==============================] - 0s - loss: 5.6983 - acc: 0.2157 - mean_absolute_error: 1.7274 - mean_squared_error: 5.6983 - val_loss: 6.7135 - val_acc: 0.2017 - val_mean_absolute_error: 1.9361 - val_mean_squared_error: 6.7135\n",
      "Epoch 222/500\n"
     ]
    },
    {
     "name": "stdout",
     "output_type": "stream",
     "text": [
      "43089/43089 [==============================] - 0s - loss: 5.6883 - acc: 0.2170 - mean_absolute_error: 1.7266 - mean_squared_error: 5.6883 - val_loss: 6.7509 - val_acc: 0.2003 - val_mean_absolute_error: 1.9336 - val_mean_squared_error: 6.7509\n",
      "Epoch 223/500\n",
      "43089/43089 [==============================] - 0s - loss: 5.7338 - acc: 0.2122 - mean_absolute_error: 1.7382 - mean_squared_error: 5.7338 - val_loss: 6.8191 - val_acc: 0.1937 - val_mean_absolute_error: 1.9595 - val_mean_squared_error: 6.8191\n",
      "Epoch 224/500\n",
      "43089/43089 [==============================] - 0s - loss: 5.6731 - acc: 0.2162 - mean_absolute_error: 1.7273 - mean_squared_error: 5.6731 - val_loss: 6.8397 - val_acc: 0.1945 - val_mean_absolute_error: 1.9554 - val_mean_squared_error: 6.8397\n",
      "Epoch 225/500\n",
      "43089/43089 [==============================] - 0s - loss: 5.6925 - acc: 0.2130 - mean_absolute_error: 1.7304 - mean_squared_error: 5.6925 - val_loss: 6.9332 - val_acc: 0.2049 - val_mean_absolute_error: 1.9362 - val_mean_squared_error: 6.9332\n",
      "Epoch 226/500\n",
      "43089/43089 [==============================] - 0s - loss: 5.7106 - acc: 0.2150 - mean_absolute_error: 1.7332 - mean_squared_error: 5.7106 - val_loss: 6.8583 - val_acc: 0.2045 - val_mean_absolute_error: 1.9408 - val_mean_squared_error: 6.8583\n",
      "Epoch 227/500\n",
      "43089/43089 [==============================] - 0s - loss: 5.6822 - acc: 0.2155 - mean_absolute_error: 1.7283 - mean_squared_error: 5.6822 - val_loss: 6.7786 - val_acc: 0.2034 - val_mean_absolute_error: 1.9328 - val_mean_squared_error: 6.7786\n",
      "Epoch 228/500\n",
      "43089/43089 [==============================] - 0s - loss: 5.6621 - acc: 0.2137 - mean_absolute_error: 1.7273 - mean_squared_error: 5.6621 - val_loss: 6.7911 - val_acc: 0.1984 - val_mean_absolute_error: 1.9435 - val_mean_squared_error: 6.7911\n",
      "Epoch 229/500\n",
      "43089/43089 [==============================] - 0s - loss: 5.6185 - acc: 0.2162 - mean_absolute_error: 1.7206 - mean_squared_error: 5.6185 - val_loss: 6.8669 - val_acc: 0.1890 - val_mean_absolute_error: 1.9607 - val_mean_squared_error: 6.8669\n",
      "Epoch 230/500\n",
      "43089/43089 [==============================] - 0s - loss: 5.6206 - acc: 0.2194 - mean_absolute_error: 1.7182 - mean_squared_error: 5.6206 - val_loss: 6.9135 - val_acc: 0.1912 - val_mean_absolute_error: 1.9593 - val_mean_squared_error: 6.9135\n",
      "Epoch 231/500\n",
      "43089/43089 [==============================] - 0s - loss: 5.6170 - acc: 0.2179 - mean_absolute_error: 1.7187 - mean_squared_error: 5.6170 - val_loss: 6.8581 - val_acc: 0.1897 - val_mean_absolute_error: 1.9576 - val_mean_squared_error: 6.8581\n",
      "Epoch 232/500\n",
      "43089/43089 [==============================] - 0s - loss: 5.6696 - acc: 0.2143 - mean_absolute_error: 1.7323 - mean_squared_error: 5.6696 - val_loss: 6.7975 - val_acc: 0.2055 - val_mean_absolute_error: 1.9375 - val_mean_squared_error: 6.7975\n",
      "Epoch 233/500\n",
      "43089/43089 [==============================] - 0s - loss: 5.6183 - acc: 0.2166 - mean_absolute_error: 1.7203 - mean_squared_error: 5.6183 - val_loss: 6.7635 - val_acc: 0.2046 - val_mean_absolute_error: 1.9295 - val_mean_squared_error: 6.7635\n",
      "Epoch 234/500\n",
      "43089/43089 [==============================] - 0s - loss: 5.6067 - acc: 0.2119 - mean_absolute_error: 1.7239 - mean_squared_error: 5.6067 - val_loss: 6.6926 - val_acc: 0.2050 - val_mean_absolute_error: 1.9242 - val_mean_squared_error: 6.6926\n",
      "Epoch 235/500\n",
      "43089/43089 [==============================] - 0s - loss: 5.5966 - acc: 0.2151 - mean_absolute_error: 1.7170 - mean_squared_error: 5.5966 - val_loss: 6.7421 - val_acc: 0.2017 - val_mean_absolute_error: 1.9339 - val_mean_squared_error: 6.7421\n",
      "Epoch 236/500\n",
      "43089/43089 [==============================] - 0s - loss: 5.6068 - acc: 0.2172 - mean_absolute_error: 1.7214 - mean_squared_error: 5.6068 - val_loss: 6.7550 - val_acc: 0.1993 - val_mean_absolute_error: 1.9182 - val_mean_squared_error: 6.7550\n",
      "Epoch 237/500\n",
      "43089/43089 [==============================] - 0s - loss: 5.6026 - acc: 0.2162 - mean_absolute_error: 1.7185 - mean_squared_error: 5.6026 - val_loss: 6.6863 - val_acc: 0.2034 - val_mean_absolute_error: 1.9151 - val_mean_squared_error: 6.6863\n",
      "Epoch 238/500\n",
      "43089/43089 [==============================] - 0s - loss: 5.6319 - acc: 0.2127 - mean_absolute_error: 1.7266 - mean_squared_error: 5.6319 - val_loss: 6.7928 - val_acc: 0.2000 - val_mean_absolute_error: 1.9263 - val_mean_squared_error: 6.7928\n",
      "Epoch 239/500\n",
      "43089/43089 [==============================] - 0s - loss: 5.6100 - acc: 0.2171 - mean_absolute_error: 1.7168 - mean_squared_error: 5.6100 - val_loss: 6.7799 - val_acc: 0.1828 - val_mean_absolute_error: 1.9701 - val_mean_squared_error: 6.7799\n",
      "Epoch 240/500\n",
      "43089/43089 [==============================] - 0s - loss: 5.6173 - acc: 0.2156 - mean_absolute_error: 1.7224 - mean_squared_error: 5.6173 - val_loss: 6.7484 - val_acc: 0.2034 - val_mean_absolute_error: 1.9280 - val_mean_squared_error: 6.7484\n",
      "Epoch 241/500\n",
      "43089/43089 [==============================] - 0s - loss: 5.5795 - acc: 0.2142 - mean_absolute_error: 1.7169 - mean_squared_error: 5.5795 - val_loss: 6.8808 - val_acc: 0.2012 - val_mean_absolute_error: 1.9387 - val_mean_squared_error: 6.8808\n",
      "Epoch 242/500\n",
      "43089/43089 [==============================] - 0s - loss: 5.5071 - acc: 0.2192 - mean_absolute_error: 1.7038 - mean_squared_error: 5.5071 - val_loss: 6.8289 - val_acc: 0.2042 - val_mean_absolute_error: 1.9388 - val_mean_squared_error: 6.8289\n",
      "Epoch 243/500\n",
      "43089/43089 [==============================] - 0s - loss: 5.5277 - acc: 0.2161 - mean_absolute_error: 1.7080 - mean_squared_error: 5.5277 - val_loss: 6.8751 - val_acc: 0.2103 - val_mean_absolute_error: 1.9302 - val_mean_squared_error: 6.8751\n",
      "Epoch 244/500\n",
      "43089/43089 [==============================] - 0s - loss: 5.5199 - acc: 0.2159 - mean_absolute_error: 1.7082 - mean_squared_error: 5.5199 - val_loss: 6.8988 - val_acc: 0.1968 - val_mean_absolute_error: 1.9586 - val_mean_squared_error: 6.8988\n",
      "Epoch 245/500\n",
      "43089/43089 [==============================] - 0s - loss: 5.5573 - acc: 0.2184 - mean_absolute_error: 1.7112 - mean_squared_error: 5.5573 - val_loss: 6.8273 - val_acc: 0.1995 - val_mean_absolute_error: 1.9323 - val_mean_squared_error: 6.8273\n",
      "Epoch 246/500\n",
      "43089/43089 [==============================] - 0s - loss: 5.5359 - acc: 0.2150 - mean_absolute_error: 1.7111 - mean_squared_error: 5.5359 - val_loss: 7.0527 - val_acc: 0.1982 - val_mean_absolute_error: 1.9644 - val_mean_squared_error: 7.0527\n",
      "Epoch 247/500\n",
      "43089/43089 [==============================] - 0s - loss: 5.4973 - acc: 0.2140 - mean_absolute_error: 1.7085 - mean_squared_error: 5.4973 - val_loss: 6.9462 - val_acc: 0.2001 - val_mean_absolute_error: 1.9529 - val_mean_squared_error: 6.9462\n",
      "Epoch 248/500\n",
      "43089/43089 [==============================] - 0s - loss: 5.5285 - acc: 0.2158 - mean_absolute_error: 1.7121 - mean_squared_error: 5.5285 - val_loss: 6.9556 - val_acc: 0.1986 - val_mean_absolute_error: 1.9473 - val_mean_squared_error: 6.9556\n",
      "Epoch 249/500\n",
      "43089/43089 [==============================] - 0s - loss: 5.4934 - acc: 0.2180 - mean_absolute_error: 1.7030 - mean_squared_error: 5.4934 - val_loss: 6.9628 - val_acc: 0.1901 - val_mean_absolute_error: 1.9603 - val_mean_squared_error: 6.9628\n",
      "Epoch 250/500\n",
      "43089/43089 [==============================] - 0s - loss: 5.5089 - acc: 0.2161 - mean_absolute_error: 1.7060 - mean_squared_error: 5.5089 - val_loss: 6.9413 - val_acc: 0.2020 - val_mean_absolute_error: 1.9485 - val_mean_squared_error: 6.9413\n",
      "Epoch 251/500\n",
      "43089/43089 [==============================] - 0s - loss: 5.5058 - acc: 0.2160 - mean_absolute_error: 1.7095 - mean_squared_error: 5.5058 - val_loss: 6.9641 - val_acc: 0.1854 - val_mean_absolute_error: 1.9721 - val_mean_squared_error: 6.9641\n",
      "Epoch 252/500\n",
      "43089/43089 [==============================] - 0s - loss: 5.4952 - acc: 0.2169 - mean_absolute_error: 1.7041 - mean_squared_error: 5.4952 - val_loss: 6.9974 - val_acc: 0.1834 - val_mean_absolute_error: 2.0040 - val_mean_squared_error: 6.9974\n",
      "Epoch 253/500\n",
      "43089/43089 [==============================] - 0s - loss: 5.4800 - acc: 0.2176 - mean_absolute_error: 1.7046 - mean_squared_error: 5.4800 - val_loss: 6.9258 - val_acc: 0.1988 - val_mean_absolute_error: 1.9511 - val_mean_squared_error: 6.9258\n",
      "Epoch 254/500\n"
     ]
    },
    {
     "name": "stdout",
     "output_type": "stream",
     "text": [
      "43089/43089 [==============================] - 0s - loss: 5.4741 - acc: 0.2146 - mean_absolute_error: 1.7058 - mean_squared_error: 5.4741 - val_loss: 6.9750 - val_acc: 0.1933 - val_mean_absolute_error: 1.9649 - val_mean_squared_error: 6.9750\n",
      "Epoch 255/500\n",
      "43089/43089 [==============================] - 0s - loss: 5.4428 - acc: 0.2168 - mean_absolute_error: 1.6999 - mean_squared_error: 5.4428 - val_loss: 7.0088 - val_acc: 0.1968 - val_mean_absolute_error: 1.9674 - val_mean_squared_error: 7.0088\n",
      "Epoch 256/500\n",
      "43089/43089 [==============================] - 0s - loss: 5.4944 - acc: 0.2174 - mean_absolute_error: 1.7064 - mean_squared_error: 5.4944 - val_loss: 7.0438 - val_acc: 0.1959 - val_mean_absolute_error: 1.9775 - val_mean_squared_error: 7.0438\n",
      "Epoch 257/500\n",
      "43089/43089 [==============================] - 0s - loss: 5.4688 - acc: 0.2174 - mean_absolute_error: 1.7026 - mean_squared_error: 5.4688 - val_loss: 6.9401 - val_acc: 0.2033 - val_mean_absolute_error: 1.9467 - val_mean_squared_error: 6.9401\n",
      "Epoch 258/500\n",
      "43089/43089 [==============================] - 0s - loss: 5.4400 - acc: 0.2156 - mean_absolute_error: 1.7017 - mean_squared_error: 5.4400 - val_loss: 6.9531 - val_acc: 0.2045 - val_mean_absolute_error: 1.9508 - val_mean_squared_error: 6.9531\n",
      "Epoch 259/500\n",
      "43089/43089 [==============================] - 0s - loss: 5.4375 - acc: 0.2177 - mean_absolute_error: 1.7003 - mean_squared_error: 5.4375 - val_loss: 6.9369 - val_acc: 0.2007 - val_mean_absolute_error: 1.9557 - val_mean_squared_error: 6.9369\n",
      "Epoch 260/500\n",
      "43089/43089 [==============================] - 0s - loss: 5.4636 - acc: 0.2144 - mean_absolute_error: 1.7046 - mean_squared_error: 5.4636 - val_loss: 6.8345 - val_acc: 0.1903 - val_mean_absolute_error: 1.9540 - val_mean_squared_error: 6.8345\n",
      "Epoch 261/500\n",
      "43089/43089 [==============================] - 0s - loss: 5.4173 - acc: 0.2194 - mean_absolute_error: 1.6913 - mean_squared_error: 5.4173 - val_loss: 6.9917 - val_acc: 0.2005 - val_mean_absolute_error: 1.9598 - val_mean_squared_error: 6.9917\n",
      "Epoch 262/500\n",
      "43089/43089 [==============================] - 0s - loss: 5.4866 - acc: 0.2142 - mean_absolute_error: 1.7099 - mean_squared_error: 5.4866 - val_loss: 7.1930 - val_acc: 0.1817 - val_mean_absolute_error: 2.0241 - val_mean_squared_error: 7.1930\n",
      "Epoch 263/500\n",
      "43089/43089 [==============================] - 0s - loss: 5.4628 - acc: 0.2177 - mean_absolute_error: 1.7055 - mean_squared_error: 5.4628 - val_loss: 6.9717 - val_acc: 0.2078 - val_mean_absolute_error: 1.9502 - val_mean_squared_error: 6.9717\n",
      "Epoch 264/500\n",
      "43089/43089 [==============================] - 0s - loss: 5.4699 - acc: 0.2168 - mean_absolute_error: 1.7022 - mean_squared_error: 5.4699 - val_loss: 6.8989 - val_acc: 0.2043 - val_mean_absolute_error: 1.9342 - val_mean_squared_error: 6.8989\n",
      "Epoch 265/500\n",
      "43089/43089 [==============================] - 0s - loss: 5.4403 - acc: 0.2143 - mean_absolute_error: 1.6993 - mean_squared_error: 5.4403 - val_loss: 7.2178 - val_acc: 0.1749 - val_mean_absolute_error: 2.0403 - val_mean_squared_error: 7.2178\n",
      "Epoch 266/500\n",
      "43089/43089 [==============================] - 0s - loss: 5.3925 - acc: 0.2163 - mean_absolute_error: 1.6946 - mean_squared_error: 5.3925 - val_loss: 6.9260 - val_acc: 0.2000 - val_mean_absolute_error: 1.9480 - val_mean_squared_error: 6.9260\n",
      "Epoch 267/500\n",
      "43089/43089 [==============================] - 0s - loss: 5.4159 - acc: 0.2169 - mean_absolute_error: 1.6981 - mean_squared_error: 5.4159 - val_loss: 6.9848 - val_acc: 0.1946 - val_mean_absolute_error: 1.9716 - val_mean_squared_error: 6.9848\n",
      "Epoch 268/500\n",
      "43089/43089 [==============================] - 0s - loss: 5.3910 - acc: 0.2183 - mean_absolute_error: 1.6914 - mean_squared_error: 5.3910 - val_loss: 6.9898 - val_acc: 0.1901 - val_mean_absolute_error: 1.9770 - val_mean_squared_error: 6.9898\n",
      "Epoch 269/500\n",
      "43089/43089 [==============================] - 0s - loss: 5.3684 - acc: 0.2169 - mean_absolute_error: 1.6917 - mean_squared_error: 5.3684 - val_loss: 7.0599 - val_acc: 0.1954 - val_mean_absolute_error: 1.9951 - val_mean_squared_error: 7.0599\n",
      "Epoch 270/500\n",
      "43089/43089 [==============================] - 0s - loss: 5.4169 - acc: 0.2137 - mean_absolute_error: 1.7012 - mean_squared_error: 5.4169 - val_loss: 7.1498 - val_acc: 0.1841 - val_mean_absolute_error: 2.0145 - val_mean_squared_error: 7.1498\n",
      "Epoch 271/500\n",
      "43089/43089 [==============================] - 0s - loss: 5.3876 - acc: 0.2188 - mean_absolute_error: 1.6939 - mean_squared_error: 5.3876 - val_loss: 7.0936 - val_acc: 0.1911 - val_mean_absolute_error: 1.9953 - val_mean_squared_error: 7.0936\n",
      "Epoch 272/500\n",
      "43089/43089 [==============================] - 0s - loss: 5.4499 - acc: 0.2142 - mean_absolute_error: 1.7057 - mean_squared_error: 5.4499 - val_loss: 6.9513 - val_acc: 0.1940 - val_mean_absolute_error: 1.9767 - val_mean_squared_error: 6.9513\n",
      "Epoch 273/500\n",
      "43089/43089 [==============================] - 0s - loss: 5.3501 - acc: 0.2150 - mean_absolute_error: 1.6902 - mean_squared_error: 5.3501 - val_loss: 7.0998 - val_acc: 0.1984 - val_mean_absolute_error: 1.9725 - val_mean_squared_error: 7.0998\n",
      "Epoch 274/500\n",
      "43089/43089 [==============================] - 0s - loss: 5.3542 - acc: 0.2188 - mean_absolute_error: 1.6893 - mean_squared_error: 5.3542 - val_loss: 6.8853 - val_acc: 0.1984 - val_mean_absolute_error: 1.9521 - val_mean_squared_error: 6.8853\n",
      "Epoch 275/500\n",
      "43089/43089 [==============================] - 0s - loss: 5.3605 - acc: 0.2157 - mean_absolute_error: 1.6939 - mean_squared_error: 5.3605 - val_loss: 6.9955 - val_acc: 0.1886 - val_mean_absolute_error: 1.9778 - val_mean_squared_error: 6.9955\n",
      "Epoch 276/500\n",
      "43089/43089 [==============================] - 0s - loss: 5.3558 - acc: 0.2153 - mean_absolute_error: 1.6923 - mean_squared_error: 5.3558 - val_loss: 7.1077 - val_acc: 0.1920 - val_mean_absolute_error: 1.9823 - val_mean_squared_error: 7.1077\n",
      "Epoch 277/500\n",
      "43089/43089 [==============================] - 0s - loss: 5.3743 - acc: 0.2160 - mean_absolute_error: 1.6941 - mean_squared_error: 5.3743 - val_loss: 6.9702 - val_acc: 0.2008 - val_mean_absolute_error: 1.9635 - val_mean_squared_error: 6.9702\n",
      "Epoch 278/500\n",
      "43089/43089 [==============================] - 0s - loss: 5.3246 - acc: 0.2174 - mean_absolute_error: 1.6868 - mean_squared_error: 5.3246 - val_loss: 6.9693 - val_acc: 0.2009 - val_mean_absolute_error: 1.9583 - val_mean_squared_error: 6.9693\n",
      "Epoch 279/500\n",
      "43089/43089 [==============================] - 0s - loss: 5.3974 - acc: 0.2156 - mean_absolute_error: 1.6958 - mean_squared_error: 5.3974 - val_loss: 7.0303 - val_acc: 0.2018 - val_mean_absolute_error: 1.9605 - val_mean_squared_error: 7.0303\n",
      "Epoch 280/500\n",
      "43089/43089 [==============================] - 0s - loss: 5.3377 - acc: 0.2184 - mean_absolute_error: 1.6853 - mean_squared_error: 5.3377 - val_loss: 7.1379 - val_acc: 0.2072 - val_mean_absolute_error: 1.9591 - val_mean_squared_error: 7.1379\n",
      "Epoch 281/500\n",
      "43089/43089 [==============================] - 0s - loss: 5.3423 - acc: 0.2169 - mean_absolute_error: 1.6918 - mean_squared_error: 5.3423 - val_loss: 7.1558 - val_acc: 0.1888 - val_mean_absolute_error: 1.9907 - val_mean_squared_error: 7.1558\n",
      "Epoch 282/500\n",
      "43089/43089 [==============================] - 0s - loss: 5.3101 - acc: 0.2172 - mean_absolute_error: 1.6846 - mean_squared_error: 5.3101 - val_loss: 7.1192 - val_acc: 0.1933 - val_mean_absolute_error: 1.9846 - val_mean_squared_error: 7.1192\n",
      "Epoch 283/500\n",
      "43089/43089 [==============================] - 0s - loss: 5.2891 - acc: 0.2178 - mean_absolute_error: 1.6805 - mean_squared_error: 5.2891 - val_loss: 7.1215 - val_acc: 0.1932 - val_mean_absolute_error: 1.9998 - val_mean_squared_error: 7.1215\n",
      "Epoch 284/500\n",
      "43089/43089 [==============================] - 0s - loss: 5.2660 - acc: 0.2155 - mean_absolute_error: 1.6804 - mean_squared_error: 5.2660 - val_loss: 7.0785 - val_acc: 0.1962 - val_mean_absolute_error: 1.9738 - val_mean_squared_error: 7.0785\n",
      "Epoch 285/500\n",
      "43089/43089 [==============================] - 0s - loss: 5.2968 - acc: 0.2168 - mean_absolute_error: 1.6819 - mean_squared_error: 5.2968 - val_loss: 7.1213 - val_acc: 0.1918 - val_mean_absolute_error: 1.9849 - val_mean_squared_error: 7.1213\n",
      "Epoch 286/500\n"
     ]
    },
    {
     "name": "stdout",
     "output_type": "stream",
     "text": [
      "43089/43089 [==============================] - 0s - loss: 5.2888 - acc: 0.2174 - mean_absolute_error: 1.6797 - mean_squared_error: 5.2888 - val_loss: 7.0293 - val_acc: 0.1974 - val_mean_absolute_error: 1.9885 - val_mean_squared_error: 7.0293\n",
      "Epoch 287/500\n",
      "43089/43089 [==============================] - 0s - loss: 5.2966 - acc: 0.2173 - mean_absolute_error: 1.6839 - mean_squared_error: 5.2966 - val_loss: 7.0196 - val_acc: 0.1938 - val_mean_absolute_error: 1.9742 - val_mean_squared_error: 7.0196\n",
      "Epoch 288/500\n",
      "43089/43089 [==============================] - 0s - loss: 5.2717 - acc: 0.2199 - mean_absolute_error: 1.6787 - mean_squared_error: 5.2717 - val_loss: 7.0824 - val_acc: 0.1934 - val_mean_absolute_error: 1.9936 - val_mean_squared_error: 7.0824\n",
      "Epoch 289/500\n",
      "43089/43089 [==============================] - 0s - loss: 5.2469 - acc: 0.2198 - mean_absolute_error: 1.6704 - mean_squared_error: 5.2469 - val_loss: 7.0704 - val_acc: 0.1975 - val_mean_absolute_error: 1.9697 - val_mean_squared_error: 7.0704\n",
      "Epoch 290/500\n",
      "43089/43089 [==============================] - 0s - loss: 5.2214 - acc: 0.2193 - mean_absolute_error: 1.6714 - mean_squared_error: 5.2214 - val_loss: 7.0327 - val_acc: 0.1883 - val_mean_absolute_error: 1.9894 - val_mean_squared_error: 7.0327\n",
      "Epoch 291/500\n",
      "43089/43089 [==============================] - 0s - loss: 5.2817 - acc: 0.2170 - mean_absolute_error: 1.6796 - mean_squared_error: 5.2817 - val_loss: 7.0296 - val_acc: 0.1853 - val_mean_absolute_error: 2.0044 - val_mean_squared_error: 7.0296\n",
      "Epoch 292/500\n",
      "43089/43089 [==============================] - 0s - loss: 5.2548 - acc: 0.2148 - mean_absolute_error: 1.6781 - mean_squared_error: 5.2548 - val_loss: 7.1798 - val_acc: 0.1986 - val_mean_absolute_error: 1.9840 - val_mean_squared_error: 7.1798\n",
      "Epoch 293/500\n",
      "43089/43089 [==============================] - 0s - loss: 5.2133 - acc: 0.2184 - mean_absolute_error: 1.6685 - mean_squared_error: 5.2133 - val_loss: 7.0533 - val_acc: 0.1876 - val_mean_absolute_error: 1.9918 - val_mean_squared_error: 7.0533\n",
      "Epoch 294/500\n",
      "43089/43089 [==============================] - 0s - loss: 5.2205 - acc: 0.2193 - mean_absolute_error: 1.6728 - mean_squared_error: 5.2205 - val_loss: 7.0800 - val_acc: 0.1926 - val_mean_absolute_error: 1.9834 - val_mean_squared_error: 7.0800\n",
      "Epoch 295/500\n",
      "43089/43089 [==============================] - 0s - loss: 5.2139 - acc: 0.2195 - mean_absolute_error: 1.6685 - mean_squared_error: 5.2139 - val_loss: 7.0914 - val_acc: 0.1803 - val_mean_absolute_error: 2.0059 - val_mean_squared_error: 7.0914\n",
      "Epoch 296/500\n",
      "43089/43089 [==============================] - 0s - loss: 5.2302 - acc: 0.2197 - mean_absolute_error: 1.6730 - mean_squared_error: 5.2302 - val_loss: 7.1989 - val_acc: 0.1945 - val_mean_absolute_error: 1.9904 - val_mean_squared_error: 7.1989\n",
      "Epoch 297/500\n",
      "43089/43089 [==============================] - 0s - loss: 5.2534 - acc: 0.2179 - mean_absolute_error: 1.6781 - mean_squared_error: 5.2534 - val_loss: 7.2895 - val_acc: 0.1905 - val_mean_absolute_error: 2.0123 - val_mean_squared_error: 7.2895\n",
      "Epoch 298/500\n",
      "43089/43089 [==============================] - 0s - loss: 5.2528 - acc: 0.2154 - mean_absolute_error: 1.6801 - mean_squared_error: 5.2528 - val_loss: 7.1124 - val_acc: 0.1984 - val_mean_absolute_error: 1.9759 - val_mean_squared_error: 7.1124\n",
      "Epoch 299/500\n",
      "43089/43089 [==============================] - 0s - loss: 5.1452 - acc: 0.2201 - mean_absolute_error: 1.6614 - mean_squared_error: 5.1452 - val_loss: 7.1358 - val_acc: 0.1942 - val_mean_absolute_error: 1.9809 - val_mean_squared_error: 7.1358\n",
      "Epoch 300/500\n",
      "43089/43089 [==============================] - 0s - loss: 5.2163 - acc: 0.2177 - mean_absolute_error: 1.6719 - mean_squared_error: 5.2163 - val_loss: 7.1693 - val_acc: 0.1918 - val_mean_absolute_error: 1.9962 - val_mean_squared_error: 7.1693\n",
      "Epoch 301/500\n",
      "43089/43089 [==============================] - 0s - loss: 5.1844 - acc: 0.2191 - mean_absolute_error: 1.6656 - mean_squared_error: 5.1844 - val_loss: 7.1981 - val_acc: 0.1874 - val_mean_absolute_error: 2.0058 - val_mean_squared_error: 7.1981\n",
      "Epoch 302/500\n",
      "43089/43089 [==============================] - 0s - loss: 5.1812 - acc: 0.2185 - mean_absolute_error: 1.6659 - mean_squared_error: 5.1812 - val_loss: 7.2305 - val_acc: 0.1921 - val_mean_absolute_error: 2.0061 - val_mean_squared_error: 7.2305\n",
      "Epoch 303/500\n",
      "43089/43089 [==============================] - 0s - loss: 5.1815 - acc: 0.2182 - mean_absolute_error: 1.6685 - mean_squared_error: 5.1815 - val_loss: 7.2954 - val_acc: 0.1846 - val_mean_absolute_error: 2.0291 - val_mean_squared_error: 7.2954\n",
      "Epoch 304/500\n",
      "43089/43089 [==============================] - 0s - loss: 5.1598 - acc: 0.2147 - mean_absolute_error: 1.6693 - mean_squared_error: 5.1598 - val_loss: 7.0865 - val_acc: 0.1884 - val_mean_absolute_error: 1.9805 - val_mean_squared_error: 7.0865\n",
      "Epoch 305/500\n",
      "43089/43089 [==============================] - 0s - loss: 5.1768 - acc: 0.2150 - mean_absolute_error: 1.6703 - mean_squared_error: 5.1768 - val_loss: 7.0838 - val_acc: 0.1920 - val_mean_absolute_error: 1.9738 - val_mean_squared_error: 7.0838\n",
      "Epoch 306/500\n",
      "43089/43089 [==============================] - 0s - loss: 5.1906 - acc: 0.2166 - mean_absolute_error: 1.6717 - mean_squared_error: 5.1906 - val_loss: 7.2012 - val_acc: 0.1792 - val_mean_absolute_error: 2.0136 - val_mean_squared_error: 7.2012\n",
      "Epoch 307/500\n",
      "43089/43089 [==============================] - 0s - loss: 5.1446 - acc: 0.2168 - mean_absolute_error: 1.6649 - mean_squared_error: 5.1446 - val_loss: 7.3802 - val_acc: 0.1918 - val_mean_absolute_error: 2.0056 - val_mean_squared_error: 7.3802\n",
      "Epoch 308/500\n",
      "43089/43089 [==============================] - 0s - loss: 5.1612 - acc: 0.2212 - mean_absolute_error: 1.6637 - mean_squared_error: 5.1612 - val_loss: 7.1608 - val_acc: 0.1871 - val_mean_absolute_error: 1.9994 - val_mean_squared_error: 7.1608\n",
      "Epoch 309/500\n",
      "43089/43089 [==============================] - 0s - loss: 5.1495 - acc: 0.2190 - mean_absolute_error: 1.6649 - mean_squared_error: 5.1495 - val_loss: 7.1804 - val_acc: 0.1937 - val_mean_absolute_error: 1.9865 - val_mean_squared_error: 7.1804\n",
      "Epoch 310/500\n",
      "43089/43089 [==============================] - 0s - loss: 5.1072 - acc: 0.2183 - mean_absolute_error: 1.6574 - mean_squared_error: 5.1072 - val_loss: 7.2674 - val_acc: 0.1846 - val_mean_absolute_error: 2.0087 - val_mean_squared_error: 7.2674\n",
      "Epoch 311/500\n",
      "43089/43089 [==============================] - 0s - loss: 5.1228 - acc: 0.2203 - mean_absolute_error: 1.6568 - mean_squared_error: 5.1228 - val_loss: 7.0692 - val_acc: 0.1918 - val_mean_absolute_error: 1.9850 - val_mean_squared_error: 7.0692\n",
      "Epoch 312/500\n",
      "43089/43089 [==============================] - 0s - loss: 5.1640 - acc: 0.2157 - mean_absolute_error: 1.6727 - mean_squared_error: 5.1640 - val_loss: 7.2150 - val_acc: 0.1922 - val_mean_absolute_error: 1.9850 - val_mean_squared_error: 7.2150\n",
      "Epoch 313/500\n",
      "43089/43089 [==============================] - 0s - loss: 5.1132 - acc: 0.2160 - mean_absolute_error: 1.6615 - mean_squared_error: 5.1132 - val_loss: 7.1377 - val_acc: 0.1880 - val_mean_absolute_error: 2.0043 - val_mean_squared_error: 7.1377\n",
      "Epoch 314/500\n",
      "43089/43089 [==============================] - 0s - loss: 5.0769 - acc: 0.2220 - mean_absolute_error: 1.6518 - mean_squared_error: 5.0769 - val_loss: 7.1478 - val_acc: 0.1961 - val_mean_absolute_error: 1.9908 - val_mean_squared_error: 7.1478\n",
      "Epoch 315/500\n",
      "43089/43089 [==============================] - 0s - loss: 5.1166 - acc: 0.2187 - mean_absolute_error: 1.6594 - mean_squared_error: 5.1166 - val_loss: 7.1812 - val_acc: 0.1865 - val_mean_absolute_error: 2.0001 - val_mean_squared_error: 7.1812\n",
      "Epoch 316/500\n",
      "43089/43089 [==============================] - 0s - loss: 5.0939 - acc: 0.2194 - mean_absolute_error: 1.6535 - mean_squared_error: 5.0939 - val_loss: 7.2195 - val_acc: 0.1890 - val_mean_absolute_error: 1.9928 - val_mean_squared_error: 7.2195\n",
      "Epoch 317/500\n",
      "43089/43089 [==============================] - 0s - loss: 5.0537 - acc: 0.2207 - mean_absolute_error: 1.6506 - mean_squared_error: 5.0537 - val_loss: 7.0542 - val_acc: 0.1979 - val_mean_absolute_error: 1.9751 - val_mean_squared_error: 7.0542\n",
      "Epoch 318/500\n"
     ]
    },
    {
     "name": "stdout",
     "output_type": "stream",
     "text": [
      "43089/43089 [==============================] - 0s - loss: 5.0804 - acc: 0.2192 - mean_absolute_error: 1.6544 - mean_squared_error: 5.0804 - val_loss: 7.2139 - val_acc: 0.1829 - val_mean_absolute_error: 2.0023 - val_mean_squared_error: 7.2139\n",
      "Epoch 319/500\n",
      "43089/43089 [==============================] - 0s - loss: 5.0793 - acc: 0.2188 - mean_absolute_error: 1.6560 - mean_squared_error: 5.0793 - val_loss: 7.1549 - val_acc: 0.1976 - val_mean_absolute_error: 1.9827 - val_mean_squared_error: 7.1549\n",
      "Epoch 320/500\n",
      "43089/43089 [==============================] - 0s - loss: 5.0616 - acc: 0.2218 - mean_absolute_error: 1.6479 - mean_squared_error: 5.0616 - val_loss: 7.1862 - val_acc: 0.1932 - val_mean_absolute_error: 1.9874 - val_mean_squared_error: 7.1862\n",
      "Epoch 321/500\n",
      "43089/43089 [==============================] - 0s - loss: 5.0530 - acc: 0.2201 - mean_absolute_error: 1.6484 - mean_squared_error: 5.0530 - val_loss: 7.3314 - val_acc: 0.1786 - val_mean_absolute_error: 2.0443 - val_mean_squared_error: 7.3314\n",
      "Epoch 322/500\n",
      "43089/43089 [==============================] - 0s - loss: 5.0914 - acc: 0.2192 - mean_absolute_error: 1.6576 - mean_squared_error: 5.0914 - val_loss: 7.3864 - val_acc: 0.1801 - val_mean_absolute_error: 2.0451 - val_mean_squared_error: 7.3864\n",
      "Epoch 323/500\n",
      "43089/43089 [==============================] - 0s - loss: 5.0619 - acc: 0.2199 - mean_absolute_error: 1.6526 - mean_squared_error: 5.0619 - val_loss: 7.0938 - val_acc: 0.1986 - val_mean_absolute_error: 1.9759 - val_mean_squared_error: 7.0938\n",
      "Epoch 324/500\n",
      "43089/43089 [==============================] - 0s - loss: 5.0892 - acc: 0.2175 - mean_absolute_error: 1.6584 - mean_squared_error: 5.0892 - val_loss: 7.1944 - val_acc: 0.1961 - val_mean_absolute_error: 1.9887 - val_mean_squared_error: 7.1944\n",
      "Epoch 325/500\n",
      "43089/43089 [==============================] - 0s - loss: 5.0600 - acc: 0.2203 - mean_absolute_error: 1.6545 - mean_squared_error: 5.0600 - val_loss: 7.1400 - val_acc: 0.1888 - val_mean_absolute_error: 1.9872 - val_mean_squared_error: 7.1400\n",
      "Epoch 326/500\n",
      "43089/43089 [==============================] - 0s - loss: 5.0418 - acc: 0.2189 - mean_absolute_error: 1.6501 - mean_squared_error: 5.0418 - val_loss: 7.2172 - val_acc: 0.1891 - val_mean_absolute_error: 2.0024 - val_mean_squared_error: 7.2172\n",
      "Epoch 327/500\n",
      "43089/43089 [==============================] - 0s - loss: 5.0086 - acc: 0.2204 - mean_absolute_error: 1.6473 - mean_squared_error: 5.0086 - val_loss: 7.2290 - val_acc: 0.1903 - val_mean_absolute_error: 1.9937 - val_mean_squared_error: 7.2290\n",
      "Epoch 328/500\n",
      "43089/43089 [==============================] - 0s - loss: 5.0387 - acc: 0.2215 - mean_absolute_error: 1.6461 - mean_squared_error: 5.0387 - val_loss: 7.4353 - val_acc: 0.1828 - val_mean_absolute_error: 2.0523 - val_mean_squared_error: 7.4353\n",
      "Epoch 329/500\n",
      "43089/43089 [==============================] - 0s - loss: 5.0191 - acc: 0.2179 - mean_absolute_error: 1.6479 - mean_squared_error: 5.0191 - val_loss: 7.2428 - val_acc: 0.1850 - val_mean_absolute_error: 2.0289 - val_mean_squared_error: 7.2428\n",
      "Epoch 330/500\n",
      "43089/43089 [==============================] - 0s - loss: 5.0194 - acc: 0.2164 - mean_absolute_error: 1.6495 - mean_squared_error: 5.0194 - val_loss: 7.4106 - val_acc: 0.1811 - val_mean_absolute_error: 2.0452 - val_mean_squared_error: 7.4106\n",
      "Epoch 331/500\n",
      "43089/43089 [==============================] - 0s - loss: 5.0031 - acc: 0.2179 - mean_absolute_error: 1.6505 - mean_squared_error: 5.0031 - val_loss: 7.1548 - val_acc: 0.1874 - val_mean_absolute_error: 1.9915 - val_mean_squared_error: 7.1548\n",
      "Epoch 332/500\n",
      "43089/43089 [==============================] - 0s - loss: 4.9705 - acc: 0.2183 - mean_absolute_error: 1.6405 - mean_squared_error: 4.9705 - val_loss: 7.2350 - val_acc: 0.1903 - val_mean_absolute_error: 2.0084 - val_mean_squared_error: 7.2350\n",
      "Epoch 333/500\n",
      "43089/43089 [==============================] - 0s - loss: 4.9778 - acc: 0.2177 - mean_absolute_error: 1.6420 - mean_squared_error: 4.9778 - val_loss: 7.3525 - val_acc: 0.1841 - val_mean_absolute_error: 2.0225 - val_mean_squared_error: 7.3525\n",
      "Epoch 334/500\n",
      "43089/43089 [==============================] - 0s - loss: 5.0104 - acc: 0.2188 - mean_absolute_error: 1.6469 - mean_squared_error: 5.0104 - val_loss: 7.1924 - val_acc: 0.1870 - val_mean_absolute_error: 2.0082 - val_mean_squared_error: 7.1924\n",
      "Epoch 335/500\n",
      "43089/43089 [==============================] - 0s - loss: 4.9975 - acc: 0.2220 - mean_absolute_error: 1.6422 - mean_squared_error: 4.9975 - val_loss: 7.3593 - val_acc: 0.1792 - val_mean_absolute_error: 2.0414 - val_mean_squared_error: 7.3593\n",
      "Epoch 336/500\n",
      "43089/43089 [==============================] - 0s - loss: 4.9566 - acc: 0.2222 - mean_absolute_error: 1.6383 - mean_squared_error: 4.9566 - val_loss: 7.2522 - val_acc: 0.1832 - val_mean_absolute_error: 2.0175 - val_mean_squared_error: 7.2522\n",
      "Epoch 337/500\n",
      "43089/43089 [==============================] - 0s - loss: 4.9890 - acc: 0.2177 - mean_absolute_error: 1.6481 - mean_squared_error: 4.9890 - val_loss: 7.3416 - val_acc: 0.1875 - val_mean_absolute_error: 2.0190 - val_mean_squared_error: 7.3416\n",
      "Epoch 338/500\n",
      "43089/43089 [==============================] - 0s - loss: 4.9765 - acc: 0.2202 - mean_absolute_error: 1.6406 - mean_squared_error: 4.9765 - val_loss: 7.2303 - val_acc: 0.1880 - val_mean_absolute_error: 1.9930 - val_mean_squared_error: 7.2303\n",
      "Epoch 339/500\n",
      "43089/43089 [==============================] - 0s - loss: 4.9893 - acc: 0.2171 - mean_absolute_error: 1.6464 - mean_squared_error: 4.9893 - val_loss: 7.4534 - val_acc: 0.1775 - val_mean_absolute_error: 2.0483 - val_mean_squared_error: 7.4534\n",
      "Epoch 340/500\n",
      "43089/43089 [==============================] - 0s - loss: 4.9415 - acc: 0.2193 - mean_absolute_error: 1.6334 - mean_squared_error: 4.9415 - val_loss: 7.2448 - val_acc: 0.1924 - val_mean_absolute_error: 2.0037 - val_mean_squared_error: 7.2448\n",
      "Epoch 341/500\n",
      "43089/43089 [==============================] - 0s - loss: 4.9964 - acc: 0.2197 - mean_absolute_error: 1.6454 - mean_squared_error: 4.9964 - val_loss: 7.3616 - val_acc: 0.1903 - val_mean_absolute_error: 2.0232 - val_mean_squared_error: 7.3616\n",
      "Epoch 342/500\n",
      "43089/43089 [==============================] - 0s - loss: 4.9635 - acc: 0.2180 - mean_absolute_error: 1.6405 - mean_squared_error: 4.9635 - val_loss: 7.3471 - val_acc: 0.1850 - val_mean_absolute_error: 2.0308 - val_mean_squared_error: 7.3471\n",
      "Epoch 343/500\n",
      "43089/43089 [==============================] - 0s - loss: 4.9489 - acc: 0.2205 - mean_absolute_error: 1.6380 - mean_squared_error: 4.9489 - val_loss: 7.1918 - val_acc: 0.1828 - val_mean_absolute_error: 1.9996 - val_mean_squared_error: 7.1918\n",
      "Epoch 344/500\n",
      "43089/43089 [==============================] - 0s - loss: 4.9026 - acc: 0.2195 - mean_absolute_error: 1.6304 - mean_squared_error: 4.9026 - val_loss: 7.2928 - val_acc: 0.1825 - val_mean_absolute_error: 2.0133 - val_mean_squared_error: 7.2928\n",
      "Epoch 345/500\n",
      "43089/43089 [==============================] - 0s - loss: 4.9168 - acc: 0.2207 - mean_absolute_error: 1.6333 - mean_squared_error: 4.9168 - val_loss: 7.2339 - val_acc: 0.1875 - val_mean_absolute_error: 2.0093 - val_mean_squared_error: 7.2339\n",
      "Epoch 346/500\n",
      "43089/43089 [==============================] - 0s - loss: 4.9280 - acc: 0.2218 - mean_absolute_error: 1.6308 - mean_squared_error: 4.9280 - val_loss: 7.2265 - val_acc: 0.1872 - val_mean_absolute_error: 1.9966 - val_mean_squared_error: 7.2265\n",
      "Epoch 347/500\n",
      "43089/43089 [==============================] - 0s - loss: 4.9095 - acc: 0.2225 - mean_absolute_error: 1.6305 - mean_squared_error: 4.9095 - val_loss: 7.2777 - val_acc: 0.1895 - val_mean_absolute_error: 2.0102 - val_mean_squared_error: 7.2777\n",
      "Epoch 348/500\n",
      "43089/43089 [==============================] - 0s - loss: 4.8634 - acc: 0.2226 - mean_absolute_error: 1.6279 - mean_squared_error: 4.8634 - val_loss: 7.4109 - val_acc: 0.1875 - val_mean_absolute_error: 2.0190 - val_mean_squared_error: 7.4109\n",
      "Epoch 349/500\n",
      "43089/43089 [==============================] - 0s - loss: 4.9098 - acc: 0.2218 - mean_absolute_error: 1.6299 - mean_squared_error: 4.9098 - val_loss: 7.2441 - val_acc: 0.1920 - val_mean_absolute_error: 1.9984 - val_mean_squared_error: 7.2441\n",
      "Epoch 350/500\n"
     ]
    },
    {
     "name": "stdout",
     "output_type": "stream",
     "text": [
      "43089/43089 [==============================] - 0s - loss: 4.8795 - acc: 0.2211 - mean_absolute_error: 1.6271 - mean_squared_error: 4.8795 - val_loss: 7.2968 - val_acc: 0.1833 - val_mean_absolute_error: 2.0247 - val_mean_squared_error: 7.2968\n",
      "Epoch 351/500\n",
      "43089/43089 [==============================] - 0s - loss: 4.8830 - acc: 0.2183 - mean_absolute_error: 1.6307 - mean_squared_error: 4.8830 - val_loss: 7.3352 - val_acc: 0.1879 - val_mean_absolute_error: 2.0161 - val_mean_squared_error: 7.3352\n",
      "Epoch 352/500\n",
      "43089/43089 [==============================] - 0s - loss: 4.8946 - acc: 0.2223 - mean_absolute_error: 1.6309 - mean_squared_error: 4.8946 - val_loss: 7.5986 - val_acc: 0.1755 - val_mean_absolute_error: 2.0817 - val_mean_squared_error: 7.5986\n",
      "Epoch 353/500\n",
      "43089/43089 [==============================] - 0s - loss: 4.8482 - acc: 0.2227 - mean_absolute_error: 1.6246 - mean_squared_error: 4.8482 - val_loss: 7.3550 - val_acc: 0.1811 - val_mean_absolute_error: 2.0333 - val_mean_squared_error: 7.3550\n",
      "Epoch 354/500\n",
      "43089/43089 [==============================] - 0s - loss: 4.8264 - acc: 0.2234 - mean_absolute_error: 1.6209 - mean_squared_error: 4.8264 - val_loss: 7.4600 - val_acc: 0.1865 - val_mean_absolute_error: 2.0472 - val_mean_squared_error: 7.4600\n",
      "Epoch 355/500\n",
      "43089/43089 [==============================] - 0s - loss: 4.8532 - acc: 0.2198 - mean_absolute_error: 1.6245 - mean_squared_error: 4.8532 - val_loss: 7.2784 - val_acc: 0.1859 - val_mean_absolute_error: 2.0170 - val_mean_squared_error: 7.2784\n",
      "Epoch 356/500\n",
      "43089/43089 [==============================] - 0s - loss: 4.8748 - acc: 0.2235 - mean_absolute_error: 1.6253 - mean_squared_error: 4.8748 - val_loss: 7.3577 - val_acc: 0.1895 - val_mean_absolute_error: 2.0072 - val_mean_squared_error: 7.3577\n",
      "Epoch 357/500\n",
      "43089/43089 [==============================] - 0s - loss: 4.9059 - acc: 0.2213 - mean_absolute_error: 1.6340 - mean_squared_error: 4.9059 - val_loss: 7.2571 - val_acc: 0.1876 - val_mean_absolute_error: 2.0092 - val_mean_squared_error: 7.2571\n",
      "Epoch 358/500\n",
      "43089/43089 [==============================] - 0s - loss: 4.8400 - acc: 0.2215 - mean_absolute_error: 1.6235 - mean_squared_error: 4.8400 - val_loss: 7.3450 - val_acc: 0.1911 - val_mean_absolute_error: 2.0189 - val_mean_squared_error: 7.3450\n",
      "Epoch 359/500\n",
      "43089/43089 [==============================] - 0s - loss: 4.8631 - acc: 0.2211 - mean_absolute_error: 1.6274 - mean_squared_error: 4.8631 - val_loss: 7.3891 - val_acc: 0.1968 - val_mean_absolute_error: 2.0191 - val_mean_squared_error: 7.3891\n",
      "Epoch 360/500\n",
      "43089/43089 [==============================] - 0s - loss: 4.8446 - acc: 0.2203 - mean_absolute_error: 1.6240 - mean_squared_error: 4.8446 - val_loss: 7.2275 - val_acc: 0.1932 - val_mean_absolute_error: 2.0098 - val_mean_squared_error: 7.2275\n",
      "Epoch 361/500\n",
      "43089/43089 [==============================] - 0s - loss: 4.8381 - acc: 0.2232 - mean_absolute_error: 1.6212 - mean_squared_error: 4.8381 - val_loss: 7.4450 - val_acc: 0.1941 - val_mean_absolute_error: 2.0155 - val_mean_squared_error: 7.4450\n",
      "Epoch 362/500\n",
      "43089/43089 [==============================] - 0s - loss: 4.8389 - acc: 0.2199 - mean_absolute_error: 1.6254 - mean_squared_error: 4.8389 - val_loss: 7.3439 - val_acc: 0.1863 - val_mean_absolute_error: 2.0309 - val_mean_squared_error: 7.3439\n",
      "Epoch 363/500\n",
      "43089/43089 [==============================] - ETA: 0s - loss: 4.7977 - acc: 0.2231 - mean_absolute_error: 1.6167 - mean_squared_error: 4.79 - 0s - loss: 4.8002 - acc: 0.2228 - mean_absolute_error: 1.6172 - mean_squared_error: 4.8002 - val_loss: 7.3733 - val_acc: 0.1880 - val_mean_absolute_error: 2.0165 - val_mean_squared_error: 7.3733\n",
      "Epoch 364/500\n",
      "43089/43089 [==============================] - 0s - loss: 4.8354 - acc: 0.2182 - mean_absolute_error: 1.6233 - mean_squared_error: 4.8354 - val_loss: 7.3336 - val_acc: 0.1880 - val_mean_absolute_error: 2.0253 - val_mean_squared_error: 7.3336\n",
      "Epoch 365/500\n",
      "43089/43089 [==============================] - 0s - loss: 4.7894 - acc: 0.2227 - mean_absolute_error: 1.6175 - mean_squared_error: 4.7894 - val_loss: 7.4822 - val_acc: 0.1903 - val_mean_absolute_error: 2.0291 - val_mean_squared_error: 7.4822\n",
      "Epoch 366/500\n",
      "43089/43089 [==============================] - 0s - loss: 4.8076 - acc: 0.2192 - mean_absolute_error: 1.6196 - mean_squared_error: 4.8076 - val_loss: 7.3007 - val_acc: 0.1917 - val_mean_absolute_error: 2.0117 - val_mean_squared_error: 7.3007\n",
      "Epoch 367/500\n",
      "43089/43089 [==============================] - 0s - loss: 4.8375 - acc: 0.2192 - mean_absolute_error: 1.6280 - mean_squared_error: 4.8375 - val_loss: 7.3750 - val_acc: 0.1908 - val_mean_absolute_error: 2.0123 - val_mean_squared_error: 7.3750\n",
      "Epoch 368/500\n",
      "43089/43089 [==============================] - 0s - loss: 4.7920 - acc: 0.2253 - mean_absolute_error: 1.6136 - mean_squared_error: 4.7920 - val_loss: 7.3707 - val_acc: 0.1845 - val_mean_absolute_error: 2.0289 - val_mean_squared_error: 7.3707\n",
      "Epoch 369/500\n",
      "43089/43089 [==============================] - 0s - loss: 4.7745 - acc: 0.2186 - mean_absolute_error: 1.6147 - mean_squared_error: 4.7745 - val_loss: 7.3834 - val_acc: 0.1851 - val_mean_absolute_error: 2.0366 - val_mean_squared_error: 7.3834\n",
      "Epoch 370/500\n",
      "43089/43089 [==============================] - 0s - loss: 4.7771 - acc: 0.2224 - mean_absolute_error: 1.6138 - mean_squared_error: 4.7771 - val_loss: 7.3031 - val_acc: 0.1855 - val_mean_absolute_error: 2.0203 - val_mean_squared_error: 7.3031\n",
      "Epoch 371/500\n",
      "43089/43089 [==============================] - 0s - loss: 4.7313 - acc: 0.2220 - mean_absolute_error: 1.6089 - mean_squared_error: 4.7313 - val_loss: 7.2573 - val_acc: 0.1841 - val_mean_absolute_error: 2.0167 - val_mean_squared_error: 7.2573\n",
      "Epoch 372/500\n",
      "43089/43089 [==============================] - 0s - loss: 4.7597 - acc: 0.2229 - mean_absolute_error: 1.6090 - mean_squared_error: 4.7597 - val_loss: 7.2625 - val_acc: 0.1846 - val_mean_absolute_error: 2.0164 - val_mean_squared_error: 7.2625\n",
      "Epoch 373/500\n",
      "43089/43089 [==============================] - 0s - loss: 4.7886 - acc: 0.2218 - mean_absolute_error: 1.6185 - mean_squared_error: 4.7886 - val_loss: 7.3536 - val_acc: 0.1859 - val_mean_absolute_error: 2.0222 - val_mean_squared_error: 7.3536\n",
      "Epoch 374/500\n",
      "43089/43089 [==============================] - 0s - loss: 4.7701 - acc: 0.2207 - mean_absolute_error: 1.6144 - mean_squared_error: 4.7701 - val_loss: 7.3829 - val_acc: 0.1913 - val_mean_absolute_error: 2.0171 - val_mean_squared_error: 7.3829\n",
      "Epoch 375/500\n",
      "43089/43089 [==============================] - 0s - loss: 4.7359 - acc: 0.2220 - mean_absolute_error: 1.6085 - mean_squared_error: 4.7359 - val_loss: 7.3094 - val_acc: 0.1809 - val_mean_absolute_error: 2.0218 - val_mean_squared_error: 7.3094\n",
      "Epoch 376/500\n",
      "43089/43089 [==============================] - 0s - loss: 4.7735 - acc: 0.2207 - mean_absolute_error: 1.6129 - mean_squared_error: 4.7735 - val_loss: 7.3743 - val_acc: 0.1869 - val_mean_absolute_error: 2.0190 - val_mean_squared_error: 7.3743\n",
      "Epoch 377/500\n",
      "43089/43089 [==============================] - 0s - loss: 4.7798 - acc: 0.2211 - mean_absolute_error: 1.6144 - mean_squared_error: 4.7798 - val_loss: 7.3871 - val_acc: 0.1812 - val_mean_absolute_error: 2.0351 - val_mean_squared_error: 7.3871\n",
      "Epoch 378/500\n",
      "43089/43089 [==============================] - 0s - loss: 4.7513 - acc: 0.2234 - mean_absolute_error: 1.6111 - mean_squared_error: 4.7513 - val_loss: 7.4406 - val_acc: 0.1850 - val_mean_absolute_error: 2.0300 - val_mean_squared_error: 7.4406\n",
      "Epoch 379/500\n",
      "43089/43089 [==============================] - 0s - loss: 4.6935 - acc: 0.2228 - mean_absolute_error: 1.5999 - mean_squared_error: 4.6935 - val_loss: 7.3856 - val_acc: 0.1784 - val_mean_absolute_error: 2.0473 - val_mean_squared_error: 7.3856\n",
      "Epoch 380/500\n",
      "43089/43089 [==============================] - 0s - loss: 4.6744 - acc: 0.2237 - mean_absolute_error: 1.5969 - mean_squared_error: 4.6744 - val_loss: 7.5003 - val_acc: 0.1895 - val_mean_absolute_error: 2.0437 - val_mean_squared_error: 7.5003\n",
      "Epoch 381/500\n"
     ]
    },
    {
     "name": "stdout",
     "output_type": "stream",
     "text": [
      "43089/43089 [==============================] - 0s - loss: 4.7408 - acc: 0.2191 - mean_absolute_error: 1.6133 - mean_squared_error: 4.7408 - val_loss: 7.3981 - val_acc: 0.1847 - val_mean_absolute_error: 2.0177 - val_mean_squared_error: 7.3981\n",
      "Epoch 382/500\n",
      "43089/43089 [==============================] - 0s - loss: 4.7532 - acc: 0.2210 - mean_absolute_error: 1.6156 - mean_squared_error: 4.7532 - val_loss: 7.4832 - val_acc: 0.1886 - val_mean_absolute_error: 2.0369 - val_mean_squared_error: 7.4832\n",
      "Epoch 383/500\n",
      "43089/43089 [==============================] - 0s - loss: 4.7339 - acc: 0.2237 - mean_absolute_error: 1.6058 - mean_squared_error: 4.7339 - val_loss: 7.4373 - val_acc: 0.1901 - val_mean_absolute_error: 2.0238 - val_mean_squared_error: 7.4373\n",
      "Epoch 384/500\n",
      "43089/43089 [==============================] - 0s - loss: 4.6867 - acc: 0.2236 - mean_absolute_error: 1.6011 - mean_squared_error: 4.6867 - val_loss: 7.5194 - val_acc: 0.1778 - val_mean_absolute_error: 2.0482 - val_mean_squared_error: 7.5194\n",
      "Epoch 385/500\n",
      "43089/43089 [==============================] - 0s - loss: 4.7078 - acc: 0.2238 - mean_absolute_error: 1.6036 - mean_squared_error: 4.7078 - val_loss: 7.4550 - val_acc: 0.1869 - val_mean_absolute_error: 2.0254 - val_mean_squared_error: 7.4550\n",
      "Epoch 386/500\n",
      "43089/43089 [==============================] - 0s - loss: 4.7094 - acc: 0.2234 - mean_absolute_error: 1.6035 - mean_squared_error: 4.7094 - val_loss: 7.4539 - val_acc: 0.1788 - val_mean_absolute_error: 2.0424 - val_mean_squared_error: 7.4539\n",
      "Epoch 387/500\n",
      "43089/43089 [==============================] - 0s - loss: 4.7049 - acc: 0.2229 - mean_absolute_error: 1.6018 - mean_squared_error: 4.7049 - val_loss: 7.6126 - val_acc: 0.1812 - val_mean_absolute_error: 2.0681 - val_mean_squared_error: 7.6126\n",
      "Epoch 388/500\n",
      "43089/43089 [==============================] - 0s - loss: 4.6958 - acc: 0.2237 - mean_absolute_error: 1.6021 - mean_squared_error: 4.6958 - val_loss: 7.4958 - val_acc: 0.1812 - val_mean_absolute_error: 2.0443 - val_mean_squared_error: 7.4958\n",
      "Epoch 389/500\n",
      "43089/43089 [==============================] - 0s - loss: 4.7076 - acc: 0.2225 - mean_absolute_error: 1.6063 - mean_squared_error: 4.7076 - val_loss: 7.4039 - val_acc: 0.1903 - val_mean_absolute_error: 2.0242 - val_mean_squared_error: 7.4039\n",
      "Epoch 390/500\n",
      "43089/43089 [==============================] - 0s - loss: 4.6782 - acc: 0.2265 - mean_absolute_error: 1.5999 - mean_squared_error: 4.6782 - val_loss: 7.4159 - val_acc: 0.1842 - val_mean_absolute_error: 2.0324 - val_mean_squared_error: 7.4159\n",
      "Epoch 391/500\n",
      "43089/43089 [==============================] - 0s - loss: 4.6807 - acc: 0.2205 - mean_absolute_error: 1.6021 - mean_squared_error: 4.6807 - val_loss: 7.4430 - val_acc: 0.1815 - val_mean_absolute_error: 2.0337 - val_mean_squared_error: 7.4430\n",
      "Epoch 392/500\n",
      "43089/43089 [==============================] - 0s - loss: 4.7151 - acc: 0.2208 - mean_absolute_error: 1.6077 - mean_squared_error: 4.7151 - val_loss: 7.3979 - val_acc: 0.1840 - val_mean_absolute_error: 2.0339 - val_mean_squared_error: 7.3979\n",
      "Epoch 393/500\n",
      "43089/43089 [==============================] - 0s - loss: 4.6133 - acc: 0.2240 - mean_absolute_error: 1.5883 - mean_squared_error: 4.6133 - val_loss: 7.5061 - val_acc: 0.1795 - val_mean_absolute_error: 2.0472 - val_mean_squared_error: 7.5061\n",
      "Epoch 394/500\n",
      "43089/43089 [==============================] - 0s - loss: 4.6597 - acc: 0.2246 - mean_absolute_error: 1.5994 - mean_squared_error: 4.6597 - val_loss: 7.5490 - val_acc: 0.1733 - val_mean_absolute_error: 2.0681 - val_mean_squared_error: 7.5490\n",
      "Epoch 395/500\n",
      "43089/43089 [==============================] - 0s - loss: 4.6760 - acc: 0.2237 - mean_absolute_error: 1.6022 - mean_squared_error: 4.6760 - val_loss: 7.5072 - val_acc: 0.1808 - val_mean_absolute_error: 2.0499 - val_mean_squared_error: 7.5072\n",
      "Epoch 396/500\n",
      "43089/43089 [==============================] - 0s - loss: 4.6520 - acc: 0.2218 - mean_absolute_error: 1.5971 - mean_squared_error: 4.6520 - val_loss: 7.4677 - val_acc: 0.1820 - val_mean_absolute_error: 2.0408 - val_mean_squared_error: 7.4677\n",
      "Epoch 397/500\n",
      "43089/43089 [==============================] - 0s - loss: 4.6601 - acc: 0.2209 - mean_absolute_error: 1.5997 - mean_squared_error: 4.6601 - val_loss: 7.4637 - val_acc: 0.1786 - val_mean_absolute_error: 2.0361 - val_mean_squared_error: 7.4637\n",
      "Epoch 398/500\n",
      "43089/43089 [==============================] - 0s - loss: 4.6439 - acc: 0.2226 - mean_absolute_error: 1.5955 - mean_squared_error: 4.6439 - val_loss: 7.4881 - val_acc: 0.1909 - val_mean_absolute_error: 2.0249 - val_mean_squared_error: 7.4881\n",
      "Epoch 399/500\n",
      "43089/43089 [==============================] - 0s - loss: 4.6260 - acc: 0.2242 - mean_absolute_error: 1.5938 - mean_squared_error: 4.6260 - val_loss: 7.5094 - val_acc: 0.1757 - val_mean_absolute_error: 2.0587 - val_mean_squared_error: 7.5094\n",
      "Epoch 400/500\n",
      "43089/43089 [==============================] - 0s - loss: 4.6207 - acc: 0.2248 - mean_absolute_error: 1.5917 - mean_squared_error: 4.6207 - val_loss: 7.3387 - val_acc: 0.1825 - val_mean_absolute_error: 2.0257 - val_mean_squared_error: 7.3387\n",
      "Epoch 401/500\n",
      "43089/43089 [==============================] - 0s - loss: 4.6310 - acc: 0.2238 - mean_absolute_error: 1.5960 - mean_squared_error: 4.6310 - val_loss: 7.4198 - val_acc: 0.1830 - val_mean_absolute_error: 2.0424 - val_mean_squared_error: 7.4198\n",
      "Epoch 402/500\n",
      "43089/43089 [==============================] - 0s - loss: 4.6797 - acc: 0.2170 - mean_absolute_error: 1.6059 - mean_squared_error: 4.6797 - val_loss: 7.5331 - val_acc: 0.1850 - val_mean_absolute_error: 2.0523 - val_mean_squared_error: 7.5331\n",
      "Epoch 403/500\n",
      "43089/43089 [==============================] - 0s - loss: 4.6157 - acc: 0.2253 - mean_absolute_error: 1.5878 - mean_squared_error: 4.6157 - val_loss: 7.5035 - val_acc: 0.1809 - val_mean_absolute_error: 2.0450 - val_mean_squared_error: 7.5035\n",
      "Epoch 404/500\n",
      "43089/43089 [==============================] - 0s - loss: 4.6582 - acc: 0.2212 - mean_absolute_error: 1.6011 - mean_squared_error: 4.6582 - val_loss: 7.5026 - val_acc: 0.1882 - val_mean_absolute_error: 2.0364 - val_mean_squared_error: 7.5026\n",
      "Epoch 405/500\n",
      "43089/43089 [==============================] - 0s - loss: 4.5822 - acc: 0.2238 - mean_absolute_error: 1.5851 - mean_squared_error: 4.5822 - val_loss: 7.5036 - val_acc: 0.1853 - val_mean_absolute_error: 2.0504 - val_mean_squared_error: 7.5036\n",
      "Epoch 406/500\n",
      "43089/43089 [==============================] - 0s - loss: 4.6233 - acc: 0.2255 - mean_absolute_error: 1.5918 - mean_squared_error: 4.6233 - val_loss: 7.3952 - val_acc: 0.1901 - val_mean_absolute_error: 2.0316 - val_mean_squared_error: 7.3952\n",
      "Epoch 407/500\n",
      "43089/43089 [==============================] - 0s - loss: 4.5713 - acc: 0.2268 - mean_absolute_error: 1.5838 - mean_squared_error: 4.5713 - val_loss: 7.6035 - val_acc: 0.1809 - val_mean_absolute_error: 2.0595 - val_mean_squared_error: 7.6035\n",
      "Epoch 408/500\n",
      "43089/43089 [==============================] - 0s - loss: 4.5855 - acc: 0.2250 - mean_absolute_error: 1.5844 - mean_squared_error: 4.5855 - val_loss: 7.6120 - val_acc: 0.1809 - val_mean_absolute_error: 2.0569 - val_mean_squared_error: 7.6120\n",
      "Epoch 409/500\n",
      "43089/43089 [==============================] - 0s - loss: 4.5966 - acc: 0.2248 - mean_absolute_error: 1.5843 - mean_squared_error: 4.5966 - val_loss: 7.4476 - val_acc: 0.1855 - val_mean_absolute_error: 2.0342 - val_mean_squared_error: 7.4476\n",
      "Epoch 410/500\n",
      "43089/43089 [==============================] - 0s - loss: 4.6031 - acc: 0.2220 - mean_absolute_error: 1.5913 - mean_squared_error: 4.6031 - val_loss: 7.4677 - val_acc: 0.1834 - val_mean_absolute_error: 2.0358 - val_mean_squared_error: 7.4677\n",
      "Epoch 411/500\n",
      "43089/43089 [==============================] - 0s - loss: 4.6168 - acc: 0.2209 - mean_absolute_error: 1.5954 - mean_squared_error: 4.6168 - val_loss: 7.6114 - val_acc: 0.1748 - val_mean_absolute_error: 2.0717 - val_mean_squared_error: 7.6114\n",
      "Epoch 412/500\n",
      "43089/43089 [==============================] - 0s - loss: 4.5692 - acc: 0.2278 - mean_absolute_error: 1.5813 - mean_squared_error: 4.5692 - val_loss: 7.4963 - val_acc: 0.1895 - val_mean_absolute_error: 2.0308 - val_mean_squared_error: 7.4963\n",
      "Epoch 413/500\n"
     ]
    },
    {
     "name": "stdout",
     "output_type": "stream",
     "text": [
      "43089/43089 [==============================] - 0s - loss: 4.5575 - acc: 0.2244 - mean_absolute_error: 1.5844 - mean_squared_error: 4.5575 - val_loss: 7.5212 - val_acc: 0.1896 - val_mean_absolute_error: 2.0409 - val_mean_squared_error: 7.5212\n",
      "Epoch 414/500\n",
      "43089/43089 [==============================] - 0s - loss: 4.6163 - acc: 0.2237 - mean_absolute_error: 1.5917 - mean_squared_error: 4.6163 - val_loss: 7.6522 - val_acc: 0.1821 - val_mean_absolute_error: 2.0645 - val_mean_squared_error: 7.6522\n",
      "Epoch 415/500\n",
      "43089/43089 [==============================] - 0s - loss: 4.5871 - acc: 0.2232 - mean_absolute_error: 1.5913 - mean_squared_error: 4.5871 - val_loss: 7.4641 - val_acc: 0.1816 - val_mean_absolute_error: 2.0461 - val_mean_squared_error: 7.4641\n",
      "Epoch 416/500\n",
      "43089/43089 [==============================] - 0s - loss: 4.5784 - acc: 0.2243 - mean_absolute_error: 1.5867 - mean_squared_error: 4.5784 - val_loss: 7.4855 - val_acc: 0.1838 - val_mean_absolute_error: 2.0466 - val_mean_squared_error: 7.4855\n",
      "Epoch 417/500\n",
      "43089/43089 [==============================] - 0s - loss: 4.5213 - acc: 0.2263 - mean_absolute_error: 1.5746 - mean_squared_error: 4.5213 - val_loss: 7.5513 - val_acc: 0.1836 - val_mean_absolute_error: 2.0509 - val_mean_squared_error: 7.5513\n",
      "Epoch 418/500\n",
      "43089/43089 [==============================] - 0s - loss: 4.5555 - acc: 0.2228 - mean_absolute_error: 1.5849 - mean_squared_error: 4.5555 - val_loss: 7.5086 - val_acc: 0.1857 - val_mean_absolute_error: 2.0479 - val_mean_squared_error: 7.5086\n",
      "Epoch 419/500\n",
      "43089/43089 [==============================] - 0s - loss: 4.5742 - acc: 0.2224 - mean_absolute_error: 1.5874 - mean_squared_error: 4.5742 - val_loss: 7.4290 - val_acc: 0.1809 - val_mean_absolute_error: 2.0490 - val_mean_squared_error: 7.4290\n",
      "Epoch 420/500\n",
      "43089/43089 [==============================] - 0s - loss: 4.5705 - acc: 0.2262 - mean_absolute_error: 1.5871 - mean_squared_error: 4.5705 - val_loss: 7.5272 - val_acc: 0.1811 - val_mean_absolute_error: 2.0486 - val_mean_squared_error: 7.5272\n",
      "Epoch 421/500\n",
      "43089/43089 [==============================] - 0s - loss: 4.5458 - acc: 0.2208 - mean_absolute_error: 1.5865 - mean_squared_error: 4.5458 - val_loss: 7.8292 - val_acc: 0.1678 - val_mean_absolute_error: 2.1144 - val_mean_squared_error: 7.8292\n",
      "Epoch 422/500\n",
      "43089/43089 [==============================] - 0s - loss: 4.5295 - acc: 0.2245 - mean_absolute_error: 1.5794 - mean_squared_error: 4.5295 - val_loss: 7.5805 - val_acc: 0.1757 - val_mean_absolute_error: 2.0762 - val_mean_squared_error: 7.5805\n",
      "Epoch 423/500\n",
      "43089/43089 [==============================] - 0s - loss: 4.5192 - acc: 0.2264 - mean_absolute_error: 1.5777 - mean_squared_error: 4.5192 - val_loss: 7.5205 - val_acc: 0.1844 - val_mean_absolute_error: 2.0453 - val_mean_squared_error: 7.5205\n",
      "Epoch 424/500\n",
      "43089/43089 [==============================] - 0s - loss: 4.4991 - acc: 0.2229 - mean_absolute_error: 1.5759 - mean_squared_error: 4.4991 - val_loss: 7.4331 - val_acc: 0.1867 - val_mean_absolute_error: 2.0361 - val_mean_squared_error: 7.4331\n",
      "Epoch 425/500\n",
      "43089/43089 [==============================] - 0s - loss: 4.5171 - acc: 0.2230 - mean_absolute_error: 1.5787 - mean_squared_error: 4.5171 - val_loss: 7.6508 - val_acc: 0.1811 - val_mean_absolute_error: 2.0735 - val_mean_squared_error: 7.6508\n",
      "Epoch 426/500\n",
      "43089/43089 [==============================] - 0s - loss: 4.5562 - acc: 0.2229 - mean_absolute_error: 1.5872 - mean_squared_error: 4.5562 - val_loss: 7.6072 - val_acc: 0.1800 - val_mean_absolute_error: 2.0677 - val_mean_squared_error: 7.6072\n",
      "Epoch 427/500\n",
      "43089/43089 [==============================] - 0s - loss: 4.4808 - acc: 0.2262 - mean_absolute_error: 1.5717 - mean_squared_error: 4.4808 - val_loss: 7.4756 - val_acc: 0.1847 - val_mean_absolute_error: 2.0471 - val_mean_squared_error: 7.4756\n",
      "Epoch 428/500\n",
      "43089/43089 [==============================] - 0s - loss: 4.5724 - acc: 0.2205 - mean_absolute_error: 1.5888 - mean_squared_error: 4.5724 - val_loss: 7.4186 - val_acc: 0.1893 - val_mean_absolute_error: 2.0347 - val_mean_squared_error: 7.4186\n",
      "Epoch 429/500\n",
      "43089/43089 [==============================] - 0s - loss: 4.5120 - acc: 0.2239 - mean_absolute_error: 1.5777 - mean_squared_error: 4.5120 - val_loss: 7.5426 - val_acc: 0.1736 - val_mean_absolute_error: 2.0646 - val_mean_squared_error: 7.5426\n",
      "Epoch 430/500\n",
      "43089/43089 [==============================] - 0s - loss: 4.5102 - acc: 0.2238 - mean_absolute_error: 1.5788 - mean_squared_error: 4.5102 - val_loss: 7.4456 - val_acc: 0.1832 - val_mean_absolute_error: 2.0465 - val_mean_squared_error: 7.4456\n",
      "Epoch 431/500\n",
      "43089/43089 [==============================] - 0s - loss: 4.4942 - acc: 0.2255 - mean_absolute_error: 1.5737 - mean_squared_error: 4.4942 - val_loss: 7.4923 - val_acc: 0.1890 - val_mean_absolute_error: 2.0483 - val_mean_squared_error: 7.4923\n",
      "Epoch 432/500\n",
      "43089/43089 [==============================] - 0s - loss: 4.4629 - acc: 0.2259 - mean_absolute_error: 1.5697 - mean_squared_error: 4.4629 - val_loss: 7.6118 - val_acc: 0.1800 - val_mean_absolute_error: 2.0711 - val_mean_squared_error: 7.6118\n",
      "Epoch 433/500\n",
      "43089/43089 [==============================] - 0s - loss: 4.4873 - acc: 0.2245 - mean_absolute_error: 1.5729 - mean_squared_error: 4.4873 - val_loss: 7.5796 - val_acc: 0.1870 - val_mean_absolute_error: 2.0531 - val_mean_squared_error: 7.5796\n",
      "Epoch 434/500\n",
      "43089/43089 [==============================] - 0s - loss: 4.5222 - acc: 0.2216 - mean_absolute_error: 1.5836 - mean_squared_error: 4.5222 - val_loss: 7.7942 - val_acc: 0.1828 - val_mean_absolute_error: 2.0892 - val_mean_squared_error: 7.7942\n",
      "Epoch 435/500\n",
      "43089/43089 [==============================] - 0s - loss: 4.4559 - acc: 0.2246 - mean_absolute_error: 1.5687 - mean_squared_error: 4.4559 - val_loss: 7.6774 - val_acc: 0.1800 - val_mean_absolute_error: 2.0700 - val_mean_squared_error: 7.6774\n",
      "Epoch 436/500\n",
      "43089/43089 [==============================] - 0s - loss: 4.4948 - acc: 0.2216 - mean_absolute_error: 1.5797 - mean_squared_error: 4.4948 - val_loss: 7.4595 - val_acc: 0.1925 - val_mean_absolute_error: 2.0384 - val_mean_squared_error: 7.4595\n",
      "Epoch 437/500\n",
      "43089/43089 [==============================] - 0s - loss: 4.4777 - acc: 0.2243 - mean_absolute_error: 1.5711 - mean_squared_error: 4.4777 - val_loss: 7.5864 - val_acc: 0.1775 - val_mean_absolute_error: 2.0727 - val_mean_squared_error: 7.5864\n",
      "Epoch 438/500\n",
      "43089/43089 [==============================] - 0s - loss: 4.4812 - acc: 0.2276 - mean_absolute_error: 1.5706 - mean_squared_error: 4.4812 - val_loss: 7.6143 - val_acc: 0.1834 - val_mean_absolute_error: 2.0603 - val_mean_squared_error: 7.6143\n",
      "Epoch 439/500\n",
      "43089/43089 [==============================] - 0s - loss: 4.5338 - acc: 0.2234 - mean_absolute_error: 1.5825 - mean_squared_error: 4.5338 - val_loss: 7.4014 - val_acc: 0.1913 - val_mean_absolute_error: 2.0205 - val_mean_squared_error: 7.4014\n",
      "Epoch 440/500\n",
      "43089/43089 [==============================] - 0s - loss: 4.4876 - acc: 0.2234 - mean_absolute_error: 1.5765 - mean_squared_error: 4.4876 - val_loss: 7.5385 - val_acc: 0.1874 - val_mean_absolute_error: 2.0418 - val_mean_squared_error: 7.5385\n",
      "Epoch 441/500\n",
      "43089/43089 [==============================] - 0s - loss: 4.4511 - acc: 0.2236 - mean_absolute_error: 1.5696 - mean_squared_error: 4.4511 - val_loss: 7.5401 - val_acc: 0.1830 - val_mean_absolute_error: 2.0494 - val_mean_squared_error: 7.5401\n",
      "Epoch 442/500\n",
      "43089/43089 [==============================] - 0s - loss: 4.4813 - acc: 0.2284 - mean_absolute_error: 1.5719 - mean_squared_error: 4.4813 - val_loss: 7.6298 - val_acc: 0.1813 - val_mean_absolute_error: 2.0654 - val_mean_squared_error: 7.6298\n",
      "Epoch 443/500\n",
      "43089/43089 [==============================] - 0s - loss: 4.4632 - acc: 0.2244 - mean_absolute_error: 1.5717 - mean_squared_error: 4.4632 - val_loss: 7.5827 - val_acc: 0.1832 - val_mean_absolute_error: 2.0557 - val_mean_squared_error: 7.5827\n",
      "Epoch 444/500\n",
      "43089/43089 [==============================] - 0s - loss: 4.4735 - acc: 0.2250 - mean_absolute_error: 1.5709 - mean_squared_error: 4.4735 - val_loss: 7.5696 - val_acc: 0.1794 - val_mean_absolute_error: 2.0598 - val_mean_squared_error: 7.5696\n",
      "Epoch 445/500\n"
     ]
    },
    {
     "name": "stdout",
     "output_type": "stream",
     "text": [
      "43089/43089 [==============================] - 0s - loss: 4.4882 - acc: 0.2235 - mean_absolute_error: 1.5756 - mean_squared_error: 4.4882 - val_loss: 7.5863 - val_acc: 0.1833 - val_mean_absolute_error: 2.0539 - val_mean_squared_error: 7.5863\n",
      "Epoch 446/500\n",
      "43089/43089 [==============================] - 0s - loss: 4.4633 - acc: 0.2238 - mean_absolute_error: 1.5723 - mean_squared_error: 4.4633 - val_loss: 7.4906 - val_acc: 0.1866 - val_mean_absolute_error: 2.0512 - val_mean_squared_error: 7.4906\n",
      "Epoch 447/500\n",
      "43089/43089 [==============================] - 0s - loss: 4.4405 - acc: 0.2247 - mean_absolute_error: 1.5679 - mean_squared_error: 4.4405 - val_loss: 7.6211 - val_acc: 0.1798 - val_mean_absolute_error: 2.0729 - val_mean_squared_error: 7.6211\n",
      "Epoch 448/500\n",
      "43089/43089 [==============================] - 0s - loss: 4.4341 - acc: 0.2256 - mean_absolute_error: 1.5669 - mean_squared_error: 4.4341 - val_loss: 7.5734 - val_acc: 0.1840 - val_mean_absolute_error: 2.0553 - val_mean_squared_error: 7.5734\n",
      "Epoch 449/500\n",
      "43089/43089 [==============================] - 0s - loss: 4.4253 - acc: 0.2280 - mean_absolute_error: 1.5628 - mean_squared_error: 4.4253 - val_loss: 7.5649 - val_acc: 0.1805 - val_mean_absolute_error: 2.0696 - val_mean_squared_error: 7.5649\n",
      "Epoch 450/500\n",
      "43089/43089 [==============================] - 0s - loss: 4.4510 - acc: 0.2243 - mean_absolute_error: 1.5705 - mean_squared_error: 4.4510 - val_loss: 7.6495 - val_acc: 0.1795 - val_mean_absolute_error: 2.0677 - val_mean_squared_error: 7.6495\n",
      "Epoch 451/500\n",
      "43089/43089 [==============================] - 0s - loss: 4.4133 - acc: 0.2227 - mean_absolute_error: 1.5641 - mean_squared_error: 4.4133 - val_loss: 7.6402 - val_acc: 0.1812 - val_mean_absolute_error: 2.0764 - val_mean_squared_error: 7.6402\n",
      "Epoch 452/500\n",
      "43089/43089 [==============================] - 0s - loss: 4.4163 - acc: 0.2256 - mean_absolute_error: 1.5627 - mean_squared_error: 4.4163 - val_loss: 7.6166 - val_acc: 0.1830 - val_mean_absolute_error: 2.0647 - val_mean_squared_error: 7.6166\n",
      "Epoch 453/500\n",
      "43089/43089 [==============================] - 0s - loss: 4.3896 - acc: 0.2271 - mean_absolute_error: 1.5566 - mean_squared_error: 4.3896 - val_loss: 7.6308 - val_acc: 0.1842 - val_mean_absolute_error: 2.0603 - val_mean_squared_error: 7.6308\n",
      "Epoch 454/500\n",
      "43089/43089 [==============================] - 0s - loss: 4.4177 - acc: 0.2264 - mean_absolute_error: 1.5618 - mean_squared_error: 4.4177 - val_loss: 7.6826 - val_acc: 0.1853 - val_mean_absolute_error: 2.0721 - val_mean_squared_error: 7.6826\n",
      "Epoch 455/500\n",
      "43089/43089 [==============================] - 0s - loss: 4.3884 - acc: 0.2249 - mean_absolute_error: 1.5598 - mean_squared_error: 4.3884 - val_loss: 7.6846 - val_acc: 0.1755 - val_mean_absolute_error: 2.0929 - val_mean_squared_error: 7.6846\n",
      "Epoch 456/500\n",
      "43089/43089 [==============================] - 0s - loss: 4.4351 - acc: 0.2256 - mean_absolute_error: 1.5672 - mean_squared_error: 4.4351 - val_loss: 7.6243 - val_acc: 0.1837 - val_mean_absolute_error: 2.0658 - val_mean_squared_error: 7.6243\n",
      "Epoch 457/500\n",
      "43089/43089 [==============================] - 0s - loss: 4.3959 - acc: 0.2261 - mean_absolute_error: 1.5617 - mean_squared_error: 4.3959 - val_loss: 7.7351 - val_acc: 0.1786 - val_mean_absolute_error: 2.0885 - val_mean_squared_error: 7.7351\n",
      "Epoch 458/500\n",
      "43089/43089 [==============================] - 0s - loss: 4.4239 - acc: 0.2246 - mean_absolute_error: 1.5647 - mean_squared_error: 4.4239 - val_loss: 7.5705 - val_acc: 0.1890 - val_mean_absolute_error: 2.0427 - val_mean_squared_error: 7.5705\n",
      "Epoch 459/500\n",
      "43089/43089 [==============================] - 0s - loss: 4.4235 - acc: 0.2246 - mean_absolute_error: 1.5644 - mean_squared_error: 4.4235 - val_loss: 7.5117 - val_acc: 0.1862 - val_mean_absolute_error: 2.0476 - val_mean_squared_error: 7.5117\n",
      "Epoch 460/500\n",
      "43089/43089 [==============================] - 0s - loss: 4.3828 - acc: 0.2255 - mean_absolute_error: 1.5575 - mean_squared_error: 4.3828 - val_loss: 7.9631 - val_acc: 0.1725 - val_mean_absolute_error: 2.1341 - val_mean_squared_error: 7.9631\n",
      "Epoch 461/500\n",
      "43089/43089 [==============================] - 0s - loss: 4.3902 - acc: 0.2242 - mean_absolute_error: 1.5605 - mean_squared_error: 4.3902 - val_loss: 7.5169 - val_acc: 0.1863 - val_mean_absolute_error: 2.0497 - val_mean_squared_error: 7.5169\n",
      "Epoch 462/500\n",
      "43089/43089 [==============================] - 0s - loss: 4.3956 - acc: 0.2268 - mean_absolute_error: 1.5591 - mean_squared_error: 4.3956 - val_loss: 7.6409 - val_acc: 0.1744 - val_mean_absolute_error: 2.0840 - val_mean_squared_error: 7.6409\n",
      "Epoch 463/500\n",
      "43089/43089 [==============================] - 0s - loss: 4.4019 - acc: 0.2259 - mean_absolute_error: 1.5597 - mean_squared_error: 4.4019 - val_loss: 7.6381 - val_acc: 0.1833 - val_mean_absolute_error: 2.0678 - val_mean_squared_error: 7.6381\n",
      "Epoch 464/500\n",
      "43089/43089 [==============================] - 0s - loss: 4.3582 - acc: 0.2234 - mean_absolute_error: 1.5583 - mean_squared_error: 4.3582 - val_loss: 7.5370 - val_acc: 0.1826 - val_mean_absolute_error: 2.0593 - val_mean_squared_error: 7.5370\n",
      "Epoch 465/500\n",
      "43089/43089 [==============================] - 0s - loss: 4.4048 - acc: 0.2252 - mean_absolute_error: 1.5641 - mean_squared_error: 4.4048 - val_loss: 7.5522 - val_acc: 0.1819 - val_mean_absolute_error: 2.0622 - val_mean_squared_error: 7.5522\n",
      "Epoch 466/500\n",
      "43089/43089 [==============================] - 0s - loss: 4.3617 - acc: 0.2294 - mean_absolute_error: 1.5527 - mean_squared_error: 4.3617 - val_loss: 7.6119 - val_acc: 0.1834 - val_mean_absolute_error: 2.0553 - val_mean_squared_error: 7.6119\n",
      "Epoch 467/500\n",
      "43089/43089 [==============================] - 0s - loss: 4.3699 - acc: 0.2237 - mean_absolute_error: 1.5605 - mean_squared_error: 4.3699 - val_loss: 7.6122 - val_acc: 0.1819 - val_mean_absolute_error: 2.0636 - val_mean_squared_error: 7.6122\n",
      "Epoch 468/500\n",
      "43089/43089 [==============================] - 0s - loss: 4.3563 - acc: 0.2256 - mean_absolute_error: 1.5518 - mean_squared_error: 4.3563 - val_loss: 7.6290 - val_acc: 0.1829 - val_mean_absolute_error: 2.0593 - val_mean_squared_error: 7.6290\n",
      "Epoch 469/500\n",
      "43089/43089 [==============================] - 0s - loss: 4.3476 - acc: 0.2258 - mean_absolute_error: 1.5545 - mean_squared_error: 4.3476 - val_loss: 7.7479 - val_acc: 0.1813 - val_mean_absolute_error: 2.0949 - val_mean_squared_error: 7.7479\n",
      "Epoch 470/500\n",
      "43089/43089 [==============================] - 0s - loss: 4.3386 - acc: 0.2231 - mean_absolute_error: 1.5542 - mean_squared_error: 4.3386 - val_loss: 7.6311 - val_acc: 0.1819 - val_mean_absolute_error: 2.0615 - val_mean_squared_error: 7.6311\n",
      "Epoch 471/500\n",
      "43089/43089 [==============================] - 0s - loss: 4.3218 - acc: 0.2309 - mean_absolute_error: 1.5461 - mean_squared_error: 4.3218 - val_loss: 7.6021 - val_acc: 0.1876 - val_mean_absolute_error: 2.0517 - val_mean_squared_error: 7.6021\n",
      "Epoch 472/500\n",
      "43089/43089 [==============================] - 0s - loss: 4.3610 - acc: 0.2233 - mean_absolute_error: 1.5575 - mean_squared_error: 4.3610 - val_loss: 7.6454 - val_acc: 0.1807 - val_mean_absolute_error: 2.0772 - val_mean_squared_error: 7.6454\n",
      "Epoch 473/500\n",
      "43089/43089 [==============================] - 0s - loss: 4.3714 - acc: 0.2244 - mean_absolute_error: 1.5542 - mean_squared_error: 4.3714 - val_loss: 7.6184 - val_acc: 0.1847 - val_mean_absolute_error: 2.0636 - val_mean_squared_error: 7.6184\n",
      "Epoch 474/500\n",
      "43089/43089 [==============================] - 0s - loss: 4.3216 - acc: 0.2286 - mean_absolute_error: 1.5488 - mean_squared_error: 4.3216 - val_loss: 7.6337 - val_acc: 0.1744 - val_mean_absolute_error: 2.0823 - val_mean_squared_error: 7.6337\n",
      "Epoch 475/500\n",
      "43089/43089 [==============================] - 0s - loss: 4.3284 - acc: 0.2257 - mean_absolute_error: 1.5492 - mean_squared_error: 4.3284 - val_loss: 7.5159 - val_acc: 0.1821 - val_mean_absolute_error: 2.0591 - val_mean_squared_error: 7.5159\n",
      "Epoch 476/500\n",
      "43089/43089 [==============================] - 0s - loss: 4.3163 - acc: 0.2263 - mean_absolute_error: 1.5481 - mean_squared_error: 4.3163 - val_loss: 7.6259 - val_acc: 0.1702 - val_mean_absolute_error: 2.0881 - val_mean_squared_error: 7.6259\n",
      "Epoch 477/500\n"
     ]
    },
    {
     "name": "stdout",
     "output_type": "stream",
     "text": [
      "43089/43089 [==============================] - 0s - loss: 4.3113 - acc: 0.2298 - mean_absolute_error: 1.5457 - mean_squared_error: 4.3113 - val_loss: 7.7319 - val_acc: 0.1787 - val_mean_absolute_error: 2.0937 - val_mean_squared_error: 7.7319\n",
      "Epoch 478/500\n",
      "43089/43089 [==============================] - 0s - loss: 4.3564 - acc: 0.2285 - mean_absolute_error: 1.5554 - mean_squared_error: 4.3564 - val_loss: 7.5270 - val_acc: 0.1850 - val_mean_absolute_error: 2.0492 - val_mean_squared_error: 7.5270\n",
      "Epoch 479/500\n",
      "43089/43089 [==============================] - 0s - loss: 4.3076 - acc: 0.2269 - mean_absolute_error: 1.5467 - mean_squared_error: 4.3076 - val_loss: 7.5156 - val_acc: 0.1861 - val_mean_absolute_error: 2.0465 - val_mean_squared_error: 7.5156\n",
      "Epoch 480/500\n",
      "43089/43089 [==============================] - 0s - loss: 4.3136 - acc: 0.2291 - mean_absolute_error: 1.5482 - mean_squared_error: 4.3136 - val_loss: 7.6052 - val_acc: 0.1838 - val_mean_absolute_error: 2.0599 - val_mean_squared_error: 7.6052\n",
      "Epoch 481/500\n",
      "43089/43089 [==============================] - 0s - loss: 4.2658 - acc: 0.2289 - mean_absolute_error: 1.5378 - mean_squared_error: 4.2658 - val_loss: 7.6012 - val_acc: 0.1832 - val_mean_absolute_error: 2.0710 - val_mean_squared_error: 7.6012\n",
      "Epoch 482/500\n",
      "43089/43089 [==============================] - 0s - loss: 4.3017 - acc: 0.2268 - mean_absolute_error: 1.5479 - mean_squared_error: 4.3017 - val_loss: 7.6619 - val_acc: 0.1861 - val_mean_absolute_error: 2.0597 - val_mean_squared_error: 7.6619\n",
      "Epoch 483/500\n",
      "43089/43089 [==============================] - 0s - loss: 4.3253 - acc: 0.2282 - mean_absolute_error: 1.5507 - mean_squared_error: 4.3253 - val_loss: 7.5602 - val_acc: 0.1876 - val_mean_absolute_error: 2.0620 - val_mean_squared_error: 7.5602\n",
      "Epoch 484/500\n",
      "43089/43089 [==============================] - 0s - loss: 4.3538 - acc: 0.2235 - mean_absolute_error: 1.5600 - mean_squared_error: 4.3538 - val_loss: 7.4454 - val_acc: 0.1930 - val_mean_absolute_error: 2.0330 - val_mean_squared_error: 7.4454\n",
      "Epoch 485/500\n",
      "43089/43089 [==============================] - 0s - loss: 4.3094 - acc: 0.2294 - mean_absolute_error: 1.5423 - mean_squared_error: 4.3094 - val_loss: 7.5392 - val_acc: 0.1782 - val_mean_absolute_error: 2.0598 - val_mean_squared_error: 7.5392\n",
      "Epoch 486/500\n",
      "43089/43089 [==============================] - 0s - loss: 4.3013 - acc: 0.2296 - mean_absolute_error: 1.5450 - mean_squared_error: 4.3013 - val_loss: 7.8355 - val_acc: 0.1774 - val_mean_absolute_error: 2.1004 - val_mean_squared_error: 7.8355\n",
      "Epoch 487/500\n",
      "43089/43089 [==============================] - 0s - loss: 4.3442 - acc: 0.2251 - mean_absolute_error: 1.5545 - mean_squared_error: 4.3442 - val_loss: 7.5253 - val_acc: 0.1837 - val_mean_absolute_error: 2.0597 - val_mean_squared_error: 7.5253\n",
      "Epoch 488/500\n",
      "43089/43089 [==============================] - 0s - loss: 4.3457 - acc: 0.2240 - mean_absolute_error: 1.5535 - mean_squared_error: 4.3457 - val_loss: 7.6846 - val_acc: 0.1767 - val_mean_absolute_error: 2.0824 - val_mean_squared_error: 7.6846\n",
      "Epoch 489/500\n",
      "43089/43089 [==============================] - 0s - loss: 4.3186 - acc: 0.2296 - mean_absolute_error: 1.5476 - mean_squared_error: 4.3186 - val_loss: 7.5642 - val_acc: 0.1909 - val_mean_absolute_error: 2.0477 - val_mean_squared_error: 7.5642\n",
      "Epoch 490/500\n",
      "43089/43089 [==============================] - 0s - loss: 4.2744 - acc: 0.2297 - mean_absolute_error: 1.5414 - mean_squared_error: 4.2744 - val_loss: 7.5403 - val_acc: 0.1766 - val_mean_absolute_error: 2.0783 - val_mean_squared_error: 7.5403\n",
      "Epoch 491/500\n",
      "43089/43089 [==============================] - 0s - loss: 4.2692 - acc: 0.2273 - mean_absolute_error: 1.5413 - mean_squared_error: 4.2692 - val_loss: 7.6531 - val_acc: 0.1905 - val_mean_absolute_error: 2.0581 - val_mean_squared_error: 7.6531\n",
      "Epoch 492/500\n",
      "43089/43089 [==============================] - 0s - loss: 4.3018 - acc: 0.2302 - mean_absolute_error: 1.5414 - mean_squared_error: 4.3018 - val_loss: 7.6891 - val_acc: 0.1813 - val_mean_absolute_error: 2.0684 - val_mean_squared_error: 7.6891\n",
      "Epoch 493/500\n",
      "43089/43089 [==============================] - 0s - loss: 4.2827 - acc: 0.2265 - mean_absolute_error: 1.5450 - mean_squared_error: 4.2827 - val_loss: 7.6965 - val_acc: 0.1875 - val_mean_absolute_error: 2.0820 - val_mean_squared_error: 7.6965\n",
      "Epoch 494/500\n",
      "43089/43089 [==============================] - 0s - loss: 4.2755 - acc: 0.2284 - mean_absolute_error: 1.5425 - mean_squared_error: 4.2755 - val_loss: 7.4962 - val_acc: 0.1958 - val_mean_absolute_error: 2.0350 - val_mean_squared_error: 7.4962\n",
      "Epoch 495/500\n",
      "43089/43089 [==============================] - 0s - loss: 4.2515 - acc: 0.2269 - mean_absolute_error: 1.5420 - mean_squared_error: 4.2515 - val_loss: 7.5056 - val_acc: 0.1872 - val_mean_absolute_error: 2.0531 - val_mean_squared_error: 7.5056\n",
      "Epoch 496/500\n",
      "43089/43089 [==============================] - 0s - loss: 4.3108 - acc: 0.2288 - mean_absolute_error: 1.5480 - mean_squared_error: 4.3108 - val_loss: 7.8101 - val_acc: 0.1799 - val_mean_absolute_error: 2.0778 - val_mean_squared_error: 7.8101\n",
      "Epoch 497/500\n",
      "43089/43089 [==============================] - 0s - loss: 4.2473 - acc: 0.2256 - mean_absolute_error: 1.5423 - mean_squared_error: 4.2473 - val_loss: 7.7239 - val_acc: 0.1862 - val_mean_absolute_error: 2.0711 - val_mean_squared_error: 7.7239\n",
      "Epoch 498/500\n",
      "43089/43089 [==============================] - 0s - loss: 4.2590 - acc: 0.2273 - mean_absolute_error: 1.5398 - mean_squared_error: 4.2590 - val_loss: 7.6125 - val_acc: 0.1876 - val_mean_absolute_error: 2.0657 - val_mean_squared_error: 7.6125\n",
      "Epoch 499/500\n",
      "43089/43089 [==============================] - 0s - loss: 4.2610 - acc: 0.2282 - mean_absolute_error: 1.5379 - mean_squared_error: 4.2610 - val_loss: 7.6420 - val_acc: 0.1871 - val_mean_absolute_error: 2.0711 - val_mean_squared_error: 7.6420\n",
      "Epoch 500/500\n",
      "43089/43089 [==============================] - 0s - loss: 4.2630 - acc: 0.2261 - mean_absolute_error: 1.5410 - mean_squared_error: 4.2630 - val_loss: 7.7562 - val_acc: 0.1819 - val_mean_absolute_error: 2.0809 - val_mean_squared_error: 7.7562\n"
     ]
    }
   ],
   "source": [
    "h = model.fit(X_train_MLP, y_train, epochs=500, verbose=1, \n",
    "              validation_split=0.15, batch_size = 512)"
   ]
  },
  {
   "cell_type": "code",
   "execution_count": 78,
   "metadata": {},
   "outputs": [
    {
     "data": {
      "text/plain": [
       "<matplotlib.text.Text at 0xdb540f0>"
      ]
     },
     "execution_count": 78,
     "metadata": {},
     "output_type": "execute_result"
    },
    {
     "data": {
      "image/png": "[encoded data removed]",
      "text/plain": [
       "<matplotlib.figure.Figure at 0xdb526d8>"
      ]
     },
     "metadata": {},
     "output_type": "display_data"
    }
   ],
   "source": [
    "plt.plot(h.history['acc'])\n",
    "# plt.plot(h.history['mean_absolute_error'])\n",
    "plt.plot(h.history['mean_absolute_error'])\n",
    "plt.legend(['Training', 'Validation'])\n",
    "plt.title('Accuracy')\n",
    "plt.xlabel('Epochs')"
   ]
  },
  {
   "cell_type": "code",
   "execution_count": 79,
   "metadata": {
    "collapsed": true
   },
   "outputs": [],
   "source": [
    "Y_pred = model.predict(X_test_MLP)"
   ]
  },
  {
   "cell_type": "code",
   "execution_count": 80,
   "metadata": {
    "collapsed": true
   },
   "outputs": [],
   "source": [
    "pd.DataFrame(Y_pred).to_csv('predicted_regression_output.csv')"
   ]
  },
  {
   "cell_type": "code",
   "execution_count": 81,
   "metadata": {},
   "outputs": [
    {
     "data": {
      "text/plain": [
       "13613"
      ]
     },
     "execution_count": 81,
     "metadata": {},
     "output_type": "execute_result"
    }
   ],
   "source": [
    "Y_pred.size"
   ]
  },
  {
   "cell_type": "code",
   "execution_count": 82,
   "metadata": {
    "collapsed": true
   },
   "outputs": [],
   "source": [
    "np.set_printoptions(threshold=20)"
   ]
  },
  {
   "cell_type": "code",
   "execution_count": null,
   "metadata": {
    "collapsed": true
   },
   "outputs": [],
   "source": []
  }
 ],
 "metadata": {
  "kernelspec": {
   "display_name": "Python 3",
   "language": "python",
   "name": "python3"
  },
  "language_info": {
   "codemirror_mode": {
    "name": "ipython",
    "version": 3
   },
   "file_extension": ".py",
   "mimetype": "text/x-python",
   "name": "python",
   "nbconvert_exporter": "python",
   "pygments_lexer": "ipython3",
   "version": "3.6.1"
  }
 },
 "nbformat": 4,
 "nbformat_minor": 2
}
