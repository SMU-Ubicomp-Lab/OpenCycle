{
 "cells": [
  {
   "cell_type": "code",
   "execution_count": 1,
   "metadata": {
    "collapsed": false,
    "deletable": true,
    "editable": true
   },
   "outputs": [
    {
     "name": "stdout",
     "output_type": "stream",
     "text": [
      "Using matplotlib backend: Qt5Agg\n",
      "Populating the interactive namespace from numpy and matplotlib\n"
     ]
    }
   ],
   "source": [
    "%pylab --no-import-all"
   ]
  },
  {
   "cell_type": "markdown",
   "metadata": {},
   "source": [
    "# Evaluating the three-over-six rule\n",
    "\n",
    "The Miolo 1993 paper, which defines the data set, explains that three-over-six was used to determine the day of ovulation. How well does that stand up? Did our data get altered along the way?"
   ]
  },
  {
   "cell_type": "code",
   "execution_count": 2,
   "metadata": {
    "collapsed": true
   },
   "outputs": [],
   "source": [
    "from os import path\n",
    "import pandas as pd\n",
    "from tqdm import tqdm\n",
    "\n",
    "from sklearn.metrics import mean_absolute_error, mean_squared_error, accuracy_score"
   ]
  },
  {
   "cell_type": "code",
   "execution_count": 3,
   "metadata": {
    "collapsed": true,
    "deletable": true,
    "editable": true
   },
   "outputs": [],
   "source": [
    "file = path.join(\"..\", \"data\", \"interim\", \"df.csv\")\n",
    "df = pd.read_csv(file, index_col=0)"
   ]
  },
  {
   "cell_type": "code",
   "execution_count": 4,
   "metadata": {
    "collapsed": true
   },
   "outputs": [],
   "source": [
    "# Get the min of the next three days' temperatures.\n",
    "three = df[[\"TEMP\" + str(i + 1) for i in range(99)]].shift(-3, axis=1).rolling(3, axis=1).min()\n",
    "# Get the max of the six temperatures leading up to today.\n",
    "six = df[[\"TEMP\" + str(i + 1) for i in range(99)]].rolling(6, axis=1).max()\n",
    "three_over_six = ((three - six) > 0).idxmax(axis=1)  # First column with positive difference = three-over-six day.\n",
    "three_over_six = three_over_six.apply(lambda x: int(x[4:])).replace(1, np.nan)  # Remove 'TEMP' and convert 1s to NAs."
   ]
  },
  {
   "cell_type": "code",
   "execution_count": 5,
   "metadata": {
    "collapsed": false
   },
   "outputs": [
    {
     "name": "stdout",
     "output_type": "stream",
     "text": [
      "Total number of cycles: 23219\n",
      "No Pre-Ov calculated: 3744\n",
      "Accuracy: 0.7586028683405831\n"
     ]
    }
   ],
   "source": [
    "print(\"Total number of cycles: {}\".format(len(df)))\n",
    "print(\"No Pre-Ov calculated: {}\".format(three_over_six.isnull().sum()))\n",
    "print(\"Accuracy: {}\".format(accuracy_score(y_true=df.L_PREOVULATION, y_pred=three_over_six.fillna(-1))))"
   ]
  },
  {
   "cell_type": "code",
   "execution_count": 6,
   "metadata": {
    "collapsed": false,
    "deletable": true,
    "editable": true
   },
   "outputs": [
    {
     "name": "stderr",
     "output_type": "stream",
     "text": [
      "23219it [00:51, 447.91it/s]"
     ]
    },
    {
     "name": "stdout",
     "output_type": "stream",
     "text": [
      "Total number of cycles: 29298\n",
      "Total diffs: 6690 (22.83%)\n",
      "No Pre-Ov calculated: 3152\n",
      "Different calculated value: 3538\n",
      "Accuracy: 77.16567683800942\n"
     ]
    },
    {
     "name": "stderr",
     "output_type": "stream",
     "text": [
      "\n"
     ]
    }
   ],
   "source": [
    "# Another method--kind of iffy.\n",
    "no_calc = 0\n",
    "diff_calc = 0\n",
    "\n",
    "for idx, row in tqdm(df.iterrows()):\n",
    "    computed_L_PREOVULATION = None\n",
    "    for i in range(1, 91):\n",
    "        six_days = [row['TEMP'+str(i+j)] for j in range(0, 6)]\n",
    "        three_days = [row['TEMP'+str(i+k)] for k in range(6, 9)]\n",
    "        if min(three_days) > max(six_days):\n",
    "            computed_L_PREOVULATION = i + 5\n",
    "            break\n",
    "    if computed_L_PREOVULATION is None:\n",
    "        no_calc += 1\n",
    "    elif computed_L_PREOVULATION != int(row.L_PREOVULATION):\n",
    "        diff_calc += 1\n",
    "total_errors = no_calc + diff_calc\n",
    "print(\"Total number of cycles: {}\".format(len(df)))\n",
    "print(\"Total diffs: {} ({:5.2f}%)\".format(total_errors, total_errors / len(df) * 100))\n",
    "print(\"No Pre-Ov calculated: {}\".format(no_calc))\n",
    "print(\"Different calculated value: {}\".format(diff_calc))\n",
    "print(\"Accuracy: {}\".format(100 * (1 - total_errors / len(df))))"
   ]
  },
  {
   "cell_type": "markdown",
   "metadata": {
    "deletable": true,
    "editable": true
   },
   "source": [
    "Even with hindsight, this method isn't fantastic. <80% accuracy, after the fact?"
   ]
  },
  {
   "cell_type": "code",
   "execution_count": null,

   "metadata": {
    "collapsed": false,
    "deletable": true,
    "editable": true
   },
   "outputs": [],

   "source": [
    "no_calc = 0\n",
    "diff_calc = 0\n",
    "\n",
    "for idx, row in tqdm(df.iterrows()):\n",
    "    computed_L_PREOVULATION = None\n",
    "    for i in range(1, 91):\n",
    "        six_days = [row['TEMP'+str(i+j)] for j in range(0, 6)]\n",
    "        three_days = [row['TEMP'+str(i+k)] for k in range(6, 9)]\n",
    "        if min(three_days) > max(six_days):\n",
    "            computed_L_PREOVULATION = i + 5\n",
    "            break\n",
    "    if computed_L_PREOVULATION is None:\n",
    "        no_calc += 1\n",
    "    elif abs(computed_L_PREOVULATION - int(row.L_PREOVULATION)) > 1:\n",
    "        diff_calc += 1\n",
    "total_errors = no_calc + diff_calc\n",
    "print(\"Total number of cycles: {}\".format(len(df)))\n",
    "print(\"Total big diffs: {} ({:5.2f}%)\".format(total_errors, total_errors / len(df) * 100))\n",
    "print(\"No Pre-Ov calculated: {}\".format(no_calc))\n",
    "print(\"Difference greater than 1: {}\".format(diff_calc))\n",
    "print(\"Softened accuracy: {}\".format(100 * (1 - total_errors / len(df))))"
   ]
  },
  {
   "cell_type": "markdown",
   "metadata": {
    "deletable": true,
    "editable": true
   },
   "source": [
    "And it doesn't improve much when we relax the problem, so that it can be one day off. Grrrr."
   ]
  },
  {
   "cell_type": "code",
   "execution_count": 8,
   "metadata": {
    "collapsed": false
   },
   "outputs": [
    {
     "name": "stderr",
     "output_type": "stream",
     "text": [
      "23219it [00:52, 441.32it/s]\n"
     ]
    }
   ],
   "source": [
    "no_calc = 0\n",
    "diff_calc = 0\n",
    "three_over_six = []\n",
    "\n",
    "for idx, row in tqdm(df.iterrows()):\n",
    "    computed_L_PREOVULATION = None\n",
    "    for i in range(1, 91):\n",
    "        six_days = [row['TEMP'+str(i+j)] for j in range(0, 6)]\n",
    "        three_days = [row['TEMP'+str(i+k)] for k in range(6, 9)]\n",
    "        if min(three_days) > max(six_days):\n",
    "            computed_L_PREOVULATION = i + 5\n",
    "            three_over_six.append(computed_L_PREOVULATION)\n",
    "            break\n",
    "    if computed_L_PREOVULATION is None:\n",
    "        no_calc += 1\n",
    "        three_over_six.append(np.nan)\n",
    "    elif computed_L_PREOVULATION != int(row.L_PREOVULATION):\n",
    "        diff_calc += 1\n",
    "three_over_six = pd.Series(three_over_six)"
   ]
  },
  {
   "cell_type": "markdown",
   "metadata": {
    "collapsed": true,
    "deletable": true,
    "editable": true
   },
   "source": [
    "---\n",
    "### The bottom line\n",
    "\n",
    "The dataset defines the day of ovulation as the three-over-six day. We don't see that reflected, so the data must have been altered before reaching us. The fact that the temperature measurements are totally unrealistic supports this."
   ]
  },
  {
   "cell_type": "code",
   "execution_count": null,
   "metadata": {
    "collapsed": true
   },
   "outputs": [],
   "source": []
  }
 ],
 "metadata": {
  "anaconda-cloud": {},
  "kernelspec": {
   "display_name": "Python [default]",
   "language": "python",
   "name": "python3"
  },
  "language_info": {
   "codemirror_mode": {
    "name": "ipython",
    "version": 3
   },
   "file_extension": ".py",
   "mimetype": "text/x-python",
   "name": "python",
   "nbconvert_exporter": "python",
   "pygments_lexer": "ipython3",
   "version": "3.5.2"
  }
 },
 "nbformat": 4,
 "nbformat_minor": 2
}
