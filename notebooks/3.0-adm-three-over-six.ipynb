{
 "cells": [
  {
   "cell_type": "code",
   "execution_count": 5,
   "metadata": {
    "collapsed": false,
    "deletable": true,
    "editable": true
   },
   "outputs": [
    {
     "name": "stdout",
     "output_type": "stream",
     "text": [
      "Using matplotlib backend: Qt5Agg\n",
      "Populating the interactive namespace from numpy and matplotlib\n"
     ]
    }
   ],
   "source": [
    "%pylab --no-import-all\n",
    "\n",
    "from os import path\n",
    "import pandas as pd"
   ]
  },
  {
   "cell_type": "code",
   "execution_count": 6,
   "metadata": {
    "collapsed": true,
    "deletable": true,
    "editable": true
   },
   "outputs": [],
   "source": [
    "file = path.join(\"..\", \"data\", \"processed\", \"df.csv\")\n",
    "df = pd.read_csv(file, index_col=0)"
   ]
  },
  {
   "cell_type": "code",
   "execution_count": 7,
   "metadata": {
    "collapsed": false,
    "deletable": true,
    "editable": true
   },
   "outputs": [
    {
     "name": "stdout",
     "output_type": "stream",
     "text": [
      "Total number of cycles: 29298\n",
      "Total diffs: 6690 (22.83%)\n",
      "No Pre-Ov calculated: 3152\n",
      "Different calculated value: 3538\n",
      "Accuracy: 77.16567683800942\n"
     ]
    }
   ],
   "source": [
    "no_calc = 0\n",
    "diff_calc = 0\n",
    "\n",
    "for idx, row in df.iterrows():\n",
    "    computed_L_PREOVULATION = None\n",
    "    for i in range(1, 91):\n",
    "        six_days = [row['TEMP'+str(i+j)] for j in range(0, 6)]\n",
    "        three_days = [row['TEMP'+str(i+k)] for k in range(6, 9)]\n",
    "        if min(three_days) > max(six_days):\n",
    "            computed_L_PREOVULATION = i + 5\n",
    "            break\n",
    "    if computed_L_PREOVULATION is None:\n",
    "        no_calc += 1\n",
    "    elif computed_L_PREOVULATION != int(row.L_PREOVULATION):\n",
    "        diff_calc += 1\n",
    "total_errors = no_calc + diff_calc\n",
    "print(\"Total number of cycles: {}\".format(len(df)))\n",
    "print(\"Total diffs: {} ({:5.2f}%)\".format(total_errors, total_errors / len(df) * 100))\n",
    "print(\"No Pre-Ov calculated: {}\".format(no_calc))\n",
    "print(\"Different calculated value: {}\".format(diff_calc))\n",
    "print(\"Accuracy: {}\".format(100 * (1 - total_errors / len(df))))"
   ]
  },
  {
   "cell_type": "markdown",
   "metadata": {
    "deletable": true,
    "editable": true
   },
   "source": [
    "Even with hindsight, this method isn't fantastic. <80% accuracy, after the fact?"
   ]
  },
  {
   "cell_type": "code",
   "execution_count": 9,
   "metadata": {
    "collapsed": false,
    "deletable": true,
    "editable": true
   },
   "outputs": [
    {
     "name": "stdout",
     "output_type": "stream",
     "text": [
      "Total number of cycles: 29298\n",
      "Total big diffs: 5650 (19.28%)\n",
      "No Pre-Ov calculated: 3152\n",
      "Difference greater than 1: 2498\n",
      "Softened accuracy: 80.71540719503038\n"
     ]
    }
   ],
   "source": [
    "no_calc = 0\n",
    "diff_calc = 0\n",
    "\n",
    "for idx, row in df.iterrows():\n",
    "    computed_L_PREOVULATION = None\n",
    "    for i in range(1, 91):\n",
    "        six_days = [row['TEMP'+str(i+j)] for j in range(0, 6)]\n",
    "        three_days = [row['TEMP'+str(i+k)] for k in range(6, 9)]\n",
    "        if min(three_days) > max(six_days):\n",
    "            computed_L_PREOVULATION = i + 5\n",
    "            break\n",
    "    if computed_L_PREOVULATION is None:\n",
    "        no_calc += 1\n",
    "    elif abs(computed_L_PREOVULATION - int(row.L_PREOVULATION)) > 1:\n",
    "        diff_calc += 1\n",
    "total_errors = no_calc + diff_calc\n",
    "print(\"Total number of cycles: {}\".format(len(df)))\n",
    "print(\"Total big diffs: {} ({:5.2f}%)\".format(total_errors, total_errors / len(df) * 100))\n",
    "print(\"No Pre-Ov calculated: {}\".format(no_calc))\n",
    "print(\"Difference greater than 1: {}\".format(diff_calc))\n",
    "print(\"Softened accuracy: {}\".format(100 * (1 - total_errors / len(df))))"
   ]
  },
  {
   "cell_type": "markdown",
   "metadata": {
    "deletable": true,
    "editable": true
   },
   "source": [
    "And it doesn't improve much when we relax the problem, so that it can be one day off. Grrrr."
   ]
  },
  {
   "cell_type": "markdown",
   "metadata": {
    "collapsed": true,
    "deletable": true,
    "editable": true
   },
   "source": [
    "---\n",
    "### The bottom line\n",
    "\n",
    "The dataset defines the dat"
   ]
  }
 ],
 "metadata": {
  "anaconda-cloud": {},
  "kernelspec": {
   "display_name": "Python [default]",
   "language": "python",
   "name": "python3"
  },
  "language_info": {
   "codemirror_mode": {
    "name": "ipython",
    "version": 3
   },
   "file_extension": ".py",
   "mimetype": "text/x-python",
   "name": "python",
   "nbconvert_exporter": "python",
   "pygments_lexer": "ipython3",
   "version": "3.5.2"
  }
 },
 "nbformat": 4,
 "nbformat_minor": 2
}
